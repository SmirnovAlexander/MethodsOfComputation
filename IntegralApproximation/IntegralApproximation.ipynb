{
 "cells": [
  {
   "cell_type": "markdown",
   "metadata": {},
   "source": [
    "Integral approximation (p. 52, ex. 6.8). Test function with polynomials with power of 2 and 4, test on some random function."
   ]
  },
  {
   "cell_type": "markdown",
   "metadata": {},
   "source": [
    "For given $f(x)$ count $\\int_{0}^{1} f(x) dx$ approximately by composite cubature rules:\n",
    "- left rectangles\n",
    "- trapezes\n",
    "- simpson's"
   ]
  },
  {
   "cell_type": "code",
   "execution_count": 1,
   "metadata": {},
   "outputs": [],
   "source": [
    "import numpy as np\n",
    "import pandas as pd\n",
    "\n",
    "from scipy import integrate"
   ]
  },
  {
   "cell_type": "markdown",
   "metadata": {},
   "source": [
    "# Integral approximation formulas "
   ]
  },
  {
   "cell_type": "code",
   "execution_count": 2,
   "metadata": {},
   "outputs": [],
   "source": [
    "def left_rectangles(f, N, a=0, b=1):\n",
    "    \"\"\"Composite left triangles formula.\n",
    "    \n",
    "    Args:\n",
    "        f: Function that we want to count integral from.\n",
    "        N (int): Number of partitions.\n",
    "        a, b (int, int): Bounds.\n",
    "        \n",
    "    Returns:\n",
    "        result (float): Approximate integral value.\n",
    "    \"\"\"\n",
    "    \n",
    "    # Length of part split.\n",
    "    h = (b - a) / N\n",
    "    \n",
    "    # Points.\n",
    "    x = np.array([a + (k - 1) * h for k in range(1, N + 1)])\n",
    "    \n",
    "    # Values in points.\n",
    "    y = f(x)\n",
    "    \n",
    "    # Integral value.\n",
    "    result = h * np.sum(y)\n",
    "\n",
    "    return result    "
   ]
  },
  {
   "cell_type": "code",
   "execution_count": 3,
   "metadata": {},
   "outputs": [],
   "source": [
    "def trapezes(f, N, a=0, b=1):\n",
    "    \"\"\"Composite trapezes formula.\n",
    "    \n",
    "    Args:\n",
    "        f: Function that we want to count integral from.\n",
    "        N (int): Number of partitions.\n",
    "        a, b (int, int): Bounds.\n",
    "        \n",
    "    Returns:\n",
    "        result (float): Approximate integral value.\n",
    "    \"\"\"\n",
    "    \n",
    "    # Length of part split.\n",
    "    h = (b - a) / N\n",
    "    \n",
    "    # Points.\n",
    "    x = np.linspace(a, b, N + 1)\n",
    "    \n",
    "    # Values in points.\n",
    "    y = f(x)  \n",
    "        \n",
    "    # Integral value.\n",
    "    result = (h / 2) * (y[0] + 2 * np.sum(y[1:-1]) + y[-1])\n",
    "    \n",
    "    return result    "
   ]
  },
  {
   "cell_type": "code",
   "execution_count": 4,
   "metadata": {},
   "outputs": [],
   "source": [
    "def simpson(f, N, a=0, b=1):\n",
    "    \"\"\"Composite simpson formula.\n",
    "    \n",
    "    Args:\n",
    "        f: Function that we want to count integral from.\n",
    "        N (int): Number of partitions.\n",
    "        a, b (int, int): Bounds.\n",
    "        \n",
    "    Returns:\n",
    "        result (float): Approximate integral value.\n",
    "    \"\"\"\n",
    "    \n",
    "    if N % 2 == 1:\n",
    "        raise ValueError(\"N must be an even integer.\")\n",
    "    \n",
    "    # Length of part split.\n",
    "    h = (b - a) / N\n",
    "    \n",
    "    # Points.\n",
    "    x = np.linspace(a, b, N + 1)    \n",
    "    \n",
    "    # Values in points.\n",
    "    y = f(x)\n",
    "    \n",
    "    # Integral value.\n",
    "    result = (h / 3) * np.sum(y[0:-1:2] + 4 * y[1::2] + y[2::2])\n",
    "    \n",
    "    return result    "
   ]
  },
  {
   "cell_type": "markdown",
   "metadata": {},
   "source": [
    "# Error formulas "
   ]
  },
  {
   "cell_type": "code",
   "execution_count": 5,
   "metadata": {},
   "outputs": [],
   "source": [
    "def R(f, N, d, C, M, a=0, b=1):\n",
    "    \"\"\"Calculating error rate.\n",
    "    \n",
    "    Args:\n",
    "        f: Function that we want to count integral from.\n",
    "        N (int): Number of partitions.\n",
    "        d (int): Degree of accuracy.\n",
    "        C (float): 1/2 for left rectangles.\n",
    "                   1/12 for trapeezes.\n",
    "                   1/2880 for simpson.\n",
    "        M (float): Maximum (d+1) derivative value on [a, b].\n",
    "        a, b (int, int): Bounds.\n",
    "        \n",
    "    Returns:\n",
    "        error (float): Actual error rate.\n",
    "    \"\"\"\n",
    "    \n",
    "    # Error rate.\n",
    "    error = C * (b - a) * ((b - a) / N)**(d + 1) * M\n",
    "    \n",
    "    return error"
   ]
  },
  {
   "cell_type": "code",
   "execution_count": 6,
   "metadata": {},
   "outputs": [],
   "source": [
    "def R_main(S_N, S_2N, d):\n",
    "    \"\"\"Main error part.\n",
    "    \n",
    "    Args:\n",
    "        S_N (float): cubature sum with N partitions.\n",
    "        S_2N (float): cubature sum with 2N partitions.\n",
    "        d (int): Degree of accuracy.\n",
    "        \n",
    "    Returns:\n",
    "        error (float): Main error part.\n",
    "    \"\"\"\n",
    "    \n",
    "    # Error part.\n",
    "    error = (S_2N - S_N) / (2**(d + 1) - 1)\n",
    "    \n",
    "    return error"
   ]
  },
  {
   "cell_type": "code",
   "execution_count": 7,
   "metadata": {},
   "outputs": [],
   "source": [
    "def I_adjusted(S_2N, R_m):\n",
    "    \"\"\"Richardson extrapolation.\n",
    "    \n",
    "    Args:\n",
    "        S_2N (float): cubature sum with 2N partitions.\n",
    "        R_m (float): Main error part.        \n",
    "    \"\"\"\n",
    "    \n",
    "    I_a = S_2N + R_m\n",
    "    \n",
    "    return I_a"
   ]
  },
  {
   "cell_type": "markdown",
   "metadata": {},
   "source": [
    "# Calculating parameters "
   ]
  },
  {
   "cell_type": "code",
   "execution_count": 8,
   "metadata": {},
   "outputs": [],
   "source": [
    "def calculate_params(method, f, N, d, C, M, a=0, b=1):\n",
    "    \"\"\"Calculating all params needed for table.\n",
    "   \n",
    "    Args:\n",
    "        method: How fo we count integral. Either left_rectangles,\n",
    "                trapezes, or simpson.\n",
    "        f: Function that we want to count integral from.\n",
    "        N (int): Number of partitions.\n",
    "        d (int): Degree of accuracy.\n",
    "        C (float): 1/2 for left rectangles.\n",
    "                   1/12 for trapeezes.\n",
    "                   1/2880 for simpson.\n",
    "        M (float): Maximum (d+1) derivative value on [a, b].\n",
    "        a, b (int, int): Bounds.\n",
    "        \n",
    "    Returns:\n",
    "        params (list<float>): List of needed parameters.\n",
    "    \"\"\"\n",
    "   \n",
    "    # S_N.\n",
    "    S_N = method(f=f, N=N, a=a, b=b)\n",
    "\n",
    "    # I - S_N.\n",
    "    I_S_N = I - S_N\n",
    "\n",
    "    # R_N.\n",
    "    R_N = R(f=f, N=N, d=d, C=C, M=M, a=a, b=b)\n",
    "\n",
    "    # S_2N.\n",
    "    S_2N = method(f, 2*N, a=a, b=b)\n",
    "\n",
    "    # I - S_2N.\n",
    "    I_S_2N = I - S_2N\n",
    "\n",
    "    # R_2N.\n",
    "    R_2N = R(f=f, N=2*N, d=d, C=C, M=M, a=a, b=b)\n",
    "\n",
    "    # R_main.\n",
    "    R_m = R_main(S_N, S_2N, d)\n",
    "\n",
    "    # I_adjusted.\n",
    "    I_ad = I_adjusted(S_2N, R_m)\n",
    "\n",
    "    # I - I_adjusted.\n",
    "    I_I_ad = I - I_ad\n",
    "\n",
    "    params = np.round(np.array([S_N, I_S_N, R_N, S_2N, I_S_2N, R_2N, R_m, I_ad, I_I_ad]), 5)\n",
    "    \n",
    "    return params"
   ]
  },
  {
   "cell_type": "markdown",
   "metadata": {},
   "source": [
    "# Calculating integrals"
   ]
  },
  {
   "cell_type": "markdown",
   "metadata": {},
   "source": [
    "## Squared "
   ]
  },
  {
   "cell_type": "markdown",
   "metadata": {},
   "source": [
    "Let's define $f(x)$ as $$f(x) = x^2 + 2x + 1$$"
   ]
  },
  {
   "cell_type": "code",
   "execution_count": 9,
   "metadata": {},
   "outputs": [],
   "source": [
    "def f(x):\n",
    "    return x**2 + 2*x + 1"
   ]
  },
  {
   "cell_type": "code",
   "execution_count": 10,
   "metadata": {},
   "outputs": [
    {
     "name": "stdout",
     "output_type": "stream",
     "text": [
      "Exact integral value: 2.33333\n"
     ]
    }
   ],
   "source": [
    "# Number of partitions.\n",
    "N = 2\n",
    "\n",
    "# Exact integral value.\n",
    "I = integrate.quad(f, 0, 1)[0]\n",
    "print(\"Exact integral value: {:.5f}\".format(I))\n",
    "\n",
    "# Initializing DataFrame.\n",
    "columns = [\"Метод\", \"$S_N$\", \"$I - S_N$\", \"$R_N$\", \"$S_{2N}$\", \"$I - S_{2N}$\", \"$R_{2N}$\", \"$R_{main}$\", \"$I_{ad}$\", \"$I - I_{ad}$\"]\n",
    "df = pd.DataFrame(columns = columns)"
   ]
  },
  {
   "cell_type": "markdown",
   "metadata": {},
   "source": [
    "### Left rectangles "
   ]
  },
  {
   "cell_type": "code",
   "execution_count": 11,
   "metadata": {},
   "outputs": [],
   "source": [
    "# Degree of accuracy.\n",
    "d = 0\n",
    "\n",
    "# Constant.\n",
    "C = 1/2\n",
    "\n",
    "# Maximum (d+1) derivative value on [a, b].\n",
    "M = 4"
   ]
  },
  {
   "cell_type": "code",
   "execution_count": 12,
   "metadata": {},
   "outputs": [],
   "source": [
    "left_rectangles_params = calculate_params(method=left_rectangles, f=f, N=N, d=d, C=C, M=M)\n",
    "df.loc[len(df)] = [\"Левых прям.\"] + list(left_rectangles_params)"
   ]
  },
  {
   "cell_type": "markdown",
   "metadata": {},
   "source": [
    "###  Trapezes"
   ]
  },
  {
   "cell_type": "code",
   "execution_count": 13,
   "metadata": {},
   "outputs": [],
   "source": [
    "# Degree of accuracy.\n",
    "d = 1\n",
    "\n",
    "# Constant.\n",
    "C = 1/12\n",
    "\n",
    "# Maximum (d+1) derivative value on [a, b].\n",
    "M = 2"
   ]
  },
  {
   "cell_type": "code",
   "execution_count": 14,
   "metadata": {},
   "outputs": [],
   "source": [
    "trapezes_params = calculate_params(method=trapezes, f=f, N=N, d=d, C=C, M=M)\n",
    "df.loc[len(df)] = [\"Трапеций\"] + list(trapezes_params)"
   ]
  },
  {
   "cell_type": "markdown",
   "metadata": {},
   "source": [
    "###  Simpson"
   ]
  },
  {
   "cell_type": "code",
   "execution_count": 15,
   "metadata": {},
   "outputs": [],
   "source": [
    "# Degree of accuracy.\n",
    "d = 3\n",
    "\n",
    "# Constant.\n",
    "C = 1/2880\n",
    "\n",
    "# Maximum (d+1) derivative value on [a, b].\n",
    "M = 0"
   ]
  },
  {
   "cell_type": "code",
   "execution_count": 16,
   "metadata": {},
   "outputs": [],
   "source": [
    "simpson_params = calculate_params(method=simpson, f=f, N=N, d=d, C=C, M=M)\n",
    "df.loc[len(df)] = [\"Симпсона\"] + list(simpson_params)"
   ]
  },
  {
   "cell_type": "markdown",
   "metadata": {},
   "source": [
    "### Result "
   ]
  },
  {
   "cell_type": "code",
   "execution_count": 17,
   "metadata": {},
   "outputs": [
    {
     "data": {
      "text/html": [
       "<div>\n",
       "<style scoped>\n",
       "    .dataframe tbody tr th:only-of-type {\n",
       "        vertical-align: middle;\n",
       "    }\n",
       "\n",
       "    .dataframe tbody tr th {\n",
       "        vertical-align: top;\n",
       "    }\n",
       "\n",
       "    .dataframe thead th {\n",
       "        text-align: right;\n",
       "    }\n",
       "</style>\n",
       "<table border=\"1\" class=\"dataframe\">\n",
       "  <thead>\n",
       "    <tr style=\"text-align: right;\">\n",
       "      <th></th>\n",
       "      <th>$S_N$</th>\n",
       "      <th>$I - S_N$</th>\n",
       "      <th>$R_N$</th>\n",
       "      <th>$S_{2N}$</th>\n",
       "      <th>$I - S_{2N}$</th>\n",
       "      <th>$R_{2N}$</th>\n",
       "      <th>$R_{main}$</th>\n",
       "      <th>$I_{ad}$</th>\n",
       "      <th>$I - I_{ad}$</th>\n",
       "    </tr>\n",
       "    <tr>\n",
       "      <th>Метод</th>\n",
       "      <th></th>\n",
       "      <th></th>\n",
       "      <th></th>\n",
       "      <th></th>\n",
       "      <th></th>\n",
       "      <th></th>\n",
       "      <th></th>\n",
       "      <th></th>\n",
       "      <th></th>\n",
       "    </tr>\n",
       "  </thead>\n",
       "  <tbody>\n",
       "    <tr>\n",
       "      <th>Левых прям.</th>\n",
       "      <td>1.62500</td>\n",
       "      <td>0.70833</td>\n",
       "      <td>1.00000</td>\n",
       "      <td>1.96875</td>\n",
       "      <td>0.36458</td>\n",
       "      <td>0.50000</td>\n",
       "      <td>0.34375</td>\n",
       "      <td>2.31250</td>\n",
       "      <td>0.02083</td>\n",
       "    </tr>\n",
       "    <tr>\n",
       "      <th>Трапеций</th>\n",
       "      <td>2.37500</td>\n",
       "      <td>-0.04167</td>\n",
       "      <td>0.04167</td>\n",
       "      <td>2.34375</td>\n",
       "      <td>-0.01042</td>\n",
       "      <td>0.01042</td>\n",
       "      <td>-0.01042</td>\n",
       "      <td>2.33333</td>\n",
       "      <td>0.00000</td>\n",
       "    </tr>\n",
       "    <tr>\n",
       "      <th>Симпсона</th>\n",
       "      <td>2.33333</td>\n",
       "      <td>0.00000</td>\n",
       "      <td>0.00000</td>\n",
       "      <td>2.33333</td>\n",
       "      <td>0.00000</td>\n",
       "      <td>0.00000</td>\n",
       "      <td>0.00000</td>\n",
       "      <td>2.33333</td>\n",
       "      <td>0.00000</td>\n",
       "    </tr>\n",
       "  </tbody>\n",
       "</table>\n",
       "</div>"
      ],
      "text/plain": [
       "               $S_N$  $I - S_N$    $R_N$  $S_{2N}$  $I - S_{2N}$  $R_{2N}$  \\\n",
       "Метод                                                                        \n",
       "Левых прям.  1.62500    0.70833  1.00000   1.96875       0.36458   0.50000   \n",
       "Трапеций     2.37500   -0.04167  0.04167   2.34375      -0.01042   0.01042   \n",
       "Симпсона     2.33333    0.00000  0.00000   2.33333       0.00000   0.00000   \n",
       "\n",
       "             $R_{main}$  $I_{ad}$  $I - I_{ad}$  \n",
       "Метод                                            \n",
       "Левых прям.     0.34375   2.31250       0.02083  \n",
       "Трапеций       -0.01042   2.33333       0.00000  \n",
       "Симпсона        0.00000   2.33333       0.00000  "
      ]
     },
     "metadata": {},
     "output_type": "display_data"
    }
   ],
   "source": [
    "display(df.set_index(\"Метод\"))"
   ]
  },
  {
   "cell_type": "markdown",
   "metadata": {},
   "source": [
    "## Fourth power "
   ]
  },
  {
   "cell_type": "markdown",
   "metadata": {},
   "source": [
    "Let's define $f(x)$ as $$f(x) = x^4 + 8x^3 + 3x^2 + 10x + 1$$"
   ]
  },
  {
   "cell_type": "code",
   "execution_count": 18,
   "metadata": {},
   "outputs": [],
   "source": [
    "def f(x):\n",
    "    return x**4 + 8*x**3 + 3*x**2 + 10*x + 1"
   ]
  },
  {
   "cell_type": "code",
   "execution_count": 19,
   "metadata": {},
   "outputs": [
    {
     "name": "stdout",
     "output_type": "stream",
     "text": [
      "Exact integral value: 9.20000\n"
     ]
    }
   ],
   "source": [
    "# Number of partitions.\n",
    "N = 2\n",
    "\n",
    "# Exact integral value.\n",
    "I = integrate.quad(f, 0, 1)[0]\n",
    "print(\"Exact integral value: {:.5f}\".format(I))\n",
    "\n",
    "# Initializing DataFrame.\n",
    "columns = [\"Метод\", \"$S_N$\", \"$I - S_N$\", \"$R_N$\", \"$S_{2N}$\", \"$I - S_{2N}$\", \"$R_{2N}$\", \"$R_{main}$\", \"$I_{ad}$\", \"$I - I_{ad}$\"]\n",
    "df = pd.DataFrame(columns = columns)"
   ]
  },
  {
   "cell_type": "markdown",
   "metadata": {},
   "source": [
    "### Left rectangles "
   ]
  },
  {
   "cell_type": "code",
   "execution_count": 20,
   "metadata": {},
   "outputs": [],
   "source": [
    "# Degree of accuracy.\n",
    "d = 0\n",
    "\n",
    "# Constant.\n",
    "C = 1/2\n",
    "\n",
    "# Maximum (d+1) derivative value on [a, b].\n",
    "M = 44"
   ]
  },
  {
   "cell_type": "code",
   "execution_count": 21,
   "metadata": {},
   "outputs": [],
   "source": [
    "left_rectangles_params = calculate_params(method=left_rectangles, f=f, N=N, d=d, C=C, M=M)\n",
    "df.loc[len(df)] = [\"Левых прям.\"] + list(left_rectangles_params)"
   ]
  },
  {
   "cell_type": "markdown",
   "metadata": {},
   "source": [
    "###  Trapezes"
   ]
  },
  {
   "cell_type": "code",
   "execution_count": 22,
   "metadata": {},
   "outputs": [],
   "source": [
    "# Degree of accuracy.\n",
    "d = 1\n",
    "\n",
    "# Constant.\n",
    "C = 1/12\n",
    "\n",
    "# Maximum (d+1) derivative value on [a, b].\n",
    "M = 66"
   ]
  },
  {
   "cell_type": "code",
   "execution_count": 23,
   "metadata": {},
   "outputs": [],
   "source": [
    "trapezes_params = calculate_params(method=trapezes, f=f, N=N, d=d, C=C, M=M)\n",
    "df.loc[len(df)] = [\"Трапеций\"] + list(trapezes_params)"
   ]
  },
  {
   "cell_type": "markdown",
   "metadata": {},
   "source": [
    "###  Simpson"
   ]
  },
  {
   "cell_type": "code",
   "execution_count": 24,
   "metadata": {},
   "outputs": [],
   "source": [
    "# Degree of accuracy.\n",
    "d = 3\n",
    "\n",
    "# Constant.\n",
    "C = 1/2880\n",
    "\n",
    "# Maximum (d+1) derivative value on [a, b].\n",
    "M = 24"
   ]
  },
  {
   "cell_type": "code",
   "execution_count": 25,
   "metadata": {},
   "outputs": [],
   "source": [
    "simpson_params = calculate_params(method=simpson, f=f, N=N, d=d, C=C, M=M)\n",
    "df.loc[len(df)] = [\"Симпсона\"] + list(simpson_params)"
   ]
  },
  {
   "cell_type": "markdown",
   "metadata": {},
   "source": [
    "### Result "
   ]
  },
  {
   "cell_type": "code",
   "execution_count": 26,
   "metadata": {},
   "outputs": [
    {
     "data": {
      "text/html": [
       "<div>\n",
       "<style scoped>\n",
       "    .dataframe tbody tr th:only-of-type {\n",
       "        vertical-align: middle;\n",
       "    }\n",
       "\n",
       "    .dataframe tbody tr th {\n",
       "        vertical-align: top;\n",
       "    }\n",
       "\n",
       "    .dataframe thead th {\n",
       "        text-align: right;\n",
       "    }\n",
       "</style>\n",
       "<table border=\"1\" class=\"dataframe\">\n",
       "  <thead>\n",
       "    <tr style=\"text-align: right;\">\n",
       "      <th></th>\n",
       "      <th>$S_N$</th>\n",
       "      <th>$I - S_N$</th>\n",
       "      <th>$R_N$</th>\n",
       "      <th>$S_{2N}$</th>\n",
       "      <th>$I - S_{2N}$</th>\n",
       "      <th>$R_{2N}$</th>\n",
       "      <th>$R_{main}$</th>\n",
       "      <th>$I_{ad}$</th>\n",
       "      <th>$I - I_{ad}$</th>\n",
       "    </tr>\n",
       "    <tr>\n",
       "      <th>Метод</th>\n",
       "      <th></th>\n",
       "      <th></th>\n",
       "      <th></th>\n",
       "      <th></th>\n",
       "      <th></th>\n",
       "      <th></th>\n",
       "      <th></th>\n",
       "      <th></th>\n",
       "      <th></th>\n",
       "    </tr>\n",
       "  </thead>\n",
       "  <tbody>\n",
       "    <tr>\n",
       "      <th>Левых прям.</th>\n",
       "      <td>4.40625</td>\n",
       "      <td>4.79375</td>\n",
       "      <td>11.00000</td>\n",
       "      <td>6.62695</td>\n",
       "      <td>2.57305</td>\n",
       "      <td>5.50000</td>\n",
       "      <td>2.22070</td>\n",
       "      <td>8.84766</td>\n",
       "      <td>0.35234</td>\n",
       "    </tr>\n",
       "    <tr>\n",
       "      <th>Трапеций</th>\n",
       "      <td>9.90625</td>\n",
       "      <td>-0.70625</td>\n",
       "      <td>1.37500</td>\n",
       "      <td>9.37695</td>\n",
       "      <td>-0.17695</td>\n",
       "      <td>0.34375</td>\n",
       "      <td>-0.17643</td>\n",
       "      <td>9.20052</td>\n",
       "      <td>-0.00052</td>\n",
       "    </tr>\n",
       "    <tr>\n",
       "      <th>Симпсона</th>\n",
       "      <td>9.20833</td>\n",
       "      <td>-0.00833</td>\n",
       "      <td>0.00052</td>\n",
       "      <td>9.20052</td>\n",
       "      <td>-0.00052</td>\n",
       "      <td>0.00003</td>\n",
       "      <td>-0.00052</td>\n",
       "      <td>9.20000</td>\n",
       "      <td>0.00000</td>\n",
       "    </tr>\n",
       "  </tbody>\n",
       "</table>\n",
       "</div>"
      ],
      "text/plain": [
       "               $S_N$  $I - S_N$     $R_N$  $S_{2N}$  $I - S_{2N}$  $R_{2N}$  \\\n",
       "Метод                                                                         \n",
       "Левых прям.  4.40625    4.79375  11.00000   6.62695       2.57305   5.50000   \n",
       "Трапеций     9.90625   -0.70625   1.37500   9.37695      -0.17695   0.34375   \n",
       "Симпсона     9.20833   -0.00833   0.00052   9.20052      -0.00052   0.00003   \n",
       "\n",
       "             $R_{main}$  $I_{ad}$  $I - I_{ad}$  \n",
       "Метод                                            \n",
       "Левых прям.     2.22070   8.84766       0.35234  \n",
       "Трапеций       -0.17643   9.20052      -0.00052  \n",
       "Симпсона       -0.00052   9.20000       0.00000  "
      ]
     },
     "metadata": {},
     "output_type": "display_data"
    }
   ],
   "source": [
    "display(df.set_index(\"Метод\"))"
   ]
  },
  {
   "cell_type": "markdown",
   "metadata": {},
   "source": [
    "## Fraction"
   ]
  },
  {
   "cell_type": "markdown",
   "metadata": {},
   "source": [
    "Let's define $f(x)$ as $$f(x) = \\frac{1}{x^2 + 1}$$"
   ]
  },
  {
   "cell_type": "code",
   "execution_count": 27,
   "metadata": {},
   "outputs": [],
   "source": [
    "def f(x):\n",
    "    return 1 / (x**2 + 1)"
   ]
  },
  {
   "cell_type": "code",
   "execution_count": 28,
   "metadata": {},
   "outputs": [
    {
     "name": "stdout",
     "output_type": "stream",
     "text": [
      "Exact integral value: 0.78540\n"
     ]
    }
   ],
   "source": [
    "# Number of partitions.\n",
    "N = 2\n",
    "\n",
    "# Exact integral value.\n",
    "I = integrate.quad(f, 0, 1)[0]\n",
    "print(\"Exact integral value: {:.5f}\".format(I))\n",
    "\n",
    "# Initializing DataFrame.\n",
    "columns = [\"Метод\", \"$S_N$\", \"$I - S_N$\", \"$R_N$\", \"$S_{2N}$\", \"$I - S_{2N}$\", \"$R_{2N}$\", \"$R_{main}$\", \"$I_{ad}$\", \"$I - I_{ad}$\"]\n",
    "df = pd.DataFrame(columns = columns)"
   ]
  },
  {
   "cell_type": "markdown",
   "metadata": {},
   "source": [
    "### Left rectangles "
   ]
  },
  {
   "cell_type": "code",
   "execution_count": 29,
   "metadata": {},
   "outputs": [],
   "source": [
    "# Degree of accuracy.\n",
    "d = 0\n",
    "\n",
    "# Constant.\n",
    "C = 1/2\n",
    "\n",
    "# Maximum (d+1) derivative value on [a, b].\n",
    "M = 0"
   ]
  },
  {
   "cell_type": "code",
   "execution_count": 30,
   "metadata": {},
   "outputs": [],
   "source": [
    "left_rectangles_params = calculate_params(method=left_rectangles, f=f, N=N, d=d, C=C, M=M)\n",
    "df.loc[len(df)] = [\"Левых прям.\"] + list(left_rectangles_params)"
   ]
  },
  {
   "cell_type": "markdown",
   "metadata": {},
   "source": [
    "###  Trapezes"
   ]
  },
  {
   "cell_type": "code",
   "execution_count": 31,
   "metadata": {},
   "outputs": [],
   "source": [
    "# Degree of accuracy.\n",
    "d = 1\n",
    "\n",
    "# Constant.\n",
    "C = 1/12\n",
    "\n",
    "# Maximum (d+1) derivative value on [a, b].\n",
    "M = 0.5"
   ]
  },
  {
   "cell_type": "code",
   "execution_count": 32,
   "metadata": {},
   "outputs": [],
   "source": [
    "trapezes_params = calculate_params(method=trapezes, f=f, N=N, d=d, C=C, M=M)\n",
    "df.loc[len(df)] = [\"Трапеций\"] + list(trapezes_params)"
   ]
  },
  {
   "cell_type": "markdown",
   "metadata": {},
   "source": [
    "###  Simpson"
   ]
  },
  {
   "cell_type": "code",
   "execution_count": 33,
   "metadata": {},
   "outputs": [],
   "source": [
    "# Degree of accuracy.\n",
    "d = 3\n",
    "\n",
    "# Constant.\n",
    "C = 1/2880\n",
    "\n",
    "# Maximum (d+1) derivative value on [a, b].\n",
    "M = 24"
   ]
  },
  {
   "cell_type": "code",
   "execution_count": 34,
   "metadata": {},
   "outputs": [],
   "source": [
    "simpson_params = calculate_params(method=simpson, f=f, N=N, d=d, C=C, M=M)\n",
    "df.loc[len(df)] = [\"Симпсона\"] + list(simpson_params)"
   ]
  },
  {
   "cell_type": "markdown",
   "metadata": {},
   "source": [
    "### Result "
   ]
  },
  {
   "cell_type": "code",
   "execution_count": 35,
   "metadata": {},
   "outputs": [
    {
     "data": {
      "text/html": [
       "<div>\n",
       "<style scoped>\n",
       "    .dataframe tbody tr th:only-of-type {\n",
       "        vertical-align: middle;\n",
       "    }\n",
       "\n",
       "    .dataframe tbody tr th {\n",
       "        vertical-align: top;\n",
       "    }\n",
       "\n",
       "    .dataframe thead th {\n",
       "        text-align: right;\n",
       "    }\n",
       "</style>\n",
       "<table border=\"1\" class=\"dataframe\">\n",
       "  <thead>\n",
       "    <tr style=\"text-align: right;\">\n",
       "      <th></th>\n",
       "      <th>$S_N$</th>\n",
       "      <th>$I - S_N$</th>\n",
       "      <th>$R_N$</th>\n",
       "      <th>$S_{2N}$</th>\n",
       "      <th>$I - S_{2N}$</th>\n",
       "      <th>$R_{2N}$</th>\n",
       "      <th>$R_{main}$</th>\n",
       "      <th>$I_{ad}$</th>\n",
       "      <th>$I - I_{ad}$</th>\n",
       "    </tr>\n",
       "    <tr>\n",
       "      <th>Метод</th>\n",
       "      <th></th>\n",
       "      <th></th>\n",
       "      <th></th>\n",
       "      <th></th>\n",
       "      <th></th>\n",
       "      <th></th>\n",
       "      <th></th>\n",
       "      <th></th>\n",
       "      <th></th>\n",
       "    </tr>\n",
       "  </thead>\n",
       "  <tbody>\n",
       "    <tr>\n",
       "      <th>Левых прям.</th>\n",
       "      <td>0.90000</td>\n",
       "      <td>-0.11460</td>\n",
       "      <td>0.00000</td>\n",
       "      <td>0.84529</td>\n",
       "      <td>-0.05990</td>\n",
       "      <td>0.00000</td>\n",
       "      <td>-0.05471</td>\n",
       "      <td>0.79059</td>\n",
       "      <td>-0.00519</td>\n",
       "    </tr>\n",
       "    <tr>\n",
       "      <th>Трапеций</th>\n",
       "      <td>0.77500</td>\n",
       "      <td>0.01040</td>\n",
       "      <td>0.01042</td>\n",
       "      <td>0.78279</td>\n",
       "      <td>0.00260</td>\n",
       "      <td>0.00260</td>\n",
       "      <td>0.00260</td>\n",
       "      <td>0.78539</td>\n",
       "      <td>0.00001</td>\n",
       "    </tr>\n",
       "    <tr>\n",
       "      <th>Симпсона</th>\n",
       "      <td>0.78333</td>\n",
       "      <td>0.00206</td>\n",
       "      <td>0.00052</td>\n",
       "      <td>0.78539</td>\n",
       "      <td>0.00001</td>\n",
       "      <td>0.00003</td>\n",
       "      <td>0.00014</td>\n",
       "      <td>0.78553</td>\n",
       "      <td>-0.00013</td>\n",
       "    </tr>\n",
       "  </tbody>\n",
       "</table>\n",
       "</div>"
      ],
      "text/plain": [
       "               $S_N$  $I - S_N$    $R_N$  $S_{2N}$  $I - S_{2N}$  $R_{2N}$  \\\n",
       "Метод                                                                        \n",
       "Левых прям.  0.90000   -0.11460  0.00000   0.84529      -0.05990   0.00000   \n",
       "Трапеций     0.77500    0.01040  0.01042   0.78279       0.00260   0.00260   \n",
       "Симпсона     0.78333    0.00206  0.00052   0.78539       0.00001   0.00003   \n",
       "\n",
       "             $R_{main}$  $I_{ad}$  $I - I_{ad}$  \n",
       "Метод                                            \n",
       "Левых прям.    -0.05471   0.79059      -0.00519  \n",
       "Трапеций        0.00260   0.78539       0.00001  \n",
       "Симпсона        0.00014   0.78553      -0.00013  "
      ]
     },
     "metadata": {},
     "output_type": "display_data"
    }
   ],
   "source": [
    "display(df.set_index(\"Метод\"))"
   ]
  }
 ],
 "metadata": {
  "hide_input": false,
  "kernelspec": {
   "display_name": "Python 3",
   "language": "python",
   "name": "python3"
  },
  "language_info": {
   "codemirror_mode": {
    "name": "ipython",
    "version": 3
   },
   "file_extension": ".py",
   "mimetype": "text/x-python",
   "name": "python",
   "nbconvert_exporter": "python",
   "pygments_lexer": "ipython3",
   "version": "3.7.4"
  },
  "toc": {
   "base_numbering": 1,
   "nav_menu": {},
   "number_sections": true,
   "sideBar": true,
   "skip_h1_title": false,
   "title_cell": "Table of Contents",
   "title_sidebar": "Contents",
   "toc_cell": false,
   "toc_position": {
    "height": "calc(100% - 180px)",
    "left": "10px",
    "top": "150px",
    "width": "384px"
   },
   "toc_section_display": true,
   "toc_window_display": true
  }
 },
 "nbformat": 4,
 "nbformat_minor": 2
}
