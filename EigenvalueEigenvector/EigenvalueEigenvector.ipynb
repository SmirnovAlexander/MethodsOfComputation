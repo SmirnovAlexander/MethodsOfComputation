{
 "cells": [
  {
   "cell_type": "markdown",
   "metadata": {},
   "source": [
    "Find eigenvalue and eigenvectors (Book 1, p. 118, ex. 13.8)."
   ]
  },
  {
   "cell_type": "code",
   "execution_count": 1,
   "metadata": {},
   "outputs": [],
   "source": [
    "import numpy as np\n",
    "from numpy.linalg import eig, norm\n",
    "\n",
    "import pandas as pd"
   ]
  },
  {
   "cell_type": "markdown",
   "metadata": {},
   "source": [
    "# Common parts"
   ]
  },
  {
   "cell_type": "code",
   "execution_count": 2,
   "metadata": {},
   "outputs": [],
   "source": [
    "# Initial test matrix.\n",
    "A = np.array([[-0.81417, -0.01937,  0.41372],\n",
    "              [-0.01937,  0.54414,  0.00590],\n",
    "              [ 0.41372,  0.00590, -0.81445]])"
   ]
  },
  {
   "cell_type": "code",
   "execution_count": 3,
   "metadata": {},
   "outputs": [],
   "source": [
    "def eigenvalue_find(A, v):\n",
    "    Av = A.dot(v)\n",
    "    return v.dot(Av)\n",
    "\n",
    "def aposterior_error(A, eigenvalue, eigenvalue_predicted, eigenvector_predicted):\n",
    "    \"\"\"Calculating aposterior error of eigenvalue finding. \n",
    "    \n",
    "    Args:\n",
    "        A (ndarray<ndarray, ndarray>): matrix to handle.\n",
    "        eigenvalue (float): true eigenvalue. \n",
    "        eigenvalue_predicted (float): eigenvalue we want to test. \n",
    "        eigenvector_predicted (ndarray<float>): eigenvector that corresponds to eigenvalu we want to test. \n",
    "    \n",
    "    Returns:\n",
    "        error (float): aposterior error. \n",
    "    \"\"\"\n",
    "    error = (norm(np.dot(A, eigenvector_predicted) - np.dot(eigenvalue_predicted, eigenvector_predicted)) /\n",
    "             norm(eigenvector_predicted))\n",
    "    return error"
   ]
  },
  {
   "cell_type": "markdown",
   "metadata": {},
   "source": [
    "# Jacobi method"
   ]
  },
  {
   "cell_type": "code",
   "execution_count": 4,
   "metadata": {},
   "outputs": [],
   "source": [
    "def jacobi_eigenvalue(A, eps=1e-6):\n",
    "    \"\"\"Computes the eigenvalues and eigenvectors using Jacobi rotation method. \n",
    "    \n",
    "    Args:\n",
    "        A (ndarray<ndarray, ndarray>): matrix to handle.\n",
    "        eps (float): error rate.\n",
    "\n",
    "    Returns:\n",
    "        d (ndarray): eigenvalues.\n",
    "        v (ndarray<ndarray, ndarray>): eigenvectors.\n",
    "        it_num (int): number of iterations.\n",
    "    \"\"\"\n",
    "  \n",
    "    n = A.shape[0]\n",
    "    \n",
    "    v = np.zeros([n, n])\n",
    "    d = np.zeros(n)\n",
    "    \n",
    "    for j in range(0, n):\n",
    "        for i in range(0, n):\n",
    "            v[i,j] = 0.0\n",
    "        v[j,j] = 1.0\n",
    "  \n",
    "    for i in range(0, n):\n",
    "        d[i] = A[i,i]\n",
    "  \n",
    "    bw = np.zeros(n)\n",
    "    zw = np.zeros(n)\n",
    "    w = np.zeros(n)\n",
    "  \n",
    "    for i in range(0, n):\n",
    "        bw[i] = d[i]\n",
    "  \n",
    "    it_num = 0\n",
    "    rot_num = 0\n",
    "    \n",
    "    thresh = 0.0\n",
    "    for j in range(0, n):\n",
    "        for i in range(0, j):\n",
    "            if np.abs(A[i, j]) > thresh:\n",
    "                thresh = np.abs(A[i, j])\n",
    "  \n",
    "    while (thresh >= eps):\n",
    "  \n",
    "        it_num += 1\n",
    "    \n",
    "        thresh = 0.0\n",
    "        for j in range(0, n):\n",
    "            for i in range(0, j):\n",
    "                if np.abs(A[i, j]) > thresh:\n",
    "                    thresh = np.abs(A[i, j])\n",
    "  \n",
    "        for p in range(0, n):\n",
    "            for q in range(p + 1, n):\n",
    "                \n",
    "                gapq = 10.0 * abs (A[p, q])\n",
    "                termp = gapq + abs (d[p])\n",
    "                termq = gapq + abs (d[q])\n",
    "  \n",
    "                # Annihilate tiny offdiagonal elements.\n",
    "                if (4 < it_num and termp == abs (d[p]) and termq == abs (d[q])):\n",
    "                    A[p, q] = 0.0\n",
    "    \n",
    "                # Other  wise, apply a rotation.\n",
    "                elif (thresh <= abs (A[p, q])):\n",
    "                    h = d[q] - d[p]\n",
    "                    term = abs (h) + gapq\n",
    "  \n",
    "                    if (term == abs (h)):\n",
    "                        t = A[p, q] / h\n",
    "                    else:\n",
    "                        theta = 0.5 * h / A[p, q]\n",
    "                        t = 1.0 / (abs (theta) + np.sqrt (1.0 + theta * theta))\n",
    "                        if (theta < 0.0):\n",
    "                            t = - t\n",
    "  \n",
    "                    c = 1.0 / np.sqrt (1.0 + t * t)\n",
    "                    s = t * c\n",
    "                    tau = s / (1.0 + c)\n",
    "                    h = t * A[p, q]\n",
    "    \n",
    "                    # Accumulate corrections to diagonal elements.\n",
    "                    zw[p] = zw[p] - h                  \n",
    "                    zw[q] = zw[q] + h\n",
    "                    d[p] = d[p] - h\n",
    "                    d[q] = d[q] + h\n",
    "  \n",
    "                    A[p, q] = 0.0\n",
    "    \n",
    "                    # Rotate, using information from the upper triangle of A only.\n",
    "                    for j in range(0, p):\n",
    "                        g = A[j, p]\n",
    "                        h = A[j, q]\n",
    "                        A[j, p] = g - s * (h + g * tau)\n",
    "                        A[j, q] = h + s * (g - h * tau)\n",
    "  \n",
    "                    for j in range(p + 1, q):\n",
    "                        g = A[p, j]\n",
    "                        h = A[j, q]\n",
    "                        A[p, j] = g - s * (h + g * tau)\n",
    "                        A[j, q] = h + s * (g - h * tau)\n",
    "  \n",
    "                    for j in range(q + 1, n):\n",
    "                        g = A[p, j]\n",
    "                        h = A[q, j]\n",
    "                        A[p, j] = g - s * (h + g * tau)\n",
    "                        A[q, j] = h + s * (g - h * tau)\n",
    "    \n",
    "                    # Accumulate information in the eigenvector matrix.\n",
    "                    for j in range(0, n):\n",
    "                        g = v[j, p]\n",
    "                        h = v[j, q]\n",
    "                        v[j, p] = g - s * (h + g * tau)\n",
    "                        v[j, q] = h + s * (g - h * tau)\n",
    "  \n",
    "                    rot_num = rot_num + 1\n",
    "  \n",
    "        for i in range(0, n):\n",
    "            bw[i] = bw[i] + zw[i]\n",
    "            d[i] = bw[i]\n",
    "            zw[i] = 0.0\n",
    "    \n",
    "    # Restore upper triangle of input matrix.\n",
    "    for j in range(0, n):\n",
    "        for i in range(0, j):\n",
    "            A[i, j] = A[j, i]\n",
    "  \n",
    "    # Ascending sort the eigenvalues and eigenvectors.\n",
    "    for k in range(0, n - 1):\n",
    "        m = k\n",
    "        for l in range(k + 1, n):\n",
    "            if (d[l] < d[m]):\n",
    "                m = l\n",
    "  \n",
    "        if (k != m):\n",
    "            t    = d[m]\n",
    "            d[m] = d[k]\n",
    "            d[k] = t\n",
    "  \n",
    "            for i in range(0, n):\n",
    "                w[i]   = v[i, m]\n",
    "                v[i, m] = v[i, k]\n",
    "                v[i, k] = w[i]\n",
    "  \n",
    "    return d, v, it_num"
   ]
  },
  {
   "cell_type": "markdown",
   "metadata": {},
   "source": [
    "### Jacobi method test"
   ]
  },
  {
   "cell_type": "code",
   "execution_count": 5,
   "metadata": {},
   "outputs": [
    {
     "name": "stdout",
     "output_type": "stream",
     "text": [
      "\n",
      "Eigenvalues: \n",
      "[-1.22821015 -0.40068602  0.54441617]\n",
      "\n",
      "Eigenvectors: \n",
      "[[-7.07033278e-01  7.07036576e-01 -1.42556742e-02]\n",
      " [-1.00810634e-02  1.00795044e-02  9.99898383e-01]\n",
      " [ 7.07108419e-01  7.07105144e-01  1.13550152e-06]]\n",
      "\n",
      "Number of iterations: \n",
      "5\n"
     ]
    }
   ],
   "source": [
    "values, vectors, it_num = jacobi_eigenvalue(A)\n",
    "\n",
    "print(\"\\nEigenvalues: \\n{}\".format(values))\n",
    "print(\"\\nEigenvectors: \\n{}\".format(vectors))\n",
    "print(\"\\nNumber of iterations: \\n{}\".format(it_num))"
   ]
  },
  {
   "cell_type": "markdown",
   "metadata": {},
   "source": [
    "# Power iterations method."
   ]
  },
  {
   "cell_type": "code",
   "execution_count": 6,
   "metadata": {},
   "outputs": [],
   "source": [
    "def power_iteration(A, k):\n",
    "    \"\"\"Calculating dominant eigenvalue and eigenvector using power iteration method. \n",
    "    \n",
    "    Args:\n",
    "        A (ndarray<ndarray, ndarray>): matrix to handle.\n",
    "        k (int): number of iterations.\n",
    "        \n",
    "    Returns:\n",
    "        ev_new (float): dominant eigenvalue. \n",
    "        v_new (ndarray<float>): dominant eigenvector. \n",
    "    \"\"\"\n",
    "    n = A.shape[0]\n",
    "\n",
    "    v = np.ones(n) / np.sqrt(n)\n",
    "    ev = eigenvalue_find(A, v)\n",
    "\n",
    "    for i in range(k):\n",
    "\n",
    "        Av = A.dot(v)\n",
    "\n",
    "        v_new = Av / np.linalg.norm(Av)\n",
    "        ev_new = eigenvalue_find(A, v_new)\n",
    "\n",
    "        v = v_new\n",
    "        ev = ev_new\n",
    "\n",
    "    return ev_new, v_new"
   ]
  },
  {
   "cell_type": "code",
   "execution_count": 7,
   "metadata": {},
   "outputs": [],
   "source": [
    "def power_iteration_stats(A, eigenvalue, eps=1e-3):\n",
    "    \"\"\"Calculating number of iterations to reach given aposterior error.\n",
    "    \n",
    "    Args:\n",
    "        A (ndarray<ndarray, ndarray>): matrix to handle.\n",
    "        eigenvalue (float): true eigenvalue.\n",
    "        eps (float): error to reach.\n",
    "        \n",
    "    Returns:\n",
    "         k (int): number of iteraions to reach eps error.\n",
    "         error (float): result aposterior error.\n",
    "    \"\"\"\n",
    "\n",
    "    k = 1\n",
    "    \n",
    "    eigenvalue_predicted, eigenvector_predicted = power_iteration(A, k)\n",
    "    error = aposterior_error(A, eigenvalue, eigenvalue_predicted, eigenvector_predicted)\n",
    "    \n",
    "    while (error > eps):\n",
    "        k  += 1\n",
    "        \n",
    "        eigenvalue_predicted, eigenvector_predicted = power_iteration(A, k)\n",
    "        error = aposterior_error(A, eigenvalue, eigenvalue_predicted, eigenvector_predicted)\n",
    "        \n",
    "    return k, error"
   ]
  },
  {
   "cell_type": "markdown",
   "metadata": {},
   "source": [
    "### Power iterations method test"
   ]
  },
  {
   "cell_type": "code",
   "execution_count": 8,
   "metadata": {},
   "outputs": [
    {
     "name": "stdout",
     "output_type": "stream",
     "text": [
      "\n",
      "Dominant eigenvalue: \n",
      "-1.2282097191128667\n",
      "\n",
      "Dominant eigenvector: \n",
      "[-0.70704531 -0.00958763  0.70710325]\n",
      "\n",
      "Number of iterations to reach given aposterior error: \n",
      "15\n",
      "\n",
      "Result error: \n",
      "0.0008749131534185878\n"
     ]
    }
   ],
   "source": [
    "eigenvalue = eig(A)[0][np.argmax(np.abs(eig(A)[0]))]\n",
    "\n",
    "k, error = power_iteration_stats(A, eigenvalue)\n",
    "dominant_eigenvalue, dominant_eigenvector = power_iteration(A, k)\n",
    "\n",
    "print(\"\\nDominant eigenvalue: \\n{}\".format(dominant_eigenvalue))\n",
    "print(\"\\nDominant eigenvector: \\n{}\".format(dominant_eigenvector))\n",
    "print(\"\\nNumber of iterations to reach given aposterior error: \\n{}\".format(k))\n",
    "print(\"\\nResult error: \\n{}\".format(error))"
   ]
  }
 ],
 "metadata": {
  "hide_input": false,
  "kernelspec": {
   "display_name": "Python 3",
   "language": "python",
   "name": "python3"
  },
  "language_info": {
   "codemirror_mode": {
    "name": "ipython",
    "version": 3
   },
   "file_extension": ".py",
   "mimetype": "text/x-python",
   "name": "python",
   "nbconvert_exporter": "python",
   "pygments_lexer": "ipython3",
   "version": "3.8.2"
  },
  "toc": {
   "base_numbering": 1,
   "nav_menu": {},
   "number_sections": true,
   "sideBar": true,
   "skip_h1_title": false,
   "title_cell": "Table of Contents",
   "title_sidebar": "Contents",
   "toc_cell": false,
   "toc_position": {
    "height": "calc(100% - 180px)",
    "left": "10px",
    "top": "150px",
    "width": "329px"
   },
   "toc_section_display": true,
   "toc_window_display": true
  }
 },
 "nbformat": 4,
 "nbformat_minor": 2
}
