{
 "cells": [
  {
   "cell_type": "markdown",
   "metadata": {},
   "source": [
    "Finite difference method for boundary value problem (Book 2, p. 10, ex. 1.5)."
   ]
  },
  {
   "cell_type": "markdown",
   "metadata": {},
   "source": [
    "# Common parts"
   ]
  },
  {
   "cell_type": "code",
   "execution_count": 18,
   "metadata": {},
   "outputs": [],
   "source": [
    "from numpy import exp, arange"
   ]
  },
  {
   "cell_type": "markdown",
   "metadata": {},
   "source": [
    "We have to solve this task:"
   ]
  },
  {
   "cell_type": "markdown",
   "metadata": {},
   "source": [
    "$-\\frac{1}{x-3} u^{\\prime \\prime}+\\left(1+\\frac{x}{2}\\right) u^{\\prime}+e^{x / 2} u=2-x, u(-1)=u(1)=0$"
   ]
  },
  {
   "cell_type": "code",
   "execution_count": 22,
   "metadata": {},
   "outputs": [],
   "source": [
    "def p(x):\n",
    "    return 1/(x-3)\n",
    "\n",
    "def q(x):\n",
    "    return 1 + x/2\n",
    "\n",
    "def r(x):\n",
    "    return exp(x/2)\n",
    "\n",
    "def f(x):\n",
    "    return 2 - x\n",
    "\n",
    "a = -1\n",
    "b = 1\n",
    "alpha = 0\n",
    "beta = 0"
   ]
  },
  {
   "cell_type": "markdown",
   "metadata": {},
   "source": [
    "# Differential equation approximation "
   ]
  },
  {
   "cell_type": "code",
   "execution_count": 23,
   "metadata": {},
   "outputs": [],
   "source": [
    "def prepare_coefficents(p, q, r, f, h, x):\n",
    "    \"\"\"Preparing equation coefficents.\n",
    "    \n",
    "    Suppose we given a boundary value problem \n",
    "    with bounds (a, b) and functions p, q, r, f. \n",
    "    We want to find values of  desired function \n",
    "    on n splits on (a, b). So we have step \n",
    "    of h=(b-a)/n. \n",
    "    Later we swap our differential formulas with\n",
    "    their approximate values and grouping \n",
    "    coeficents near y_i values.\n",
    "    \n",
    "    Args:\n",
    "        p, q, r, f (fun(x)): boundary value functions.\n",
    "        h (float): step of points we want to find values in.\n",
    "        x (float): point to calculate coefficents in.\n",
    "    \n",
    "    Returns:\n",
    "        A, B, C, G (fun(x)): coefficents near y_i values.\n",
    "    \n",
    "    \"\"\"\n",
    "    \n",
    "    A = -(p(x) / h**2) - (q(x) / 2*h)\n",
    "    B = -(2*p(x) / h**2) - r(x)\n",
    "    C = -(p(x) / h**2) + (q(x) / 2*h)\n",
    "    G = f(x)\n",
    "    \n",
    "    return A, B, C, G"
   ]
  },
  {
   "cell_type": "code",
   "execution_count": 28,
   "metadata": {},
   "outputs": [],
   "source": [
    "def solve_equation(p, q, r, f, a, b, alpha, beta, n):\n",
    "    \"\"\"Solve differential equation with boundaries.\n",
    "    \n",
    "    Args:\n",
    "        p, q, r, f (fun(x)): boundary value functions.\n",
    "        a, b (float): Bounds.\n",
    "        alpha, beta (float): Bound values.\n",
    "        n (int): Number of splits.\n",
    "    \n",
    "    Returns:\n",
    "        Y (array-like<float>): Values of desired function\n",
    "                              in (n + 1) points on (a, b)\n",
    "                              with step h=(b-a)/n.\n",
    "    \"\"\"\n",
    "    \n",
    "    h = (b - a) / n\n",
    "    points = arange(a, b + h, h)\n",
    "    \n",
    "    return h, len(points)\n",
    "    "
   ]
  },
  {
   "cell_type": "code",
   "execution_count": 15,
   "metadata": {},
   "outputs": [],
   "source": [
    "_, _, _, G = prepare_coefficents(p, q, r, f, (b-a)/10, 0.5)"
   ]
  },
  {
   "cell_type": "code",
   "execution_count": 16,
   "metadata": {},
   "outputs": [
    {
     "data": {
      "text/plain": [
       "1.5"
      ]
     },
     "execution_count": 16,
     "metadata": {},
     "output_type": "execute_result"
    }
   ],
   "source": [
    "G"
   ]
  },
  {
   "cell_type": "code",
   "execution_count": 29,
   "metadata": {},
   "outputs": [
    {
     "data": {
      "text/plain": [
       "(0.2, 11)"
      ]
     },
     "execution_count": 29,
     "metadata": {},
     "output_type": "execute_result"
    }
   ],
   "source": [
    "solve_equation(p, q, r, f, a, b, alpha, beta, 10)"
   ]
  },
  {
   "cell_type": "code",
   "execution_count": null,
   "metadata": {},
   "outputs": [],
   "source": []
  }
 ],
 "metadata": {
  "kernelspec": {
   "display_name": "Python 3",
   "language": "python",
   "name": "python3"
  },
  "language_info": {
   "codemirror_mode": {
    "name": "ipython",
    "version": 3
   },
   "file_extension": ".py",
   "mimetype": "text/x-python",
   "name": "python",
   "nbconvert_exporter": "python",
   "pygments_lexer": "ipython3",
   "version": "3.8.2"
  },
  "toc": {
   "base_numbering": 1,
   "nav_menu": {},
   "number_sections": true,
   "sideBar": true,
   "skip_h1_title": false,
   "title_cell": "Table of Contents",
   "title_sidebar": "Contents",
   "toc_cell": false,
   "toc_position": {},
   "toc_section_display": true,
   "toc_window_display": false
  }
 },
 "nbformat": 4,
 "nbformat_minor": 4
}
