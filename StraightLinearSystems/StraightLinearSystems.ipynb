{
 "cells": [
  {
   "cell_type": "markdown",
   "metadata": {},
   "source": [
    "Solve linear systems using straightforward methods (Book 1, p. 94, ex. 11.5)."
   ]
  },
  {
   "cell_type": "code",
   "execution_count": 1,
   "metadata": {},
   "outputs": [],
   "source": [
    "import numpy as np\n",
    "from numpy.linalg import solve"
   ]
  },
  {
   "cell_type": "markdown",
   "metadata": {},
   "source": [
    "# Common parts"
   ]
  },
  {
   "cell_type": "code",
   "execution_count": 2,
   "metadata": {},
   "outputs": [],
   "source": [
    "def residual(A, b, x):\n",
    "    \"\"\"Calculating solution error.\n",
    "\n",
    "    Returns:\n",
    "        res_ver (ndarray): b - Ax\n",
    "    \"\"\"\n",
    "    res_vec = b - np.dot(A, x)\n",
    "    return res_vec"
   ]
  },
  {
   "cell_type": "code",
   "execution_count": 3,
   "metadata": {},
   "outputs": [],
   "source": [
    "# Initial test matrix.\n",
    "A = np.array([[7.35272,  0.88255,  -2.270052],\n",
    "              [0.88255,  5.58351,  0.528167],\n",
    "              [-2.27005, 0.528167, 4.430329]])\n",
    "\n",
    "# Test matrix where c[0][0] = a[0][0]*10^(-8)\n",
    "C = np.array([[7.35272e-8,  0.88255,  -2.270052],\n",
    "              [0.88255,     5.58351,  0.528167],\n",
    "              [-2.27005,    0.528167, 4.430329]])\n",
    "\n",
    "b = np.array([[1.],\n",
    "              [0.],\n",
    "              [0.]])"
   ]
  },
  {
   "cell_type": "markdown",
   "metadata": {},
   "source": [
    "# Gaussian elimination"
   ]
  },
  {
   "cell_type": "code",
   "execution_count": 4,
   "metadata": {},
   "outputs": [],
   "source": [
    "def gaussian_elimination(A, b, eps=1e-5):\n",
    "    \"\"\"Solving linear system using gaussian elimination.\n",
    "\n",
    "    Args:\n",
    "        A (ndarray<ndarray, ndarray>): matrix of coefficents.\n",
    "        b (ndarray): vector of values.\n",
    "        eps (float): all values below eps equivalent to zero.\n",
    "\n",
    "    Returns:\n",
    "        x (ndarray): solution.\n",
    "    \"\"\"\n",
    "\n",
    "    # Getting matrix shape.\n",
    "    n = A.shape[0]\n",
    "\n",
    "    # Merging coefficents with values.\n",
    "    Ab = np.concatenate((A, b), axis=1)\n",
    "    print(\"\\nMerged matrix: \\n{}\".format(Ab))\n",
    "\n",
    "    # Making upper triangular matrix.\n",
    "    for k in range(0, n):\n",
    "\n",
    "        # Dividing all row alements after\n",
    "        # diagonal element on diagonal\n",
    "        # element.\n",
    "        tmp = Ab[k][k]\n",
    "        if np.abs(tmp) < eps:\n",
    "            print(\"\\nElement Ab[{}][{}]={} smaller than eps={}.\".format(\n",
    "                k, k, tmp, eps))\n",
    "        for j in range(k, n + 1):\n",
    "            Ab[k][j] = Ab[k][j] / tmp\n",
    "\n",
    "        # Substracting top element multiplied\n",
    "        # by 1st element in row from each\n",
    "        # element.\n",
    "        for i in range(k + 1, n):\n",
    "            tmp = Ab[i][k]\n",
    "            for j in range(k, n + 1):\n",
    "                Ab[i][j] = Ab[i][j] - Ab[k][j] * tmp\n",
    "\n",
    "    print(\"\\nUpper triangular matrix: \\n{}\".format(Ab))\n",
    "\n",
    "    # Solve equation for an upper\n",
    "    # triangular matrix Ab.\n",
    "    x = np.zeros((3, 1))\n",
    "    for i in range(n - 1, -1, -1):\n",
    "        x[i] = Ab[i][n] / Ab[i][i]\n",
    "        for k in range(i - 1, -1, -1):\n",
    "            Ab[k][n] -= Ab[k][i] * x[i]\n",
    "\n",
    "    print(\"\\nSolution: \\n{}\".format(x))\n",
    "\n",
    "    # Calculating error.\n",
    "    res_vec = residual(A, b, x)\n",
    "    print(\"\\nResidual vector: \\n{}\".format(res_vec))\n",
    "\n",
    "    return x"
   ]
  },
  {
   "cell_type": "markdown",
   "metadata": {},
   "source": [
    "### test 1"
   ]
  },
  {
   "cell_type": "code",
   "execution_count": 5,
   "metadata": {},
   "outputs": [
    {
     "name": "stdout",
     "output_type": "stream",
     "text": [
      "\n",
      "Merged matrix: \n",
      "[[ 7.35272   0.88255  -2.270052  1.      ]\n",
      " [ 0.88255   5.58351   0.528167  0.      ]\n",
      " [-2.27005   0.528167  4.430329  0.      ]]\n",
      "\n",
      "Upper triangular matrix: \n",
      "[[ 1.          0.12003041 -0.30873636  0.13600409]\n",
      " [ 0.          1.          0.14616723 -0.02191305]\n",
      " [ 0.          0.          1.          0.09032103]]\n",
      "\n",
      "Solution: \n",
      "[[ 0.16810435]\n",
      " [-0.03511502]\n",
      " [ 0.09032103]]\n",
      "\n",
      "Residual vector: \n",
      "[[  0.00000000e+00]\n",
      " [ -2.08166817e-17]\n",
      " [ -5.55111512e-17]]\n"
     ]
    }
   ],
   "source": [
    "_ = gaussian_elimination(A, b)"
   ]
  },
  {
   "cell_type": "markdown",
   "metadata": {},
   "source": [
    "### test 2"
   ]
  },
  {
   "cell_type": "code",
   "execution_count": 6,
   "metadata": {},
   "outputs": [
    {
     "name": "stdout",
     "output_type": "stream",
     "text": [
      "\n",
      "Merged matrix: \n",
      "[[  7.35272000e-08   8.82550000e-01  -2.27005200e+00   1.00000000e+00]\n",
      " [  8.82550000e-01   5.58351000e+00   5.28167000e-01   0.00000000e+00]\n",
      " [ -2.27005000e+00   5.28167000e-01   4.43032900e+00   0.00000000e+00]]\n",
      "\n",
      "Element Ab[0][0]=7.35272e-08 smaller than eps=1e-05.\n",
      "\n",
      "Upper triangular matrix: \n",
      "[[  1.00000000e+00   1.20030411e+07  -3.08736359e+07   1.36004091e+07]\n",
      " [  0.00000000e+00   1.00000000e+00  -2.57215256e+00   1.13308088e+00]\n",
      " [  0.00000000e+00   0.00000000e+00   1.00000000e+00  -3.82677011e-01]]\n",
      "\n",
      "Solution: \n",
      "[[-0.71223358]\n",
      " [ 0.14877722]\n",
      " [-0.38267701]]\n",
      "\n",
      "Residual vector: \n",
      "[[  0.00000000e+00]\n",
      " [  1.65219294e-09]\n",
      " [  2.11953721e-09]]\n"
     ]
    }
   ],
   "source": [
    "_ = gaussian_elimination(C, b)"
   ]
  },
  {
   "cell_type": "markdown",
   "metadata": {},
   "source": [
    "# Gaussian elimination with main element choose"
   ]
  },
  {
   "cell_type": "code",
   "execution_count": 7,
   "metadata": {},
   "outputs": [],
   "source": [
    "def gaussian_elimination_choose(A, b, type=\"col\", eps=1e-5):\n",
    "    \"\"\"Solving linear system using gaussian elimination with main element choosing.\n",
    "\n",
    "    Args:\n",
    "        A (ndarray<ndarray, ndarray>): matrix of coefficents.\n",
    "        b (ndarray): vector of values.\n",
    "        type (str): one of three: row  (choose max element within a row)\n",
    "                                  col  (choose max element within a column)\n",
    "                                  both (choose max element within both row and column)\n",
    "        eps (float): all values below eps equivalent to zero.\n",
    "\n",
    "    Returns:\n",
    "        x (ndarray): solution.\n",
    "    \"\"\"\n",
    "\n",
    "    # Getting matrix shape.\n",
    "    n = A.shape[0]\n",
    "\n",
    "    # Merging coefficents with values.\n",
    "    Ab = np.concatenate((A, b), axis=1)\n",
    "    print(\"\\nMerged matrix: \\n{}\".format(Ab))\n",
    "\n",
    "    # Making upper triangular matrix.\n",
    "    for k in range(0, n):\n",
    "\n",
    "        # Search for maximum in this column.\n",
    "        max_elem = abs(Ab[k][k])\n",
    "        max_row = k\n",
    "        for i in range(k + 1, n):\n",
    "            if abs(Ab[i][k]) > max_elem:\n",
    "                max_elem = abs(Ab[i][k])\n",
    "                max_row = i\n",
    "\n",
    "        # Swap maximum row with current row (column by column).\n",
    "        for i in range(0, n + 1):\n",
    "            tmp = Ab[max_row][i]\n",
    "            Ab[max_row][i] = Ab[k][i]\n",
    "            Ab[k][i] = tmp\n",
    "            \n",
    "        # Dividing all row alements after\n",
    "        # diagonal element on diagonal\n",
    "        # element.\n",
    "        tmp = Ab[k][k]\n",
    "        if np.abs(tmp) < eps:\n",
    "            print(\"\\nElement Ab[{}][{}]={} smaller than eps={}.\".format(\n",
    "                k, k, tmp, eps))\n",
    "        for j in range(k, n + 1):\n",
    "            Ab[k][j] = Ab[k][j] / tmp\n",
    "\n",
    "        # Substracting top element multiplied\n",
    "        # by 1st element in row from each\n",
    "        # element.\n",
    "        for i in range(k + 1, n):\n",
    "            tmp = Ab[i][k]\n",
    "            for j in range(k, n + 1):\n",
    "                Ab[i][j] = Ab[i][j] - Ab[k][j] * tmp\n",
    "\n",
    "    print(\"\\nUpper triangular matrix: \\n{}\".format(Ab))\n",
    "\n",
    "    # Solve equation for an upper\n",
    "    # triangular matrix Ab.\n",
    "    x = np.zeros((3, 1))\n",
    "    for i in range(n - 1, -1, -1):\n",
    "        x[i] = Ab[i][n] / Ab[i][i]\n",
    "        for k in range(i - 1, -1, -1):\n",
    "            Ab[k][n] -= Ab[k][i] * x[i]\n",
    "\n",
    "    print(\"\\nSolution: \\n{}\".format(x))\n",
    "\n",
    "    # Calculating error.\n",
    "    res_vec = residual(A, b, x)\n",
    "    print(\"\\nResidual vector: \\n{}\".format(res_vec))\n",
    "\n",
    "    return x"
   ]
  },
  {
   "cell_type": "markdown",
   "metadata": {},
   "source": [
    "### test 1"
   ]
  },
  {
   "cell_type": "code",
   "execution_count": 8,
   "metadata": {},
   "outputs": [
    {
     "name": "stdout",
     "output_type": "stream",
     "text": [
      "\n",
      "Merged matrix: \n",
      "[[ 7.35272   0.88255  -2.270052  1.      ]\n",
      " [ 0.88255   5.58351   0.528167  0.      ]\n",
      " [-2.27005   0.528167  4.430329  0.      ]]\n",
      "\n",
      "Upper triangular matrix: \n",
      "[[ 1.          0.12003041 -0.30873636  0.13600409]\n",
      " [ 0.          1.          0.14616723 -0.02191305]\n",
      " [ 0.          0.          1.          0.09032103]]\n",
      "\n",
      "Solution: \n",
      "[[ 0.16810435]\n",
      " [-0.03511502]\n",
      " [ 0.09032103]]\n",
      "\n",
      "Residual vector: \n",
      "[[  0.00000000e+00]\n",
      " [ -2.08166817e-17]\n",
      " [ -5.55111512e-17]]\n"
     ]
    }
   ],
   "source": [
    "_ = gaussian_elimination_choose(A, b)"
   ]
  },
  {
   "cell_type": "markdown",
   "metadata": {},
   "source": [
    "### test 2"
   ]
  },
  {
   "cell_type": "code",
   "execution_count": 9,
   "metadata": {},
   "outputs": [
    {
     "name": "stdout",
     "output_type": "stream",
     "text": [
      "\n",
      "Merged matrix: \n",
      "[[  7.35272000e-08   8.82550000e-01  -2.27005200e+00   1.00000000e+00]\n",
      " [  8.82550000e-01   5.58351000e+00   5.28167000e-01   0.00000000e+00]\n",
      " [ -2.27005000e+00   5.28167000e-01   4.43032900e+00   0.00000000e+00]]\n",
      "\n",
      "Upper triangular matrix: \n",
      "[[ 1.         -0.23266756 -1.9516438  -0.        ]\n",
      " [ 0.          1.          0.38878014  0.        ]\n",
      " [ 0.          0.          1.         -0.38267701]]\n",
      "\n",
      "Solution: \n",
      "[[-0.71223358]\n",
      " [ 0.14877722]\n",
      " [-0.38267701]]\n",
      "\n",
      "Residual vector: \n",
      "[[  0.00000000e+00]\n",
      " [ -1.11022302e-16]\n",
      " [  0.00000000e+00]]\n"
     ]
    }
   ],
   "source": [
    "_ = gaussian_elimination_choose(C, b)"
   ]
  },
  {
   "cell_type": "markdown",
   "metadata": {},
   "source": [
    "# LU decomposition"
   ]
  },
  {
   "cell_type": "code",
   "execution_count": 10,
   "metadata": {},
   "outputs": [],
   "source": [
    "def LU(A):\n",
    "    \"\"\"Making an LU matrix decomposition.\n",
    "\n",
    "    Args:\n",
    "        A (ndarray<ndarray, ndarray>): matrix to decompose.\n",
    "\n",
    "    Returns:\n",
    "        L, U (ndarray<ndarray, ndarray>): lower and upper triangular matrixes.\n",
    "    \"\"\"\n",
    "\n",
    "    # Getting matrix shape.\n",
    "    n = A.shape[0]\n",
    "    \n",
    "    # Generating empty matrixes.\n",
    "    L = np.zeros((n, n))\n",
    "    U = np.zeros((n, n))\n",
    "\n",
    "    # Counting LU coefficents.\n",
    "    for i in range(0, n):\n",
    "\n",
    "        for j in range(0, n):\n",
    "            sum = 0\n",
    "            for k in range(0, i):\n",
    "                sum += L[j][k] * U[k][i]\n",
    "            L[j][i] = A[j][i] - sum\n",
    "            \n",
    "        for j in range(0, n):\n",
    "            sum = 0\n",
    "            for k in range(0, i):\n",
    "                sum += L[i][k] * U[k][j]\n",
    "            U[i][j] = (A[i][j] - sum) / L[i][i]\n",
    "\n",
    "    return L, U"
   ]
  },
  {
   "cell_type": "code",
   "execution_count": 11,
   "metadata": {},
   "outputs": [],
   "source": [
    "def LU_system_solution(A, b):\n",
    "    \"\"\"Solving linear system using LU decomposition.\n",
    "\n",
    "    Args:\n",
    "        A (ndarray<ndarray, ndarray>): matrix of coefficents.\n",
    "        b (ndarray): vector of values.\n",
    "\n",
    "    Returns:\n",
    "        x (ndarray): solution.\n",
    "    \"\"\"\n",
    "    \n",
    "    print(\"\\nGiven matrix A: \\n{}\".format(A))\n",
    "    print(\"\\nb: \\n{}\".format(b))\n",
    "    \n",
    "    L, U = LU(A)\n",
    "    print(\"\\nL: \\n{}\".format(L))\n",
    "    print(\"\\nU: \\n{}\".format(U))\n",
    "    \n",
    "    y = solve(L, b)\n",
    "    print(\"\\ny: \\n{}\".format(y))\n",
    "    x = solve(U, y)\n",
    "    print(\"\\nSolution: \\n{}\".format(x))\n",
    "\n",
    "    # Calculating error.\n",
    "    res_vec = residual(A, b, x)\n",
    "    print(\"\\nResidual vector: \\n{}\".format(res_vec))\n",
    "    \n",
    "    return x"
   ]
  },
  {
   "cell_type": "markdown",
   "metadata": {},
   "source": [
    "### test 1"
   ]
  },
  {
   "cell_type": "code",
   "execution_count": 12,
   "metadata": {},
   "outputs": [
    {
     "name": "stdout",
     "output_type": "stream",
     "text": [
      "\n",
      "Given matrix A: \n",
      "[[ 7.35272   0.88255  -2.270052]\n",
      " [ 0.88255   5.58351   0.528167]\n",
      " [-2.27005   0.528167  4.430329]]\n",
      "\n",
      "b: \n",
      "[[ 1.]\n",
      " [ 0.]\n",
      " [ 0.]]\n",
      "\n",
      "L: \n",
      "[[ 7.35272     0.          0.        ]\n",
      " [ 0.88255     5.47757716  0.        ]\n",
      " [-2.27005     0.80064203  3.6124544 ]]\n",
      "\n",
      "U: \n",
      "[[ 1.          0.12003041 -0.30873636]\n",
      " [ 0.          1.          0.14616723]\n",
      " [ 0.          0.          1.        ]]\n",
      "\n",
      "y: \n",
      "[[ 0.13600409]\n",
      " [-0.02191305]\n",
      " [ 0.09032103]]\n",
      "\n",
      "Solution: \n",
      "[[ 0.16810435]\n",
      " [-0.03511502]\n",
      " [ 0.09032103]]\n",
      "\n",
      "Residual vector: \n",
      "[[  0.00000000e+00]\n",
      " [ -2.08166817e-17]\n",
      " [ -5.55111512e-17]]\n"
     ]
    }
   ],
   "source": [
    "_ = LU_system_solution(A, b)"
   ]
  },
  {
   "cell_type": "markdown",
   "metadata": {},
   "source": [
    "### test 2"
   ]
  },
  {
   "cell_type": "code",
   "execution_count": 13,
   "metadata": {},
   "outputs": [
    {
     "name": "stdout",
     "output_type": "stream",
     "text": [
      "\n",
      "Given matrix A: \n",
      "[[  7.35272000e-08   8.82550000e-01  -2.27005200e+00]\n",
      " [  8.82550000e-01   5.58351000e+00   5.28167000e-01]\n",
      " [ -2.27005000e+00   5.28167000e-01   4.43032900e+00]]\n",
      "\n",
      "b: \n",
      "[[ 1.]\n",
      " [ 0.]\n",
      " [ 0.]]\n",
      "\n",
      "L: \n",
      "[[  7.35272000e-08   0.00000000e+00   0.00000000e+00]\n",
      " [  8.82550000e-01  -1.05932783e+07   1.82223325e-09]\n",
      " [ -2.27005000e+00   2.72475039e+07   4.40876544e+01]]\n",
      "\n",
      "U: \n",
      "[[  1.00000000e+00   1.20030411e+07  -3.08736359e+07]\n",
      " [ -0.00000000e+00   1.00000000e+00  -2.57215256e+00]\n",
      " [  0.00000000e+00   4.13320527e-11   1.00000000e+00]]\n",
      "\n",
      "y: \n",
      "[[  1.36004091e+07]\n",
      " [  1.13308088e+00]\n",
      " [ -3.82677011e-01]]\n",
      "\n",
      "Solution: \n",
      "[[-0.71223358]\n",
      " [ 0.14877722]\n",
      " [-0.38267701]]\n",
      "\n",
      "Residual vector: \n",
      "[[ -2.22044605e-16]\n",
      " [  1.31102904e-09]\n",
      " [ -3.75871023e-09]]\n"
     ]
    }
   ],
   "source": [
    "_ = LU_system_solution(C, b)"
   ]
  },
  {
   "cell_type": "markdown",
   "metadata": {},
   "source": [
    "# Inverse matrix"
   ]
  },
  {
   "cell_type": "code",
   "execution_count": 14,
   "metadata": {},
   "outputs": [],
   "source": [
    "def inverse_matrix(A):\n",
    "    \"\"\"Inverting a matrix.\n",
    "\n",
    "    Args:\n",
    "        A (ndarray<ndarray, ndarray>): matrix to invert.\n",
    "\n",
    "    Returns:\n",
    "        X (ndarray<ndarray, ndarray>): inverse matrix.\n",
    "    \"\"\"\n",
    "    \n",
    "    # Getting matrix shape.\n",
    "    n = A.shape[0]\n",
    "    print(\"\\nGiven matrix A: \\n{}\".format(A))\n",
    "    \n",
    "    L, U = LU(A)\n",
    "    print(\"\\nL: \\n{}\".format(L))\n",
    "    print(\"\\nU: \\n{}\".format(U))\n",
    "    \n",
    "    I = np.identity(n)\n",
    "    \n",
    "    X = solve(np.dot(L, U), I)\n",
    "    print(\"\\nSolution: \\n{}\".format(X))\n",
    "    \n",
    "    check = np.dot(A, X)\n",
    "    print(\"\\nA * A^(-1): \\n{}\".format(check))\n",
    "    \n",
    "    return X"
   ]
  },
  {
   "cell_type": "code",
   "execution_count": 15,
   "metadata": {},
   "outputs": [
    {
     "name": "stdout",
     "output_type": "stream",
     "text": [
      "\n",
      "Given matrix A: \n",
      "[[ 7.35272   0.88255  -2.270052]\n",
      " [ 0.88255   5.58351   0.528167]\n",
      " [-2.27005   0.528167  4.430329]]\n",
      "\n",
      "L: \n",
      "[[ 7.35272     0.          0.        ]\n",
      " [ 0.88255     5.47757716  0.        ]\n",
      " [-2.27005     0.80064203  3.6124544 ]]\n",
      "\n",
      "U: \n",
      "[[ 1.          0.12003041 -0.30873636]\n",
      " [ 0.          1.          0.14616723]\n",
      " [ 0.          0.          1.        ]]\n",
      "\n",
      "Solution: \n",
      "[[ 0.16810435 -0.03511503  0.0903211 ]\n",
      " [-0.03511502  0.18847669 -0.04046203]\n",
      " [ 0.09032103 -0.04046202  0.2768201 ]]\n",
      "\n",
      "A * A^(-1): \n",
      "[[  1.00000000e+00   1.90535357e-17  -4.00690908e-17]\n",
      " [ -9.53110656e-18   1.00000000e+00  -2.80042633e-17]\n",
      " [ -5.39921752e-18  -4.12010219e-17   1.00000000e+00]]\n"
     ]
    }
   ],
   "source": [
    "_ = inverse_matrix(A)"
   ]
  }
 ],
 "metadata": {
  "hide_input": false,
  "kernelspec": {
   "display_name": "Python 3",
   "language": "python",
   "name": "python3"
  },
  "language_info": {
   "codemirror_mode": {
    "name": "ipython",
    "version": 3
   },
   "file_extension": ".py",
   "mimetype": "text/x-python",
   "name": "python",
   "nbconvert_exporter": "python",
   "pygments_lexer": "ipython3",
   "version": "3.8.1"
  },
  "toc": {
   "base_numbering": 1,
   "nav_menu": {},
   "number_sections": true,
   "sideBar": true,
   "skip_h1_title": false,
   "title_cell": "Table of Contents",
   "title_sidebar": "Contents",
   "toc_cell": false,
   "toc_position": {
    "height": "calc(100% - 180px)",
    "left": "10px",
    "top": "150px",
    "width": "224.261px"
   },
   "toc_section_display": true,
   "toc_window_display": true
  }
 },
 "nbformat": 4,
 "nbformat_minor": 2
}
