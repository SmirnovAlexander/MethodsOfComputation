{
 "cells": [
  {
   "cell_type": "markdown",
   "metadata": {},
   "source": [
    "Solve linear systems using straightforward methods (Book 1, p. 94, ex. 11.5)."
   ]
  },
  {
   "cell_type": "code",
   "execution_count": 1,
   "metadata": {},
   "outputs": [],
   "source": [
    "import numpy as np"
   ]
  },
  {
   "cell_type": "markdown",
   "metadata": {},
   "source": [
    "# Common parts"
   ]
  },
  {
   "cell_type": "code",
   "execution_count": 2,
   "metadata": {},
   "outputs": [],
   "source": [
    "def residual(A, b, x):\n",
    "    \"\"\"Calculating solution error.\n",
    "\n",
    "    Returns:\n",
    "        res_ver (ndarray): b - Ax\n",
    "    \"\"\"\n",
    "    res_vec = b - np.dot(A, x)\n",
    "    return res_vec"
   ]
  },
  {
   "cell_type": "code",
   "execution_count": 3,
   "metadata": {},
   "outputs": [],
   "source": [
    "# Initial test matrix.\n",
    "A = np.array([[7.35272,  0.88255,  -2.270052],\n",
    "              [0.88255,  5.58351,  0.528167],\n",
    "              [-2.27005, 0.528167, 4.430329]])\n",
    "\n",
    "# Test matrix where c[0][0] = a[0][0]*10^(-8)\n",
    "C = np.array([[7.35272e-8,  0.88255,  -2.270052],\n",
    "              [0.88255,     5.58351,  0.528167],\n",
    "              [-2.27005,    0.528167, 4.430329]])\n",
    "\n",
    "b = np.array([[1.],\n",
    "              [0.],\n",
    "              [0.]])"
   ]
  },
  {
   "cell_type": "markdown",
   "metadata": {},
   "source": [
    "# Gaussian elimination"
   ]
  },
  {
   "cell_type": "code",
   "execution_count": 4,
   "metadata": {},
   "outputs": [],
   "source": [
    "def gaussian_elimination(A, b, eps=1e-5):\n",
    "    \"\"\"Solving linear system using gaussian elimination.\n",
    "\n",
    "    Args:\n",
    "        A (ndarray<ndarray, ndarray>): matrix of coefficents.\n",
    "        b (ndarray): vector of values.\n",
    "        eps (float): all values below eps equivalent to zero.\n",
    "\n",
    "    Returns:\n",
    "        x (ndarray): solution.\n",
    "    \"\"\"\n",
    "\n",
    "    # Getting matrix shape.\n",
    "    n = A.shape[0]\n",
    "\n",
    "    # Merging coefficents with values.\n",
    "    Ab = np.concatenate((A, b), axis=1)\n",
    "    print(\"\\nMerged matrix: \\n{}\".format(Ab))\n",
    "\n",
    "    # Making upper triangular matrix.\n",
    "    for k in range(0, n):\n",
    "\n",
    "        # Dividing all row alements after\n",
    "        # diagonal element on diagonal\n",
    "        # element.\n",
    "        tmp = Ab[k][k]\n",
    "        if np.abs(tmp) < eps:\n",
    "            print(\"\\nElement Ab[{}][{}]={} smaller than eps={}.\".format(\n",
    "                k, k, tmp, eps))\n",
    "        for j in range(k, n + 1):\n",
    "            Ab[k][j] = Ab[k][j] / tmp\n",
    "\n",
    "        # Substracting top element multiplied\n",
    "        # by 1st element in row from each\n",
    "        # element.\n",
    "        for i in range(k + 1, n):\n",
    "            tmp = Ab[i][k]\n",
    "            for j in range(k, n + 1):\n",
    "                Ab[i][j] = Ab[i][j] - Ab[k][j] * tmp\n",
    "\n",
    "    print(\"\\nUpper triangular matrix: \\n{}\".format(Ab))\n",
    "\n",
    "    # Solve equation for an upper\n",
    "    # triangular matrix Ab.\n",
    "    x = np.zeros((3, 1))\n",
    "    for i in range(n - 1, -1, -1):\n",
    "        x[i] = Ab[i][n] / Ab[i][i]\n",
    "        for k in range(i - 1, -1, -1):\n",
    "            Ab[k][n] -= Ab[k][i] * x[i]\n",
    "\n",
    "    print(\"\\nSolution: \\n{}\".format(x))\n",
    "\n",
    "    # Calculating error.\n",
    "    res_vec = residual(A, b, x)\n",
    "    print(\"\\nResidual vector: \\n{}\".format(res_vec))\n",
    "\n",
    "    return x"
   ]
  },
  {
   "cell_type": "markdown",
   "metadata": {},
   "source": [
    "### test 1"
   ]
  },
  {
   "cell_type": "code",
   "execution_count": 5,
   "metadata": {},
   "outputs": [
    {
     "name": "stdout",
     "output_type": "stream",
     "text": [
      "\n",
      "Merged matrix: \n",
      "[[ 7.35272   0.88255  -2.270052  1.      ]\n",
      " [ 0.88255   5.58351   0.528167  0.      ]\n",
      " [-2.27005   0.528167  4.430329  0.      ]]\n",
      "\n",
      "Upper triangular matrix: \n",
      "[[ 1.          0.12003041 -0.30873636  0.13600409]\n",
      " [ 0.          1.          0.14616723 -0.02191305]\n",
      " [ 0.          0.          1.          0.09032103]]\n",
      "\n",
      "Solution: \n",
      "[[ 0.16810435]\n",
      " [-0.03511502]\n",
      " [ 0.09032103]]\n",
      "\n",
      "Residual vector: \n",
      "[[  0.00000000e+00]\n",
      " [ -2.08166817e-17]\n",
      " [ -5.55111512e-17]]\n"
     ]
    }
   ],
   "source": [
    "_ = gaussian_elimination(A, b)"
   ]
  },
  {
   "cell_type": "markdown",
   "metadata": {},
   "source": [
    "### test 2"
   ]
  },
  {
   "cell_type": "code",
   "execution_count": 6,
   "metadata": {},
   "outputs": [
    {
     "name": "stdout",
     "output_type": "stream",
     "text": [
      "\n",
      "Merged matrix: \n",
      "[[  7.35272000e-08   8.82550000e-01  -2.27005200e+00   1.00000000e+00]\n",
      " [  8.82550000e-01   5.58351000e+00   5.28167000e-01   0.00000000e+00]\n",
      " [ -2.27005000e+00   5.28167000e-01   4.43032900e+00   0.00000000e+00]]\n",
      "\n",
      "Element Ab[0][0]=7.35272e-08 smaller than eps=1e-05.\n",
      "\n",
      "Upper triangular matrix: \n",
      "[[  1.00000000e+00   1.20030411e+07  -3.08736359e+07   1.36004091e+07]\n",
      " [  0.00000000e+00   1.00000000e+00  -2.57215256e+00   1.13308088e+00]\n",
      " [  0.00000000e+00   0.00000000e+00   1.00000000e+00  -3.82677011e-01]]\n",
      "\n",
      "Solution: \n",
      "[[-0.71223358]\n",
      " [ 0.14877722]\n",
      " [-0.38267701]]\n",
      "\n",
      "Residual vector: \n",
      "[[  0.00000000e+00]\n",
      " [  1.65219294e-09]\n",
      " [  2.11953721e-09]]\n"
     ]
    }
   ],
   "source": [
    "_ = gaussian_elimination(C, b)"
   ]
  },
  {
   "cell_type": "code",
   "execution_count": null,
   "metadata": {},
   "outputs": [],
   "source": []
  }
 ],
 "metadata": {
  "hide_input": false,
  "kernelspec": {
   "display_name": "Python 3",
   "language": "python",
   "name": "python3"
  },
  "language_info": {
   "codemirror_mode": {
    "name": "ipython",
    "version": 3
   },
   "file_extension": ".py",
   "mimetype": "text/x-python",
   "name": "python",
   "nbconvert_exporter": "python",
   "pygments_lexer": "ipython3",
   "version": "3.8.1"
  },
  "toc": {
   "base_numbering": 1,
   "nav_menu": {},
   "number_sections": true,
   "sideBar": false,
   "skip_h1_title": false,
   "title_cell": "Table of Contents",
   "title_sidebar": "Contents",
   "toc_cell": false,
   "toc_position": {},
   "toc_section_display": true,
   "toc_window_display": false
  }
 },
 "nbformat": 4,
 "nbformat_minor": 2
}
