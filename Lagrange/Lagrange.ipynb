{
 "cells": [
  {
   "cell_type": "markdown",
   "metadata": {},
   "source": [
    "Lagrange interpolation polynomial (p. 30, ex. 2.5)."
   ]
  },
  {
   "cell_type": "code",
   "execution_count": 1,
   "metadata": {},
   "outputs": [],
   "source": [
    "from numpy import sin, arcsin, round\n",
    "import pandas as pd\n",
    "import numpy as np"
   ]
  },
  {
   "cell_type": "markdown",
   "metadata": {},
   "source": [
    "# Defining lagrange function"
   ]
  },
  {
   "cell_type": "code",
   "execution_count": 2,
   "metadata": {},
   "outputs": [],
   "source": [
    "def lagrange(f, x_list, point):\n",
    "    \"\"\"Calculating lagrange polynomial.\n",
    "    \n",
    "    Args:\n",
    "        f (function): Function to interpolate.\n",
    "        x_list (ndarray): Points to build interpolation.\n",
    "        point (float): Where to calculate interpolated function.\n",
    "        \n",
    "    Returns:\n",
    "        result (float): Interpolated function value.\n",
    "    \"\"\"\n",
    "    \n",
    "    result = 0\n",
    "    for i in range(len(x_list)):\n",
    "        numerator = 1 \n",
    "        denominator  = 1\n",
    "        for j in range(len(x_list)):\n",
    "            if j != i:\n",
    "                numerator = numerator * (point - x_list[j])\n",
    "                denominator  = denominator  * (x_list[i] - x_list[j])                   \n",
    "        result = result + f(x_list[i]) * numerator / denominator \n",
    "    \n",
    "    return result"
   ]
  },
  {
   "cell_type": "markdown",
   "metadata": {},
   "source": [
    "# Calculating "
   ]
  },
  {
   "cell_type": "markdown",
   "metadata": {},
   "source": [
    "We given $y = f(x)$, points, function value $\\overline{y}$. Approximately find $\\overline{x}$, that $f(\\overline{x}) = \\overline{y}$."
   ]
  },
  {
   "cell_type": "code",
   "execution_count": 3,
   "metadata": {},
   "outputs": [],
   "source": [
    "# Given function.\n",
    "y = sin\n",
    "\n",
    "# Given points.\n",
    "x = np.array([-0.6, -0.5, -0.3, -0.2, 0, 0.2])\n",
    "\n",
    "# Given value.\n",
    "y_ = -0.56"
   ]
  },
  {
   "cell_type": "markdown",
   "metadata": {},
   "source": [
    "## Analytically "
   ]
  },
  {
   "cell_type": "markdown",
   "metadata": {},
   "source": [
    "Finding $\\overline{x}$ analytically by using arcsin function."
   ]
  },
  {
   "cell_type": "code",
   "execution_count": 4,
   "metadata": {},
   "outputs": [
    {
     "name": "stdout",
     "output_type": "stream",
     "text": [
      "x_ = -0.59439\n"
     ]
    }
   ],
   "source": [
    "x_ = round(arcsin(y_), 5)\n",
    "print(\"x_ = {}\".format(x_))"
   ]
  },
  {
   "cell_type": "markdown",
   "metadata": {},
   "source": [
    "##  Calculating"
   ]
  },
  {
   "cell_type": "code",
   "execution_count": 5,
   "metadata": {},
   "outputs": [],
   "source": [
    "# We approximating arcsin, so we have to pick \n",
    "# sin point for it.\n",
    "x = sin(x)"
   ]
  },
  {
   "cell_type": "code",
   "execution_count": 6,
   "metadata": {},
   "outputs": [],
   "source": [
    "# Array with number of points used \n",
    "# for interpolation.\n",
    "m = np.array(range(len(x) + 1))\n",
    "\n",
    "# Interpolated function values in point y_\n",
    "# when we interpolate using *number* values.\n",
    "x_m = np.array([lagrange(arcsin, x[:number], y_) for number in m])\n",
    "\n",
    "# Difference between neighbour elements\n",
    "# in x_m.\n",
    "x_m_1 = np.insert((x_m[1:] - x_m[:-1]), 0, 0)\n",
    "\n",
    "# Difference between predicted value\n",
    "# and actual value.\n",
    "x_m_x_ = x_m - x_"
   ]
  },
  {
   "cell_type": "markdown",
   "metadata": {},
   "source": [
    "# Building table "
   ]
  },
  {
   "cell_type": "code",
   "execution_count": 7,
   "metadata": {},
   "outputs": [],
   "source": [
    "# Initializing DataFrame.\n",
    "columns = [\"$m$\", \"$x_m$\", \"$x_m - x_{m-1}$\", \"$x_m - x^*$\"]\n",
    "df = pd.DataFrame(columns = columns)\n",
    "df[\"$m$\"] = m\n",
    "df[\"$x_m$\"] = x_m\n",
    "df[\"$x_m - x_{m-1}$\"] = x_m_1\n",
    "df[\"$x_m - x^*$\"] = x_m_x_"
   ]
  },
  {
   "cell_type": "code",
   "execution_count": 8,
   "metadata": {},
   "outputs": [
    {
     "data": {
      "text/html": [
       "<div>\n",
       "<style scoped>\n",
       "    .dataframe tbody tr th:only-of-type {\n",
       "        vertical-align: middle;\n",
       "    }\n",
       "\n",
       "    .dataframe tbody tr th {\n",
       "        vertical-align: top;\n",
       "    }\n",
       "\n",
       "    .dataframe thead th {\n",
       "        text-align: right;\n",
       "    }\n",
       "</style>\n",
       "<table border=\"1\" class=\"dataframe\">\n",
       "  <thead>\n",
       "    <tr style=\"text-align: right;\">\n",
       "      <th></th>\n",
       "      <th>$x_m$</th>\n",
       "      <th>$x_m - x_{m-1}$</th>\n",
       "      <th>$x_m - x^*$</th>\n",
       "    </tr>\n",
       "    <tr>\n",
       "      <th>$m$</th>\n",
       "      <th></th>\n",
       "      <th></th>\n",
       "      <th></th>\n",
       "    </tr>\n",
       "  </thead>\n",
       "  <tbody>\n",
       "    <tr>\n",
       "      <th>0</th>\n",
       "      <td>0.000000</td>\n",
       "      <td>0.000000</td>\n",
       "      <td>5.943900e-01</td>\n",
       "    </tr>\n",
       "    <tr>\n",
       "      <th>1</th>\n",
       "      <td>-0.600000</td>\n",
       "      <td>-0.600000</td>\n",
       "      <td>-5.610000e-03</td>\n",
       "    </tr>\n",
       "    <tr>\n",
       "      <th>2</th>\n",
       "      <td>-0.594552</td>\n",
       "      <td>0.005448</td>\n",
       "      <td>-1.621704e-04</td>\n",
       "    </tr>\n",
       "    <tr>\n",
       "      <th>3</th>\n",
       "      <td>-0.594433</td>\n",
       "      <td>0.000119</td>\n",
       "      <td>-4.269137e-05</td>\n",
       "    </tr>\n",
       "    <tr>\n",
       "      <th>4</th>\n",
       "      <td>-0.594399</td>\n",
       "      <td>0.000033</td>\n",
       "      <td>-9.304642e-06</td>\n",
       "    </tr>\n",
       "    <tr>\n",
       "      <th>5</th>\n",
       "      <td>-0.594392</td>\n",
       "      <td>0.000007</td>\n",
       "      <td>-2.272665e-06</td>\n",
       "    </tr>\n",
       "    <tr>\n",
       "      <th>6</th>\n",
       "      <td>-0.594389</td>\n",
       "      <td>0.000003</td>\n",
       "      <td>9.672823e-07</td>\n",
       "    </tr>\n",
       "  </tbody>\n",
       "</table>\n",
       "</div>"
      ],
      "text/plain": [
       "        $x_m$  $x_m - x_{m-1}$   $x_m - x^*$\n",
       "$m$                                         \n",
       "0    0.000000         0.000000  5.943900e-01\n",
       "1   -0.600000        -0.600000 -5.610000e-03\n",
       "2   -0.594552         0.005448 -1.621704e-04\n",
       "3   -0.594433         0.000119 -4.269137e-05\n",
       "4   -0.594399         0.000033 -9.304642e-06\n",
       "5   -0.594392         0.000007 -2.272665e-06\n",
       "6   -0.594389         0.000003  9.672823e-07"
      ]
     },
     "metadata": {},
     "output_type": "display_data"
    }
   ],
   "source": [
    "display(df.set_index(\"$m$\"))"
   ]
  }
 ],
 "metadata": {
  "hide_input": false,
  "kernelspec": {
   "display_name": "Python 3",
   "language": "python",
   "name": "python3"
  },
  "language_info": {
   "codemirror_mode": {
    "name": "ipython",
    "version": 3
   },
   "file_extension": ".py",
   "mimetype": "text/x-python",
   "name": "python",
   "nbconvert_exporter": "python",
   "pygments_lexer": "ipython3",
   "version": "3.7.4"
  },
  "toc": {
   "base_numbering": 1,
   "nav_menu": {},
   "number_sections": true,
   "sideBar": false,
   "skip_h1_title": false,
   "title_cell": "Table of Contents",
   "title_sidebar": "Contents",
   "toc_cell": false,
   "toc_position": {},
   "toc_section_display": true,
   "toc_window_display": false
  }
 },
 "nbformat": 4,
 "nbformat_minor": 2
}
