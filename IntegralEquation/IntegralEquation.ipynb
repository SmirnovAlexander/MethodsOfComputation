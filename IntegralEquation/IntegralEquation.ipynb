{
 "cells": [
  {
   "cell_type": "markdown",
   "metadata": {},
   "source": [
    "Fredholm integral equation of the second kind using mechanical quadrature method (Book 2, p. 38, ex. 4.2.2).   "
   ]
  },
  {
   "cell_type": "markdown",
   "metadata": {},
   "source": [
    "# Common parts"
   ]
  },
  {
   "cell_type": "code",
   "execution_count": 1,
   "metadata": {},
   "outputs": [],
   "source": [
    "from numpy import  array, sum, cosh, zeros\n",
    "from numpy.linalg import solve\n",
    "\n",
    "import pandas as pd "
   ]
  },
  {
   "cell_type": "markdown",
   "metadata": {},
   "source": [
    "We are given task below, but solution will be appropriate for all fredholm equations of the second kind:"
   ]
  },
  {
   "cell_type": "markdown",
   "metadata": {},
   "source": [
    "$u(x)-0.6 \\int_{0}^{1} \\operatorname{ch}(x y) u(y) d y=x-0.6$"
   ]
  },
  {
   "cell_type": "code",
   "execution_count": 2,
   "metadata": {},
   "outputs": [],
   "source": [
    "def H(x, y):\n",
    "    return cosh(x * y)\n",
    "\n",
    "def f(x):\n",
    "    return x - 0.6\n",
    "\n",
    "c = 0.6\n",
    "\n",
    "a = 0\n",
    "b = 1"
   ]
  },
  {
   "cell_type": "markdown",
   "metadata": {},
   "source": [
    "Because of the fact that we will use mechanical quadrature method, we will need quadrature formula. In current task we will use middle rectangles rule."
   ]
  },
  {
   "cell_type": "code",
   "execution_count": 3,
   "metadata": {},
   "outputs": [],
   "source": [
    "def middle_rectangles(f, N, a=0, b=1):\n",
    "    \"\"\"Composite middle rectangles formula.\n",
    "    \n",
    "    Args:\n",
    "        f: Function that we want to count integral from.\n",
    "        N (int): Number of partitions.\n",
    "        a, b (int, int): Bounds.\n",
    "        \n",
    "    Returns:\n",
    "        result (float): Approximate integral value.\n",
    "    \"\"\"\n",
    "    \n",
    "    # Length of part split.\n",
    "    h = (b - a) / N\n",
    "    \n",
    "    # Points.\n",
    "    x = array([a + (h / 2) + (k - 1) * h for k in range(1, N + 1)])\n",
    "    \n",
    "    # Values in points.\n",
    "    y = f(x)\n",
    "    \n",
    "    # Integral value.\n",
    "    result = h * sum(y)\n",
    "\n",
    "    return result"
   ]
  },
  {
   "cell_type": "markdown",
   "metadata": {},
   "source": [
    "But in current task we only need points and coefficents from quadrature formula."
   ]
  },
  {
   "cell_type": "code",
   "execution_count": 4,
   "metadata": {},
   "outputs": [],
   "source": [
    "def middle_rectangles_points_coefficents(N, a=0, b=1):\n",
    "    \"\"\"Composite middle rectangles formula points and coefficents.\n",
    "    \n",
    "    Args:\n",
    "        N (int): Number of partitions.\n",
    "        a, b (int, int): Bounds.\n",
    "        \n",
    "    Returns:\n",
    "        points (list<float>).\n",
    "        coefficents (list<float>).\n",
    "    \"\"\"\n",
    "    \n",
    "    # Length of part split.\n",
    "    h = (b - a) / N\n",
    "    \n",
    "    points = array([a + (h / 2) + (k - 1) * h \n",
    "                    for k in range(1, N + 1)])\n",
    "    \n",
    "    coefficents = [h] * N\n",
    "\n",
    "    return points, coefficents"
   ]
  },
  {
   "cell_type": "markdown",
   "metadata": {},
   "source": [
    "Also at some point we will need kroneker delta."
   ]
  },
  {
   "cell_type": "code",
   "execution_count": 5,
   "metadata": {},
   "outputs": [],
   "source": [
    "def kroneker_delta(x, y): \n",
    "    return 1 if x == y else 0"
   ]
  },
  {
   "cell_type": "markdown",
   "metadata": {},
   "source": [
    "# Mechanical quadrature method "
   ]
  },
  {
   "cell_type": "code",
   "execution_count": 6,
   "metadata": {},
   "outputs": [],
   "source": [
    "def mechanical_quadrature(H, f, N, find_points_coefficents, x, c=1, a=0, b=1):\n",
    "    \"\"\"Solving fredholm integral equation of the second kind. \n",
    "    \n",
    "    Using mechanical quadrature method.   \n",
    "    \n",
    "    Args:\n",
    "        H (func(x, y)): Function under integral.\n",
    "        f (func(x)): Free value function.\n",
    "        c (float): Constant before integral.\n",
    "        a, b (float): Integral bounds.\n",
    "        N (int): Number of points in quadrature method.\n",
    "        find_points_coefficents (func(N, a, b)): Function that returns\n",
    "                                              points and coefficents from \n",
    "                                              appropriate quadrature \n",
    "                                              formula.\n",
    "        x (float): Point to count result function in.\n",
    "    \n",
    "    Returns:\n",
    "        result (float): value of desired function in point x.\n",
    "    \"\"\"\n",
    "    \n",
    "    points, coefficents = find_points_coefficents(N, a, b)\n",
    "    \n",
    "    # Solving Dz=g system.\n",
    "    D = zeros(shape=(N,N))\n",
    "    for row in range(N):\n",
    "        for col in range(N):\n",
    "            D[row][col] = kroneker_delta(row, col) - \\\n",
    "                          coefficents[col] * \\\n",
    "                          H(points[row], points[col])\n",
    "    g = f(points)\n",
    "    z = solve(D, g)\n",
    "    \n",
    "    summ = 0\n",
    "    for i in range(N):\n",
    "        summ += coefficents[i] * H(x, points[i]) * z[i]\n",
    "    \n",
    "    result = summ + f(x)\n",
    "    \n",
    "    return result"
   ]
  },
  {
   "cell_type": "markdown",
   "metadata": {},
   "source": [
    "# Testing"
   ]
  },
  {
   "cell_type": "code",
   "execution_count": 7,
   "metadata": {},
   "outputs": [],
   "source": [
    "# Starting number of splits.\n",
    "n = 5\n",
    "\n",
    "# Number of calculations.\n",
    "# Number of splits grows twice\n",
    "# as much on every iteration.\n",
    "calcs = 7"
   ]
  },
  {
   "cell_type": "code",
   "execution_count": 8,
   "metadata": {},
   "outputs": [],
   "source": [
    "# Generating number of splits.\n",
    "splits = [2**i*n for i in range(calcs)]\n",
    "\n",
    "# Generating first column of table.\n",
    "x_s = list(map(lambda x: 'u^({})(x)'.format(x), splits))\n",
    "\n",
    "# Generating values in point a.\n",
    "a_s = [mechanical_quadrature(H,\n",
    "                             f, \n",
    "                             N=n,\n",
    "                             find_points_coefficents=middle_rectangles_points_coefficents,\n",
    "                             x=a, \n",
    "                             c=c,\n",
    "                             a=a,\n",
    "                             b=b) for n in splits]\n",
    "\n",
    "# Generating values in point (a+b)/2.\n",
    "a_b_s = [mechanical_quadrature(H,\n",
    "                             f, \n",
    "                             N=n,\n",
    "                             find_points_coefficents=middle_rectangles_points_coefficents,\n",
    "                             x=(a+b)/2, \n",
    "                             c=c,\n",
    "                             a=a,\n",
    "                             b=b) for n in splits]\n",
    "\n",
    "# Generating values in point b.\n",
    "b_s = [mechanical_quadrature(H,\n",
    "                             f, \n",
    "                             N=n,\n",
    "                             find_points_coefficents=middle_rectangles_points_coefficents,\n",
    "                             x=b, \n",
    "                             c=c,\n",
    "                             a=a,\n",
    "                             b=b) for n in splits]"
   ]
  },
  {
   "cell_type": "code",
   "execution_count": 9,
   "metadata": {},
   "outputs": [
    {
     "data": {
      "text/html": [
       "<style  type=\"text/css\" >\n",
       "</style><table id=\"T_6aaf4f84_a738_11ea_88f1_150d77e9fea3\" ><thead>    <tr>        <th class=\"col_heading level0 col0\" >$x$</th>        <th class=\"col_heading level0 col1\" >$a$</th>        <th class=\"col_heading level0 col2\" >$(a + b)/2$</th>        <th class=\"col_heading level0 col3\" >$b$</th>    </tr></thead><tbody>\n",
       "                <tr>\n",
       "                                <td id=\"T_6aaf4f84_a738_11ea_88f1_150d77e9fea3row0_col0\" class=\"data row0 col0\" >u^(5)(x)</td>\n",
       "                        <td id=\"T_6aaf4f84_a738_11ea_88f1_150d77e9fea3row0_col1\" class=\"data row0 col1\" >0.860636</td>\n",
       "                        <td id=\"T_6aaf4f84_a738_11ea_88f1_150d77e9fea3row0_col2\" class=\"data row0 col2\" >1.435083</td>\n",
       "                        <td id=\"T_6aaf4f84_a738_11ea_88f1_150d77e9fea3row0_col3\" class=\"data row0 col3\" >2.170189</td>\n",
       "            </tr>\n",
       "            <tr>\n",
       "                                <td id=\"T_6aaf4f84_a738_11ea_88f1_150d77e9fea3row1_col0\" class=\"data row1 col0\" >u^(10)(x)</td>\n",
       "                        <td id=\"T_6aaf4f84_a738_11ea_88f1_150d77e9fea3row1_col1\" class=\"data row1 col1\" >0.824088</td>\n",
       "                        <td id=\"T_6aaf4f84_a738_11ea_88f1_150d77e9fea3row1_col2\" class=\"data row1 col2\" >1.397904</td>\n",
       "                        <td id=\"T_6aaf4f84_a738_11ea_88f1_150d77e9fea3row1_col3\" class=\"data row1 col3\" >2.131292</td>\n",
       "            </tr>\n",
       "            <tr>\n",
       "                                <td id=\"T_6aaf4f84_a738_11ea_88f1_150d77e9fea3row2_col0\" class=\"data row2 col0\" >u^(20)(x)</td>\n",
       "                        <td id=\"T_6aaf4f84_a738_11ea_88f1_150d77e9fea3row2_col1\" class=\"data row2 col1\" >0.815062</td>\n",
       "                        <td id=\"T_6aaf4f84_a738_11ea_88f1_150d77e9fea3row2_col2\" class=\"data row2 col2\" >1.388722</td>\n",
       "                        <td id=\"T_6aaf4f84_a738_11ea_88f1_150d77e9fea3row2_col3\" class=\"data row2 col3\" >2.121684</td>\n",
       "            </tr>\n",
       "            <tr>\n",
       "                                <td id=\"T_6aaf4f84_a738_11ea_88f1_150d77e9fea3row3_col0\" class=\"data row3 col0\" >u^(40)(x)</td>\n",
       "                        <td id=\"T_6aaf4f84_a738_11ea_88f1_150d77e9fea3row3_col1\" class=\"data row3 col1\" >0.812813</td>\n",
       "                        <td id=\"T_6aaf4f84_a738_11ea_88f1_150d77e9fea3row3_col2\" class=\"data row3 col2\" >1.386433</td>\n",
       "                        <td id=\"T_6aaf4f84_a738_11ea_88f1_150d77e9fea3row3_col3\" class=\"data row3 col3\" >2.119288</td>\n",
       "            </tr>\n",
       "            <tr>\n",
       "                                <td id=\"T_6aaf4f84_a738_11ea_88f1_150d77e9fea3row4_col0\" class=\"data row4 col0\" >u^(80)(x)</td>\n",
       "                        <td id=\"T_6aaf4f84_a738_11ea_88f1_150d77e9fea3row4_col1\" class=\"data row4 col1\" >0.812251</td>\n",
       "                        <td id=\"T_6aaf4f84_a738_11ea_88f1_150d77e9fea3row4_col2\" class=\"data row4 col2\" >1.385861</td>\n",
       "                        <td id=\"T_6aaf4f84_a738_11ea_88f1_150d77e9fea3row4_col3\" class=\"data row4 col3\" >2.118690</td>\n",
       "            </tr>\n",
       "            <tr>\n",
       "                                <td id=\"T_6aaf4f84_a738_11ea_88f1_150d77e9fea3row5_col0\" class=\"data row5 col0\" >u^(160)(x)</td>\n",
       "                        <td id=\"T_6aaf4f84_a738_11ea_88f1_150d77e9fea3row5_col1\" class=\"data row5 col1\" >0.812110</td>\n",
       "                        <td id=\"T_6aaf4f84_a738_11ea_88f1_150d77e9fea3row5_col2\" class=\"data row5 col2\" >1.385718</td>\n",
       "                        <td id=\"T_6aaf4f84_a738_11ea_88f1_150d77e9fea3row5_col3\" class=\"data row5 col3\" >2.118541</td>\n",
       "            </tr>\n",
       "            <tr>\n",
       "                                <td id=\"T_6aaf4f84_a738_11ea_88f1_150d77e9fea3row6_col0\" class=\"data row6 col0\" >u^(320)(x)</td>\n",
       "                        <td id=\"T_6aaf4f84_a738_11ea_88f1_150d77e9fea3row6_col1\" class=\"data row6 col1\" >0.812075</td>\n",
       "                        <td id=\"T_6aaf4f84_a738_11ea_88f1_150d77e9fea3row6_col2\" class=\"data row6 col2\" >1.385682</td>\n",
       "                        <td id=\"T_6aaf4f84_a738_11ea_88f1_150d77e9fea3row6_col3\" class=\"data row6 col3\" >2.118503</td>\n",
       "            </tr>\n",
       "    </tbody></table>"
      ],
      "text/plain": [
       "<pandas.io.formats.style.Styler at 0x7f88a2ddda90>"
      ]
     },
     "execution_count": 9,
     "metadata": {},
     "output_type": "execute_result"
    }
   ],
   "source": [
    "# Creating table.\n",
    "data = pd.DataFrame(list(zip(x_s, a_s, a_b_s, b_s)), \n",
    "                    columns =['$x$', '$a$', '$(a + b)/2$', '$b$'])\n",
    "\n",
    "data.style.hide_index()"
   ]
  }
 ],
 "metadata": {
  "kernelspec": {
   "display_name": "Python 3",
   "language": "python",
   "name": "python3"
  },
  "language_info": {
   "codemirror_mode": {
    "name": "ipython",
    "version": 3
   },
   "file_extension": ".py",
   "mimetype": "text/x-python",
   "name": "python",
   "nbconvert_exporter": "python",
   "pygments_lexer": "ipython3",
   "version": "3.8.2"
  },
  "toc": {
   "base_numbering": 1,
   "nav_menu": {},
   "number_sections": true,
   "sideBar": true,
   "skip_h1_title": false,
   "title_cell": "Table of Contents",
   "title_sidebar": "Contents",
   "toc_cell": false,
   "toc_position": {},
   "toc_section_display": true,
   "toc_window_display": false
  }
 },
 "nbformat": 4,
 "nbformat_minor": 4
}
