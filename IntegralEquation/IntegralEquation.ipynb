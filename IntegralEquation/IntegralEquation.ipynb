{
 "cells": [
  {
   "cell_type": "markdown",
   "metadata": {},
   "source": [
    "Fredholm integral equation of the second kind using mechanical quadrature method (Book 2, p. 38, ex. 4.2.2).   "
   ]
  },
  {
   "cell_type": "markdown",
   "metadata": {},
   "source": [
    "# Common parts"
   ]
  },
  {
   "cell_type": "code",
   "execution_count": 1,
   "metadata": {},
   "outputs": [],
   "source": [
    "from numpy import  array, sum, cosh, zeros\n",
    "from numpy.linalg import solve\n",
    "\n",
    "import pandas as pd "
   ]
  },
  {
   "cell_type": "markdown",
   "metadata": {},
   "source": [
    "We are given task below, but solution will be appropriate for all fredholm equations of the second kind:"
   ]
  },
  {
   "cell_type": "markdown",
   "metadata": {},
   "source": [
    "$u(x)-0.6 \\int_{0}^{1} \\operatorname{ch}(x y) u(y) d y=x-0.6$"
   ]
  },
  {
   "cell_type": "code",
   "execution_count": 2,
   "metadata": {},
   "outputs": [],
   "source": [
    "def H(x, y):\n",
    "    return cosh(x * y)\n",
    "\n",
    "def f(x):\n",
    "    return x - 0.6\n",
    "\n",
    "c = 0.6\n",
    "\n",
    "a = 0\n",
    "b = 1"
   ]
  },
  {
   "cell_type": "markdown",
   "metadata": {},
   "source": [
    "Because of the fact that we will use mechanical quadrature method, we will need quadrature formula. In current task we will use middle rectangles rule."
   ]
  },
  {
   "cell_type": "code",
   "execution_count": 3,
   "metadata": {},
   "outputs": [],
   "source": [
    "def middle_rectangles(f, N, a=0, b=1):\n",
    "    \"\"\"Composite middle rectangles formula.\n",
    "    \n",
    "    Args:\n",
    "        f: Function that we want to count integral from.\n",
    "        N (int): Number of partitions.\n",
    "        a, b (int, int): Bounds.\n",
    "        \n",
    "    Returns:\n",
    "        result (float): Approximate integral value.\n",
    "    \"\"\"\n",
    "    \n",
    "    # Length of part split.\n",
    "    h = (b - a) / N\n",
    "    \n",
    "    # Points.\n",
    "    x = array([a + (h / 2) + (k - 1) * h for k in range(1, N + 1)])\n",
    "    \n",
    "    # Values in points.\n",
    "    y = f(x)\n",
    "    \n",
    "    # Integral value.\n",
    "    result = h * sum(y)\n",
    "\n",
    "    return result"
   ]
  },
  {
   "cell_type": "markdown",
   "metadata": {},
   "source": [
    "But in current task we only need points and coefficents from quadrature formula."
   ]
  },
  {
   "cell_type": "code",
   "execution_count": 4,
   "metadata": {},
   "outputs": [],
   "source": [
    "def middle_rectangles_points_coefficents(N, a=0, b=1):\n",
    "    \"\"\"Composite middle rectangles formula points and coefficents.\n",
    "    \n",
    "    Args:\n",
    "        N (int): Number of partitions.\n",
    "        a, b (int, int): Bounds.\n",
    "        \n",
    "    Returns:\n",
    "        points (list<float>).\n",
    "        coefficents (list<float>).\n",
    "    \"\"\"\n",
    "    \n",
    "    # Length of part split.\n",
    "    h = (b - a) / N\n",
    "    \n",
    "    points = array([a + (h / 2) + (k - 1) * h \n",
    "                    for k in range(1, N + 1)])\n",
    "    \n",
    "    coefficents = [h] * N\n",
    "\n",
    "    return points, coefficents"
   ]
  },
  {
   "cell_type": "markdown",
   "metadata": {},
   "source": [
    "Also at some point we will need kroneker delta."
   ]
  },
  {
   "cell_type": "code",
   "execution_count": 5,
   "metadata": {},
   "outputs": [],
   "source": [
    "def kroneker_delta(x, y): \n",
    "    return 1 if x == y else 0"
   ]
  },
  {
   "cell_type": "markdown",
   "metadata": {},
   "source": [
    "# Mechanical quadrature method "
   ]
  },
  {
   "cell_type": "code",
   "execution_count": 6,
   "metadata": {},
   "outputs": [],
   "source": [
    "def mechanical_quadrature(H, f, N, find_points_coefficents, x, c=1, a=0, b=1):\n",
    "    \"\"\"Solving fredholm integral equation of the second kind. \n",
    "    \n",
    "    Using mechanical quadrature method.   \n",
    "    \n",
    "    Args:\n",
    "        H (func(x, y)): Function under integral.\n",
    "        f (func(x)): Free value function.\n",
    "        c (float): Constant before integral.\n",
    "        a, b (float): Integral bounds.\n",
    "        N (int): Number of points in quadrature method.\n",
    "        find_points_coefficents (func(N, a, b)): Function that returns\n",
    "                                              points and coefficents from \n",
    "                                              appropriate quadrature \n",
    "                                              formula.\n",
    "        x (float): Point to count result function in.\n",
    "    \n",
    "    Returns:\n",
    "        result (float): value of desired function in point x.\n",
    "    \"\"\"\n",
    "    \n",
    "    points, coefficents = find_points_coefficents(N, a, b)\n",
    "    \n",
    "    # Solving Dz=g system.\n",
    "    D = zeros(shape=(N,N))\n",
    "    for row in range(N):\n",
    "        for col in range(N):\n",
    "            D[row][col] = kroneker_delta(row, col) - \\\n",
    "                          coefficents[col] * \\\n",
    "                          H(points[row], points[col])\n",
    "    g = f(points)\n",
    "    z = solve(D, g)\n",
    "    \n",
    "    summ = 0\n",
    "    for i in range(N):\n",
    "        summ += coefficents[i] * H(x, points[i]) * z[i]\n",
    "    \n",
    "    result = summ + f(x)\n",
    "    \n",
    "    return result"
   ]
  },
  {
   "cell_type": "markdown",
   "metadata": {},
   "source": [
    "# Testing"
   ]
  },
  {
   "cell_type": "code",
   "execution_count": 7,
   "metadata": {},
   "outputs": [],
   "source": [
    "# Starting number of splits.\n",
    "n = 5\n",
    "\n",
    "# Number of calculations.\n",
    "# Number of splits grows twice\n",
    "# as much on every iteration.\n",
    "calcs = 7"
   ]
  },
  {
   "cell_type": "code",
   "execution_count": 8,
   "metadata": {},
   "outputs": [],
   "source": [
    "# Generating number of splits.\n",
    "splits = [2**i*n for i in range(calcs)]\n",
    "\n",
    "# Generating first column of table.\n",
    "x_s = list(map(lambda x: 'u^({})(x)'.format(x), splits))\n",
    "\n",
    "# Generating values in point a.\n",
    "a_s = [mechanical_quadrature(H,\n",
    "                             f, \n",
    "                             N=n,\n",
    "                             find_points_coefficents=middle_rectangles_points_coefficents,\n",
    "                             x=a, \n",
    "                             c=c,\n",
    "                             a=a,\n",
    "                             b=b) for n in splits]\n",
    "\n",
    "# Generating values in point (a+b)/2.\n",
    "a_b_s = [mechanical_quadrature(H,\n",
    "                             f, \n",
    "                             N=n,\n",
    "                             find_points_coefficents=middle_rectangles_points_coefficents,\n",
    "                             x=(a+b)/2, \n",
    "                             c=c,\n",
    "                             a=a,\n",
    "                             b=b) for n in splits]\n",
    "\n",
    "# Generating values in point b.\n",
    "b_s = [mechanical_quadrature(H,\n",
    "                             f, \n",
    "                             N=n,\n",
    "                             find_points_coefficents=middle_rectangles_points_coefficents,\n",
    "                             x=b, \n",
    "                             c=c,\n",
    "                             a=a,\n",
    "                             b=b) for n in splits]"
   ]
  },
  {
   "cell_type": "code",
   "execution_count": 9,
   "metadata": {},
   "outputs": [
    {
     "data": {
      "text/html": [
       "<div>\n",
       "<style scoped>\n",
       "    .dataframe tbody tr th:only-of-type {\n",
       "        vertical-align: middle;\n",
       "    }\n",
       "\n",
       "    .dataframe tbody tr th {\n",
       "        vertical-align: top;\n",
       "    }\n",
       "\n",
       "    .dataframe thead th {\n",
       "        text-align: right;\n",
       "    }\n",
       "</style>\n",
       "<table border=\"1\" class=\"dataframe\">\n",
       "  <thead>\n",
       "    <tr style=\"text-align: right;\">\n",
       "      <th></th>\n",
       "      <th>$a$</th>\n",
       "      <th>$(a + b)/2$</th>\n",
       "      <th>$b$</th>\n",
       "    </tr>\n",
       "    <tr>\n",
       "      <th>$x$</th>\n",
       "      <th></th>\n",
       "      <th></th>\n",
       "      <th></th>\n",
       "    </tr>\n",
       "  </thead>\n",
       "  <tbody>\n",
       "    <tr>\n",
       "      <th>u^(5)(x)</th>\n",
       "      <td>0.860636</td>\n",
       "      <td>1.435083</td>\n",
       "      <td>2.170189</td>\n",
       "    </tr>\n",
       "    <tr>\n",
       "      <th>u^(10)(x)</th>\n",
       "      <td>0.824088</td>\n",
       "      <td>1.397904</td>\n",
       "      <td>2.131292</td>\n",
       "    </tr>\n",
       "    <tr>\n",
       "      <th>u^(20)(x)</th>\n",
       "      <td>0.815062</td>\n",
       "      <td>1.388722</td>\n",
       "      <td>2.121684</td>\n",
       "    </tr>\n",
       "    <tr>\n",
       "      <th>u^(40)(x)</th>\n",
       "      <td>0.812813</td>\n",
       "      <td>1.386433</td>\n",
       "      <td>2.119288</td>\n",
       "    </tr>\n",
       "    <tr>\n",
       "      <th>u^(80)(x)</th>\n",
       "      <td>0.812251</td>\n",
       "      <td>1.385861</td>\n",
       "      <td>2.118690</td>\n",
       "    </tr>\n",
       "    <tr>\n",
       "      <th>u^(160)(x)</th>\n",
       "      <td>0.812110</td>\n",
       "      <td>1.385718</td>\n",
       "      <td>2.118541</td>\n",
       "    </tr>\n",
       "    <tr>\n",
       "      <th>u^(320)(x)</th>\n",
       "      <td>0.812075</td>\n",
       "      <td>1.385682</td>\n",
       "      <td>2.118503</td>\n",
       "    </tr>\n",
       "  </tbody>\n",
       "</table>\n",
       "</div>"
      ],
      "text/plain": [
       "                 $a$  $(a + b)/2$       $b$\n",
       "$x$                                        \n",
       "u^(5)(x)    0.860636     1.435083  2.170189\n",
       "u^(10)(x)   0.824088     1.397904  2.131292\n",
       "u^(20)(x)   0.815062     1.388722  2.121684\n",
       "u^(40)(x)   0.812813     1.386433  2.119288\n",
       "u^(80)(x)   0.812251     1.385861  2.118690\n",
       "u^(160)(x)  0.812110     1.385718  2.118541\n",
       "u^(320)(x)  0.812075     1.385682  2.118503"
      ]
     },
     "metadata": {},
     "output_type": "display_data"
    }
   ],
   "source": [
    "# Creating table.\n",
    "data = pd.DataFrame(list(zip(x_s, a_s, a_b_s, b_s)), \n",
    "                    columns =['$x$', '$a$', '$(a + b)/2$', '$b$'])\n",
    "\n",
    "data.set_index('$x$', inplace=True)\n",
    "display(data)"
   ]
  }
 ],
 "metadata": {
  "kernelspec": {
   "display_name": "Python 3",
   "language": "python",
   "name": "python3"
  },
  "language_info": {
   "codemirror_mode": {
    "name": "ipython",
    "version": 3
   },
   "file_extension": ".py",
   "mimetype": "text/x-python",
   "name": "python",
   "nbconvert_exporter": "python",
   "pygments_lexer": "ipython3",
   "version": "3.8.2"
  },
  "toc": {
   "base_numbering": 1,
   "nav_menu": {},
   "number_sections": true,
   "sideBar": true,
   "skip_h1_title": false,
   "title_cell": "Table of Contents",
   "title_sidebar": "Contents",
   "toc_cell": false,
   "toc_position": {},
   "toc_section_display": true,
   "toc_window_display": false
  }
 },
 "nbformat": 4,
 "nbformat_minor": 4
}
