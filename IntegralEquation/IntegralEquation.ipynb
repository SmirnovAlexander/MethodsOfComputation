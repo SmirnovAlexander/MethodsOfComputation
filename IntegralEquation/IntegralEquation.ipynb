{
 "cells": [
  {
   "cell_type": "markdown",
   "metadata": {},
   "source": [
    "Fredholm integral equation of the second kind using mechanical quadrature method (Book 2, p. 38, ex. 4.2.2).   "
   ]
  },
  {
   "cell_type": "markdown",
   "metadata": {},
   "source": [
    "# Common parts"
   ]
  },
  {
   "cell_type": "code",
   "execution_count": 7,
   "metadata": {},
   "outputs": [],
   "source": [
    "from numpy import  array, sum, cosh, zeros\n",
    "from numpy.linalg import solve"
   ]
  },
  {
   "cell_type": "markdown",
   "metadata": {},
   "source": [
    "We are given task below, but solution will be appropriate for all fredholm equations of the second kind:"
   ]
  },
  {
   "cell_type": "markdown",
   "metadata": {},
   "source": [
    "$u(x)-0.6 \\int_{0}^{1} \\operatorname{ch}(x y) u(y) d y=x-0.6$"
   ]
  },
  {
   "cell_type": "code",
   "execution_count": 2,
   "metadata": {},
   "outputs": [],
   "source": [
    "def H(x, y):\n",
    "    return cosh(x * y)\n",
    "\n",
    "def f(x):\n",
    "    return x - 0.6\n",
    "\n",
    "c = 0.6"
   ]
  },
  {
   "cell_type": "markdown",
   "metadata": {},
   "source": [
    "Because of the fact that we will use mechanical quadrature method, we will need quadrature formula. In current task we will use middle rectangles rule."
   ]
  },
  {
   "cell_type": "code",
   "execution_count": 3,
   "metadata": {},
   "outputs": [],
   "source": [
    "def middle_rectangles(f, N, a=0, b=1):\n",
    "    \"\"\"Composite middle rectangles formula.\n",
    "    \n",
    "    Args:\n",
    "        f: Function that we want to count integral from.\n",
    "        N (int): Number of partitions.\n",
    "        a, b (int, int): Bounds.\n",
    "        \n",
    "    Returns:\n",
    "        result (float): Approximate integral value.\n",
    "    \"\"\"\n",
    "    \n",
    "    # Length of part split.\n",
    "    h = (b - a) / N\n",
    "    \n",
    "    # Points.\n",
    "    x = array([a + (h / 2) + (k - 1) * h for k in range(1, N + 1)])\n",
    "    \n",
    "    # Values in points.\n",
    "    y = f(x)\n",
    "    \n",
    "    # Integral value.\n",
    "    result = h * sum(y)\n",
    "\n",
    "    return result"
   ]
  },
  {
   "cell_type": "markdown",
   "metadata": {},
   "source": [
    "But in current task we only need nodes and points from quadrature formula."
   ]
  },
  {
   "cell_type": "code",
   "execution_count": 4,
   "metadata": {},
   "outputs": [],
   "source": [
    "def middle_rectangles_point_nodes(N, a=0, b=1):\n",
    "    \"\"\"Composite middle rectangles formula points and nodes.\n",
    "    \n",
    "    Args:\n",
    "        N (int): Number of partitions.\n",
    "        a, b (int, int): Bounds.\n",
    "        \n",
    "    Returns:\n",
    "        points (list<float>).\n",
    "        nodes (list<float>).\n",
    "    \"\"\"\n",
    "    \n",
    "    # Length of part split.\n",
    "    h = (b - a) / N\n",
    "    \n",
    "    points = array([a + (h / 2) + (k - 1) * h \n",
    "                    for k in range(1, N + 1)])\n",
    "    \n",
    "    nodes = [h] * N\n",
    "\n",
    "    return points, nodes"
   ]
  },
  {
   "cell_type": "markdown",
   "metadata": {},
   "source": [
    "# Mechanical quadrature method "
   ]
  },
  {
   "cell_type": "code",
   "execution_count": 12,
   "metadata": {},
   "outputs": [],
   "source": [
    "def mechanical_quadrature(H, f, N, find_points_nodes, x, c=1, a=0, b=1):\n",
    "    \"\"\"Solving fredholm integral equation of the second kind. \n",
    "    \n",
    "    Using mechanical quadrature method.   \n",
    "    \n",
    "    Args:\n",
    "        H (func(x, y)): Function under integral.\n",
    "        f (func(x)): Free value function.\n",
    "        c (float): Constant before integral.\n",
    "        a, b (float): Integral bounds.\n",
    "        N (int): Number of points in quadrature method.\n",
    "        find_points_nodes (func(N, a, b)): Function that returns\n",
    "                                          points and nodes from \n",
    "                                          appropriate quadrature \n",
    "                                          formula.\n",
    "        x (float): Point to count result function in.\n",
    "    \n",
    "    Returns:\n",
    "        result (float): value of desired function in point x.\n",
    "    \"\"\"\n",
    "    \n",
    "    points, nodes = find_points_nodes(N, a, b)\n",
    "    \n",
    "    # Solving Dz=g system.\n",
    "    D = zeros(shape=(N,N))\n",
    "    for row in range(N):\n",
    "        for col in range(N):\n",
    "            D[row][col] = nodes[col] * \\\n",
    "                          H(points[row], points[col])\n",
    "    g = f(points)\n",
    "    z = solve(D, g)\n",
    "    \n",
    "    summ = 0\n",
    "    for i in range(N):\n",
    "        summ += nodes[i] * H(x, points[i]) * z[i]\n",
    "    \n",
    "    result = summ + f(x)\n",
    "    \n",
    "    return result"
   ]
  },
  {
   "cell_type": "markdown",
   "metadata": {},
   "source": [
    "# Testing"
   ]
  },
  {
   "cell_type": "code",
   "execution_count": 13,
   "metadata": {},
   "outputs": [],
   "source": [
    "# Starting number of splits.\n",
    "n = 5\n",
    "\n",
    "# Number of calculations.\n",
    "# Number of splits grows twice\n",
    "# as much on every iteration.\n",
    "calcs = 6"
   ]
  },
  {
   "cell_type": "code",
   "execution_count": null,
   "metadata": {},
   "outputs": [],
   "source": []
  },
  {
   "cell_type": "code",
   "execution_count": 11,
   "metadata": {},
   "outputs": [
    {
     "data": {
      "text/plain": [
       "-1.101953125"
      ]
     },
     "execution_count": 11,
     "metadata": {},
     "output_type": "execute_result"
    }
   ],
   "source": [
    "mechanical_quadrature(H,\n",
    "                      f, \n",
    "                      N=2000,\n",
    "                      find_points_nodes=middle_rectangles_point_nodes,\n",
    "                      x=0, \n",
    "                      c=c)"
   ]
  },
  {
   "cell_type": "code",
   "execution_count": null,
   "metadata": {},
   "outputs": [],
   "source": []
  }
 ],
 "metadata": {
  "kernelspec": {
   "display_name": "Python 3",
   "language": "python",
   "name": "python3"
  },
  "language_info": {
   "codemirror_mode": {
    "name": "ipython",
    "version": 3
   },
   "file_extension": ".py",
   "mimetype": "text/x-python",
   "name": "python",
   "nbconvert_exporter": "python",
   "pygments_lexer": "ipython3",
   "version": "3.8.2"
  },
  "toc": {
   "base_numbering": 1,
   "nav_menu": {},
   "number_sections": true,
   "sideBar": true,
   "skip_h1_title": false,
   "title_cell": "Table of Contents",
   "title_sidebar": "Contents",
   "toc_cell": false,
   "toc_position": {},
   "toc_section_display": true,
   "toc_window_display": false
  }
 },
 "nbformat": 4,
 "nbformat_minor": 4
}
