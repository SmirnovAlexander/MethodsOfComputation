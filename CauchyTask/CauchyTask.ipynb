{
 "cells": [
  {
   "cell_type": "markdown",
   "metadata": {},
   "source": [
    "Cauchy task solution (p. 69, ex. 8.6)"
   ]
  },
  {
   "cell_type": "code",
   "execution_count": 1,
   "metadata": {},
   "outputs": [],
   "source": [
    "import numpy as np\n",
    "import pandas as pd\n",
    "import matplotlib.pyplot as plt\n",
    "\n",
    "from scipy.integrate import odeint\n",
    "\n",
    "plt.style.use('seaborn')"
   ]
  },
  {
   "cell_type": "markdown",
   "metadata": {},
   "source": [
    "# Function investigation "
   ]
  },
  {
   "cell_type": "markdown",
   "metadata": {},
   "source": [
    "We are given this Cauchy task: $$y' = \\cos{(1.75x + y)} + 1.25(x − y), \\,y(0) = 0.$$"
   ]
  },
  {
   "cell_type": "code",
   "execution_count": 2,
   "metadata": {},
   "outputs": [],
   "source": [
    "def f_derivative(x, y):\n",
    "    return np.cos(1.75*x + y) + 1.25*(x - y)\n",
    "\n",
    "x0 = 0\n",
    "y0 = 0"
   ]
  },
  {
   "cell_type": "markdown",
   "metadata": {},
   "source": [
    "# Euler method "
   ]
  },
  {
   "cell_type": "code",
   "execution_count": 3,
   "metadata": {},
   "outputs": [],
   "source": [
    "def euler_left(f, xs, y0, h):\n",
    "    '''Counts y values for xs to solve Cauchy task with left rectangles.\n",
    "    \n",
    "    Args:\n",
    "        f (func): Function that we are integrating to solve task.\n",
    "        xs (list<float>): Points in which we counting values.\n",
    "        y0: (float): Initial point.\n",
    "        h (float): Step.\n",
    "        \n",
    "    Returns:\n",
    "        ys (list<float>): List with function values.\n",
    "    '''\n",
    "    \n",
    "    ys = []    \n",
    "    ys.append(y0)\n",
    "    \n",
    "    for i in range(1, len(xs)):\n",
    "        y_m = ys[i - 1] + h * f(xs[i - 1], ys[i - 1])\n",
    "        ys.append(y_m)\n",
    "\n",
    "    return np.array(ys)"
   ]
  },
  {
   "cell_type": "code",
   "execution_count": 4,
   "metadata": {},
   "outputs": [],
   "source": [
    "def euler_middle(f, xs, y0, h, twice_points=False):\n",
    "    '''Counts y values for xs to solve Cauchy task with middle rectangles.\n",
    "    \n",
    "    Args:\n",
    "        f (func): Function that we are integrating to solve task.\n",
    "        xs (list<float>): Points in which we counting values.\n",
    "        y0: (float): Initial point.\n",
    "        h (float): Step.\n",
    "        twice_points (bool): Flag if we have a better accuracy algorithm \n",
    "                             (twice points and step divided by 2).\n",
    "        \n",
    "    Returns:\n",
    "        ys (list<float>): List with function values.\n",
    "    '''\n",
    "    \n",
    "    ys = []    \n",
    "    ys.append(y0)\n",
    "    \n",
    "    for i in range(1, len(xs)):\n",
    "        y_m = ys[i - 1] + h * f(xs[i - 1] + (h / 2.), ys[i - 1] + (h / 2.) * f(xs[i - 1], ys[i - 1]))\n",
    "        ys.append(y_m)\n",
    "\n",
    "    if twice_points:\n",
    "        return np.array(ys[::2]) \n",
    "    else:\n",
    "        return np.array(ys) "
   ]
  },
  {
   "cell_type": "code",
   "execution_count": 5,
   "metadata": {},
   "outputs": [],
   "source": [
    "# Points.\n",
    "xs = np.linspace(0, 0.5, 11)\n",
    "\n",
    "# Twice as much points for better accuracy euler method.\n",
    "xs_2 = np.linspace(0, 0.5, 21)\n",
    "\n",
    "# Step value.\n",
    "h = xs[1] - xs[0]\n",
    "\n",
    "# Exact values.\n",
    "y_math = odeint(f_derivative, y0, xs, tfirst=True).T[0]\n",
    "\n",
    "# Values from Euler's middle rectangles method.\n",
    "y_h = euler_middle(f_derivative, xs, y0, h)\n",
    "\n",
    "# Values from Euler's middle rectangles method\n",
    "# with half step and twice as much points.\n",
    "y_h_2 = euler_middle(f_derivative, xs_2, y0, h/2., True)\n",
    "\n",
    "# Richardson extrapolation.\n",
    "R_main = (y_h_2 - y_h) / (2**2 - 1)\n",
    "y_rev = y_h_2 + R_main\n",
    "\n",
    "# Error rate.\n",
    "y_rev_y_math = y_rev - y_math"
   ]
  },
  {
   "cell_type": "code",
   "execution_count": 6,
   "metadata": {
    "scrolled": true
   },
   "outputs": [
    {
     "data": {
      "text/html": [
       "<style  type=\"text/css\" >\n",
       "</style><table id=\"T_ec852228_25eb_11ea_8f9a_7c67a2ca122d\" ><thead>    <tr>        <th class=\"col_heading level0 col0\" >$x$</th>        <th class=\"col_heading level0 col1\" >$y_{math}$</th>        <th class=\"col_heading level0 col2\" >$y^h$</th>        <th class=\"col_heading level0 col3\" >$y^{h/2}$</th>        <th class=\"col_heading level0 col4\" >$y_{rev}$</th>        <th class=\"col_heading level0 col5\" >$y_{rev} - y_{math}$</th>    </tr></thead><tbody>\n",
       "                <tr>\n",
       "                                <td id=\"T_ec852228_25eb_11ea_8f9a_7c67a2ca122drow0_col0\" class=\"data row0 col0\" >0</td>\n",
       "                        <td id=\"T_ec852228_25eb_11ea_8f9a_7c67a2ca122drow0_col1\" class=\"data row0 col1\" >0</td>\n",
       "                        <td id=\"T_ec852228_25eb_11ea_8f9a_7c67a2ca122drow0_col2\" class=\"data row0 col2\" >0</td>\n",
       "                        <td id=\"T_ec852228_25eb_11ea_8f9a_7c67a2ca122drow0_col3\" class=\"data row0 col3\" >0</td>\n",
       "                        <td id=\"T_ec852228_25eb_11ea_8f9a_7c67a2ca122drow0_col4\" class=\"data row0 col4\" >0</td>\n",
       "                        <td id=\"T_ec852228_25eb_11ea_8f9a_7c67a2ca122drow0_col5\" class=\"data row0 col5\" >0</td>\n",
       "            </tr>\n",
       "            <tr>\n",
       "                                <td id=\"T_ec852228_25eb_11ea_8f9a_7c67a2ca122drow1_col0\" class=\"data row1 col0\" >0.05</td>\n",
       "                        <td id=\"T_ec852228_25eb_11ea_8f9a_7c67a2ca122drow1_col1\" class=\"data row1 col1\" >0.0498453</td>\n",
       "                        <td id=\"T_ec852228_25eb_11ea_8f9a_7c67a2ca122drow1_col2\" class=\"data row1 col2\" >0.0498819</td>\n",
       "                        <td id=\"T_ec852228_25eb_11ea_8f9a_7c67a2ca122drow1_col3\" class=\"data row1 col3\" >0.0498539</td>\n",
       "                        <td id=\"T_ec852228_25eb_11ea_8f9a_7c67a2ca122drow1_col4\" class=\"data row1 col4\" >0.0498446</td>\n",
       "                        <td id=\"T_ec852228_25eb_11ea_8f9a_7c67a2ca122drow1_col5\" class=\"data row1 col5\" >-6.8624e-07</td>\n",
       "            </tr>\n",
       "            <tr>\n",
       "                                <td id=\"T_ec852228_25eb_11ea_8f9a_7c67a2ca122drow2_col0\" class=\"data row2 col0\" >0.1</td>\n",
       "                        <td id=\"T_ec852228_25eb_11ea_8f9a_7c67a2ca122drow2_col1\" class=\"data row2 col1\" >0.0987892</td>\n",
       "                        <td id=\"T_ec852228_25eb_11ea_8f9a_7c67a2ca122drow2_col2\" class=\"data row2 col2\" >0.0988476</td>\n",
       "                        <td id=\"T_ec852228_25eb_11ea_8f9a_7c67a2ca122drow2_col3\" class=\"data row2 col3\" >0.0988029</td>\n",
       "                        <td id=\"T_ec852228_25eb_11ea_8f9a_7c67a2ca122drow2_col4\" class=\"data row2 col4\" >0.098788</td>\n",
       "                        <td id=\"T_ec852228_25eb_11ea_8f9a_7c67a2ca122drow2_col5\" class=\"data row2 col5\" >-1.23878e-06</td>\n",
       "            </tr>\n",
       "            <tr>\n",
       "                                <td id=\"T_ec852228_25eb_11ea_8f9a_7c67a2ca122drow3_col0\" class=\"data row3 col0\" >0.15</td>\n",
       "                        <td id=\"T_ec852228_25eb_11ea_8f9a_7c67a2ca122drow3_col1\" class=\"data row3 col1\" >0.14602</td>\n",
       "                        <td id=\"T_ec852228_25eb_11ea_8f9a_7c67a2ca122drow3_col2\" class=\"data row3 col2\" >0.146085</td>\n",
       "                        <td id=\"T_ec852228_25eb_11ea_8f9a_7c67a2ca122drow3_col3\" class=\"data row3 col3\" >0.146035</td>\n",
       "                        <td id=\"T_ec852228_25eb_11ea_8f9a_7c67a2ca122drow3_col4\" class=\"data row3 col4\" >0.146019</td>\n",
       "                        <td id=\"T_ec852228_25eb_11ea_8f9a_7c67a2ca122drow3_col5\" class=\"data row3 col5\" >-1.63104e-06</td>\n",
       "            </tr>\n",
       "            <tr>\n",
       "                                <td id=\"T_ec852228_25eb_11ea_8f9a_7c67a2ca122drow4_col0\" class=\"data row4 col0\" >0.2</td>\n",
       "                        <td id=\"T_ec852228_25eb_11ea_8f9a_7c67a2ca122drow4_col1\" class=\"data row4 col1\" >0.190851</td>\n",
       "                        <td id=\"T_ec852228_25eb_11ea_8f9a_7c67a2ca122drow4_col2\" class=\"data row4 col2\" >0.190906</td>\n",
       "                        <td id=\"T_ec852228_25eb_11ea_8f9a_7c67a2ca122drow4_col3\" class=\"data row4 col3\" >0.190863</td>\n",
       "                        <td id=\"T_ec852228_25eb_11ea_8f9a_7c67a2ca122drow4_col4\" class=\"data row4 col4\" >0.190849</td>\n",
       "                        <td id=\"T_ec852228_25eb_11ea_8f9a_7c67a2ca122drow4_col5\" class=\"data row4 col5\" >-1.81853e-06</td>\n",
       "            </tr>\n",
       "            <tr>\n",
       "                                <td id=\"T_ec852228_25eb_11ea_8f9a_7c67a2ca122drow5_col0\" class=\"data row5 col0\" >0.25</td>\n",
       "                        <td id=\"T_ec852228_25eb_11ea_8f9a_7c67a2ca122drow5_col1\" class=\"data row5 col1\" >0.232733</td>\n",
       "                        <td id=\"T_ec852228_25eb_11ea_8f9a_7c67a2ca122drow5_col2\" class=\"data row5 col2\" >0.232766</td>\n",
       "                        <td id=\"T_ec852228_25eb_11ea_8f9a_7c67a2ca122drow5_col3\" class=\"data row5 col3\" >0.23274</td>\n",
       "                        <td id=\"T_ec852228_25eb_11ea_8f9a_7c67a2ca122drow5_col4\" class=\"data row5 col4\" >0.232732</td>\n",
       "                        <td id=\"T_ec852228_25eb_11ea_8f9a_7c67a2ca122drow5_col5\" class=\"data row5 col5\" >-1.80191e-06</td>\n",
       "            </tr>\n",
       "            <tr>\n",
       "                                <td id=\"T_ec852228_25eb_11ea_8f9a_7c67a2ca122drow6_col0\" class=\"data row6 col0\" >0.3</td>\n",
       "                        <td id=\"T_ec852228_25eb_11ea_8f9a_7c67a2ca122drow6_col1\" class=\"data row6 col1\" >0.271268</td>\n",
       "                        <td id=\"T_ec852228_25eb_11ea_8f9a_7c67a2ca122drow6_col2\" class=\"data row6 col2\" >0.271267</td>\n",
       "                        <td id=\"T_ec852228_25eb_11ea_8f9a_7c67a2ca122drow6_col3\" class=\"data row6 col3\" >0.271267</td>\n",
       "                        <td id=\"T_ec852228_25eb_11ea_8f9a_7c67a2ca122drow6_col4\" class=\"data row6 col4\" >0.271267</td>\n",
       "                        <td id=\"T_ec852228_25eb_11ea_8f9a_7c67a2ca122drow6_col5\" class=\"data row6 col5\" >-1.56073e-06</td>\n",
       "            </tr>\n",
       "            <tr>\n",
       "                                <td id=\"T_ec852228_25eb_11ea_8f9a_7c67a2ca122drow7_col0\" class=\"data row7 col0\" >0.35</td>\n",
       "                        <td id=\"T_ec852228_25eb_11ea_8f9a_7c67a2ca122drow7_col1\" class=\"data row7 col1\" >0.306201</td>\n",
       "                        <td id=\"T_ec852228_25eb_11ea_8f9a_7c67a2ca122drow7_col2\" class=\"data row7 col2\" >0.306159</td>\n",
       "                        <td id=\"T_ec852228_25eb_11ea_8f9a_7c67a2ca122drow7_col3\" class=\"data row7 col3\" >0.306189</td>\n",
       "                        <td id=\"T_ec852228_25eb_11ea_8f9a_7c67a2ca122drow7_col4\" class=\"data row7 col4\" >0.3062</td>\n",
       "                        <td id=\"T_ec852228_25eb_11ea_8f9a_7c67a2ca122drow7_col5\" class=\"data row7 col5\" >-1.15509e-06</td>\n",
       "            </tr>\n",
       "            <tr>\n",
       "                                <td id=\"T_ec852228_25eb_11ea_8f9a_7c67a2ca122drow8_col0\" class=\"data row8 col0\" >0.4</td>\n",
       "                        <td id=\"T_ec852228_25eb_11ea_8f9a_7c67a2ca122drow8_col1\" class=\"data row8 col1\" >0.337408</td>\n",
       "                        <td id=\"T_ec852228_25eb_11ea_8f9a_7c67a2ca122drow8_col2\" class=\"data row8 col2\" >0.337323</td>\n",
       "                        <td id=\"T_ec852228_25eb_11ea_8f9a_7c67a2ca122drow8_col3\" class=\"data row8 col3\" >0.337386</td>\n",
       "                        <td id=\"T_ec852228_25eb_11ea_8f9a_7c67a2ca122drow8_col4\" class=\"data row8 col4\" >0.337408</td>\n",
       "                        <td id=\"T_ec852228_25eb_11ea_8f9a_7c67a2ca122drow8_col5\" class=\"data row8 col5\" >-6.11706e-07</td>\n",
       "            </tr>\n",
       "            <tr>\n",
       "                                <td id=\"T_ec852228_25eb_11ea_8f9a_7c67a2ca122drow9_col0\" class=\"data row9 col0\" >0.45</td>\n",
       "                        <td id=\"T_ec852228_25eb_11ea_8f9a_7c67a2ca122drow9_col1\" class=\"data row9 col1\" >0.364886</td>\n",
       "                        <td id=\"T_ec852228_25eb_11ea_8f9a_7c67a2ca122drow9_col2\" class=\"data row9 col2\" >0.364755</td>\n",
       "                        <td id=\"T_ec852228_25eb_11ea_8f9a_7c67a2ca122drow9_col3\" class=\"data row9 col3\" >0.364853</td>\n",
       "                        <td id=\"T_ec852228_25eb_11ea_8f9a_7c67a2ca122drow9_col4\" class=\"data row9 col4\" >0.364885</td>\n",
       "                        <td id=\"T_ec852228_25eb_11ea_8f9a_7c67a2ca122drow9_col5\" class=\"data row9 col5\" >-8.539e-09</td>\n",
       "            </tr>\n",
       "            <tr>\n",
       "                                <td id=\"T_ec852228_25eb_11ea_8f9a_7c67a2ca122drow10_col0\" class=\"data row10 col0\" >0.5</td>\n",
       "                        <td id=\"T_ec852228_25eb_11ea_8f9a_7c67a2ca122drow10_col1\" class=\"data row10 col1\" >0.388723</td>\n",
       "                        <td id=\"T_ec852228_25eb_11ea_8f9a_7c67a2ca122drow10_col2\" class=\"data row10 col2\" >0.388549</td>\n",
       "                        <td id=\"T_ec852228_25eb_11ea_8f9a_7c67a2ca122drow10_col3\" class=\"data row10 col3\" >0.38868</td>\n",
       "                        <td id=\"T_ec852228_25eb_11ea_8f9a_7c67a2ca122drow10_col4\" class=\"data row10 col4\" >0.388724</td>\n",
       "                        <td id=\"T_ec852228_25eb_11ea_8f9a_7c67a2ca122drow10_col5\" class=\"data row10 col5\" >6.20517e-07</td>\n",
       "            </tr>\n",
       "    </tbody></table>"
      ],
      "text/plain": [
       "<pandas.io.formats.style.Styler at 0x7fc481bb1f10>"
      ]
     },
     "metadata": {},
     "output_type": "display_data"
    }
   ],
   "source": [
    "# Initializing DataFrame.\n",
    "df = pd.DataFrame()\n",
    "df[\"$x$\"] = xs\n",
    "df[\"$y_{math}$\"] = y_math\n",
    "df[\"$y^h$\"] = y_h\n",
    "df[\"$y^{h/2}$\"] = y_h_2\n",
    "df[\"$y_{rev}$\"] = y_rev\n",
    "df[\"$y_{rev} - y_{math}$\"] = y_rev_y_math\n",
    "\n",
    "display(df.style.hide_index())"
   ]
  },
  {
   "cell_type": "code",
   "execution_count": 7,
   "metadata": {},
   "outputs": [
    {
     "data": {
      "image/png": "[encoded data removed]",
      "text/plain": [
       "<Figure size 1080x576 with 1 Axes>"
      ]
     },
     "metadata": {
      "needs_background": "light"
     },
     "output_type": "display_data"
    }
   ],
   "source": [
    "plt.figure(figsize=(15,8))\n",
    "\n",
    "for column in df.columns[1:-1]:\n",
    "    plt.plot(df[\"$x$\"], df[column], label=column)\n",
    "\n",
    "plt.legend(fontsize=20)\n",
    "plt.show()"
   ]
  },
  {
   "cell_type": "code",
   "execution_count": 8,
   "metadata": {},
   "outputs": [
    {
     "data": {
      "image/png": "[encoded data removed]",
      "text/plain": [
       "<Figure size 1080x576 with 1 Axes>"
      ]
     },
     "metadata": {
      "needs_background": "light"
     },
     "output_type": "display_data"
    }
   ],
   "source": [
    "plt.figure(figsize=(15,8))\n",
    "\n",
    "for column in df.columns[1:-1]:\n",
    "    plt.plot(df[\"$x$\"], df[column], label=column)\n",
    "\n",
    "plt.xlim(0.482, 0.4825)\n",
    "plt.ylim(0.38, 0.3804)\n",
    "plt.legend(fontsize=20)\n",
    "plt.show()"
   ]
  },
  {
   "cell_type": "markdown",
   "metadata": {},
   "source": [
    "# Runge–Kutta method "
   ]
  },
  {
   "cell_type": "code",
   "execution_count": 9,
   "metadata": {},
   "outputs": [],
   "source": [
    "def runge_kutta(f, xs, y0, h):\n",
    "    '''Counts y values for xs to solve Cauchy task with middle rectangles.\n",
    "    \n",
    "    Args:\n",
    "        f (func): Function that we are integrating to solve task.\n",
    "        xs (list<float>): Points in which we counting values.\n",
    "        y0: (float): Initial point.\n",
    "        h (float): Step.\n",
    "        \n",
    "    Returns:\n",
    "        ys (list<float>): List with function values.\n",
    "    '''\n",
    "    \n",
    "    ys = []    \n",
    "    ys.append(y0)\n",
    "    \n",
    "    for i in range(1, len(xs)):\n",
    "        \n",
    "        k1 = h * f(xs[i - 1], ys[i - 1])\n",
    "        k2 = h * f(xs[i - 1] + (h / 2), ys[i - 1] + (k1 / 2))\n",
    "        k3 = h * f(xs[i - 1] + (h / 2), ys[i - 1] + (k2 / 2))\n",
    "        k4 = h * f(xs[i - 1] + h, ys[i - 1] + k3)\n",
    "        \n",
    "        y_m = ys[i - 1] + (1 / 6) * (k1 + 2*k2 + 2*k3 + k4)\n",
    "        ys.append(y_m)\n",
    "\n",
    "    return np.array(ys) "
   ]
  },
  {
   "cell_type": "code",
   "execution_count": 10,
   "metadata": {},
   "outputs": [],
   "source": [
    "# Values from Euler's left rectangles method.\n",
    "y_RK = runge_kutta(f_derivative, xs, y0, h)\n",
    "\n",
    "# Error rate.\n",
    "y_math_y_RK = y_math - y_RK"
   ]
  },
  {
   "cell_type": "markdown",
   "metadata": {},
   "source": [
    "# Adams methods "
   ]
  },
  {
   "cell_type": "markdown",
   "metadata": {},
   "source": [
    "## Extrapolation method "
   ]
  },
  {
   "cell_type": "code",
   "execution_count": 11,
   "metadata": {},
   "outputs": [],
   "source": [
    "def adams_extrapolation(f, xs, ys, h):\n",
    "    '''Counts y values for xs to solve Cauchy task with adams extrapolation.\n",
    "    \n",
    "    Args:\n",
    "        f (func): Function that we are integrating to solve task.\n",
    "        xs (list<float>): Points in which we counting values.\n",
    "        ys: (list<float>): Solutions for this point from runge kutta method. \n",
    "        h (float): Step.         \n",
    "        \n",
    "    Returns:\n",
    "        ys_adams (list<float>): List with function values.\n",
    "    '''\n",
    "    \n",
    "    qs = [h * f(xs[i], ys[i]) for i in range(len(xs))]\n",
    "    \n",
    "    ys_adams = list(ys[:5])\n",
    "        \n",
    "    for i in range(5, len(xs)):\n",
    "        \n",
    "        ys_adams.append(ys_adams[i-1] + (1 / 720.) * (1901 * qs[i-1] - \\\n",
    "                                                      2774 * qs[i-2] + \\\n",
    "                                                      2616 * qs[i-3] - \\\n",
    "                                                      1274 * qs[i-4] + \\\n",
    "                                                      251  * qs[i-5]\n",
    "                                                     ))\n",
    "            \n",
    "    return np.array(ys_adams)"
   ]
  },
  {
   "cell_type": "code",
   "execution_count": 12,
   "metadata": {},
   "outputs": [],
   "source": [
    "# Values from Adam's extrapolation method.\n",
    "y_Ad_ex = adams_extrapolation(f_derivative, xs, y_RK, h)\n",
    "\n",
    "# Error rate.\n",
    "y_math_y_Ad_ex = y_math - y_Ad_ex"
   ]
  },
  {
   "cell_type": "markdown",
   "metadata": {},
   "source": [
    "## Interpolation method "
   ]
  },
  {
   "cell_type": "code",
   "execution_count": 13,
   "metadata": {},
   "outputs": [],
   "source": [
    "def adams_interpolation(f, xs, ys, h):\n",
    "    '''Counts y values for xs to solve Cauchy task with adams interpolation.\n",
    "    \n",
    "    Args:\n",
    "        f (func): Function that we are integrating to solve task.\n",
    "        xs (list<float>): Points in which we counting values.\n",
    "        ys: (list<float>): Solutions for this point from runge kutta method.\n",
    "        h (float): Step.         \n",
    "        \n",
    "    Returns:\n",
    "        ys_adams (list<float>): List with function values.\n",
    "    '''\n",
    "    \n",
    "    qs = [h * f(xs[i], ys[i]) for i in range(len(xs))]\n",
    "    \n",
    "    ys_adams = list(ys[:5])\n",
    "        \n",
    "    for i in range(5, len(xs)):\n",
    "        \n",
    "        ys_adams.append(ys_adams[i-1] + (1 / 720.) * (251 * qs[i]   + \\\n",
    "                                                      646 * qs[i-1] - \\\n",
    "                                                      264 * qs[i-2] + \\\n",
    "                                                      106 * qs[i-3] - \\\n",
    "                                                      19  * qs[i-4]\n",
    "                                                     ))\n",
    "            \n",
    "    return np.array(ys_adams)"
   ]
  },
  {
   "cell_type": "code",
   "execution_count": 14,
   "metadata": {},
   "outputs": [],
   "source": [
    "# Values from Adam's extrapolation method.\n",
    "y_Ad_in = adams_interpolation(f_derivative, xs, y_RK, h)\n",
    "\n",
    "# Error rate.\n",
    "y_math_y_Ad_in = y_math - y_Ad_in"
   ]
  },
  {
   "cell_type": "markdown",
   "metadata": {},
   "source": [
    "# Building table "
   ]
  },
  {
   "cell_type": "code",
   "execution_count": 15,
   "metadata": {},
   "outputs": [
    {
     "data": {
      "text/html": [
       "<style  type=\"text/css\" >\n",
       "</style><table id=\"T_ec852229_25eb_11ea_8f9a_7c67a2ca122d\" ><thead>    <tr>        <th class=\"col_heading level0 col0\" >$x$</th>        <th class=\"col_heading level0 col1\" >$y_{math}$</th>        <th class=\"col_heading level0 col2\" >$y_{RK}$</th>        <th class=\"col_heading level0 col3\" >$y_{Ad}^{ex}$</th>        <th class=\"col_heading level0 col4\" >$y_{Ad}^{in}$</th>        <th class=\"col_heading level0 col5\" >$y_{math}$ $-$ $y_{RK}$</th>        <th class=\"col_heading level0 col6\" >$y_{math}$ $-$ $y_{Ad}^{ex}$</th>        <th class=\"col_heading level0 col7\" >$y_{math}$ $-$ $y_{Ad}^{in}$</th>    </tr></thead><tbody>\n",
       "                <tr>\n",
       "                                <td id=\"T_ec852229_25eb_11ea_8f9a_7c67a2ca122drow0_col0\" class=\"data row0 col0\" >0</td>\n",
       "                        <td id=\"T_ec852229_25eb_11ea_8f9a_7c67a2ca122drow0_col1\" class=\"data row0 col1\" >0</td>\n",
       "                        <td id=\"T_ec852229_25eb_11ea_8f9a_7c67a2ca122drow0_col2\" class=\"data row0 col2\" >0</td>\n",
       "                        <td id=\"T_ec852229_25eb_11ea_8f9a_7c67a2ca122drow0_col3\" class=\"data row0 col3\" >0</td>\n",
       "                        <td id=\"T_ec852229_25eb_11ea_8f9a_7c67a2ca122drow0_col4\" class=\"data row0 col4\" >0</td>\n",
       "                        <td id=\"T_ec852229_25eb_11ea_8f9a_7c67a2ca122drow0_col5\" class=\"data row0 col5\" >0</td>\n",
       "                        <td id=\"T_ec852229_25eb_11ea_8f9a_7c67a2ca122drow0_col6\" class=\"data row0 col6\" >0</td>\n",
       "                        <td id=\"T_ec852229_25eb_11ea_8f9a_7c67a2ca122drow0_col7\" class=\"data row0 col7\" >0</td>\n",
       "            </tr>\n",
       "            <tr>\n",
       "                                <td id=\"T_ec852229_25eb_11ea_8f9a_7c67a2ca122drow1_col0\" class=\"data row1 col0\" >0.05</td>\n",
       "                        <td id=\"T_ec852229_25eb_11ea_8f9a_7c67a2ca122drow1_col1\" class=\"data row1 col1\" >0.0498453</td>\n",
       "                        <td id=\"T_ec852229_25eb_11ea_8f9a_7c67a2ca122drow1_col2\" class=\"data row1 col2\" >0.0498452</td>\n",
       "                        <td id=\"T_ec852229_25eb_11ea_8f9a_7c67a2ca122drow1_col3\" class=\"data row1 col3\" >0.0498452</td>\n",
       "                        <td id=\"T_ec852229_25eb_11ea_8f9a_7c67a2ca122drow1_col4\" class=\"data row1 col4\" >0.0498452</td>\n",
       "                        <td id=\"T_ec852229_25eb_11ea_8f9a_7c67a2ca122drow1_col5\" class=\"data row1 col5\" >4.31727e-08</td>\n",
       "                        <td id=\"T_ec852229_25eb_11ea_8f9a_7c67a2ca122drow1_col6\" class=\"data row1 col6\" >4.31727e-08</td>\n",
       "                        <td id=\"T_ec852229_25eb_11ea_8f9a_7c67a2ca122drow1_col7\" class=\"data row1 col7\" >4.31727e-08</td>\n",
       "            </tr>\n",
       "            <tr>\n",
       "                                <td id=\"T_ec852229_25eb_11ea_8f9a_7c67a2ca122drow2_col0\" class=\"data row2 col0\" >0.1</td>\n",
       "                        <td id=\"T_ec852229_25eb_11ea_8f9a_7c67a2ca122drow2_col1\" class=\"data row2 col1\" >0.0987892</td>\n",
       "                        <td id=\"T_ec852229_25eb_11ea_8f9a_7c67a2ca122drow2_col2\" class=\"data row2 col2\" >0.0987891</td>\n",
       "                        <td id=\"T_ec852229_25eb_11ea_8f9a_7c67a2ca122drow2_col3\" class=\"data row2 col3\" >0.0987891</td>\n",
       "                        <td id=\"T_ec852229_25eb_11ea_8f9a_7c67a2ca122drow2_col4\" class=\"data row2 col4\" >0.0987891</td>\n",
       "                        <td id=\"T_ec852229_25eb_11ea_8f9a_7c67a2ca122drow2_col5\" class=\"data row2 col5\" >6.27965e-08</td>\n",
       "                        <td id=\"T_ec852229_25eb_11ea_8f9a_7c67a2ca122drow2_col6\" class=\"data row2 col6\" >6.27965e-08</td>\n",
       "                        <td id=\"T_ec852229_25eb_11ea_8f9a_7c67a2ca122drow2_col7\" class=\"data row2 col7\" >6.27965e-08</td>\n",
       "            </tr>\n",
       "            <tr>\n",
       "                                <td id=\"T_ec852229_25eb_11ea_8f9a_7c67a2ca122drow3_col0\" class=\"data row3 col0\" >0.15</td>\n",
       "                        <td id=\"T_ec852229_25eb_11ea_8f9a_7c67a2ca122drow3_col1\" class=\"data row3 col1\" >0.14602</td>\n",
       "                        <td id=\"T_ec852229_25eb_11ea_8f9a_7c67a2ca122drow3_col2\" class=\"data row3 col2\" >0.14602</td>\n",
       "                        <td id=\"T_ec852229_25eb_11ea_8f9a_7c67a2ca122drow3_col3\" class=\"data row3 col3\" >0.14602</td>\n",
       "                        <td id=\"T_ec852229_25eb_11ea_8f9a_7c67a2ca122drow3_col4\" class=\"data row3 col4\" >0.14602</td>\n",
       "                        <td id=\"T_ec852229_25eb_11ea_8f9a_7c67a2ca122drow3_col5\" class=\"data row3 col5\" >8.5569e-08</td>\n",
       "                        <td id=\"T_ec852229_25eb_11ea_8f9a_7c67a2ca122drow3_col6\" class=\"data row3 col6\" >8.5569e-08</td>\n",
       "                        <td id=\"T_ec852229_25eb_11ea_8f9a_7c67a2ca122drow3_col7\" class=\"data row3 col7\" >8.5569e-08</td>\n",
       "            </tr>\n",
       "            <tr>\n",
       "                                <td id=\"T_ec852229_25eb_11ea_8f9a_7c67a2ca122drow4_col0\" class=\"data row4 col0\" >0.2</td>\n",
       "                        <td id=\"T_ec852229_25eb_11ea_8f9a_7c67a2ca122drow4_col1\" class=\"data row4 col1\" >0.190851</td>\n",
       "                        <td id=\"T_ec852229_25eb_11ea_8f9a_7c67a2ca122drow4_col2\" class=\"data row4 col2\" >0.190851</td>\n",
       "                        <td id=\"T_ec852229_25eb_11ea_8f9a_7c67a2ca122drow4_col3\" class=\"data row4 col3\" >0.190851</td>\n",
       "                        <td id=\"T_ec852229_25eb_11ea_8f9a_7c67a2ca122drow4_col4\" class=\"data row4 col4\" >0.190851</td>\n",
       "                        <td id=\"T_ec852229_25eb_11ea_8f9a_7c67a2ca122drow4_col5\" class=\"data row4 col5\" >1.02962e-07</td>\n",
       "                        <td id=\"T_ec852229_25eb_11ea_8f9a_7c67a2ca122drow4_col6\" class=\"data row4 col6\" >1.02962e-07</td>\n",
       "                        <td id=\"T_ec852229_25eb_11ea_8f9a_7c67a2ca122drow4_col7\" class=\"data row4 col7\" >1.02962e-07</td>\n",
       "            </tr>\n",
       "            <tr>\n",
       "                                <td id=\"T_ec852229_25eb_11ea_8f9a_7c67a2ca122drow5_col0\" class=\"data row5 col0\" >0.25</td>\n",
       "                        <td id=\"T_ec852229_25eb_11ea_8f9a_7c67a2ca122drow5_col1\" class=\"data row5 col1\" >0.232733</td>\n",
       "                        <td id=\"T_ec852229_25eb_11ea_8f9a_7c67a2ca122drow5_col2\" class=\"data row5 col2\" >0.232733</td>\n",
       "                        <td id=\"T_ec852229_25eb_11ea_8f9a_7c67a2ca122drow5_col3\" class=\"data row5 col3\" >0.232737</td>\n",
       "                        <td id=\"T_ec852229_25eb_11ea_8f9a_7c67a2ca122drow5_col4\" class=\"data row5 col4\" >0.232733</td>\n",
       "                        <td id=\"T_ec852229_25eb_11ea_8f9a_7c67a2ca122drow5_col5\" class=\"data row5 col5\" >1.28821e-07</td>\n",
       "                        <td id=\"T_ec852229_25eb_11ea_8f9a_7c67a2ca122drow5_col6\" class=\"data row5 col6\" >-3.57759e-06</td>\n",
       "                        <td id=\"T_ec852229_25eb_11ea_8f9a_7c67a2ca122drow5_col7\" class=\"data row5 col7\" >2.9672e-07</td>\n",
       "            </tr>\n",
       "            <tr>\n",
       "                                <td id=\"T_ec852229_25eb_11ea_8f9a_7c67a2ca122drow6_col0\" class=\"data row6 col0\" >0.3</td>\n",
       "                        <td id=\"T_ec852229_25eb_11ea_8f9a_7c67a2ca122drow6_col1\" class=\"data row6 col1\" >0.271268</td>\n",
       "                        <td id=\"T_ec852229_25eb_11ea_8f9a_7c67a2ca122drow6_col2\" class=\"data row6 col2\" >0.271268</td>\n",
       "                        <td id=\"T_ec852229_25eb_11ea_8f9a_7c67a2ca122drow6_col3\" class=\"data row6 col3\" >0.271276</td>\n",
       "                        <td id=\"T_ec852229_25eb_11ea_8f9a_7c67a2ca122drow6_col4\" class=\"data row6 col4\" >0.271268</td>\n",
       "                        <td id=\"T_ec852229_25eb_11ea_8f9a_7c67a2ca122drow6_col5\" class=\"data row6 col5\" >1.32499e-07</td>\n",
       "                        <td id=\"T_ec852229_25eb_11ea_8f9a_7c67a2ca122drow6_col6\" class=\"data row6 col6\" >-7.21457e-06</td>\n",
       "                        <td id=\"T_ec852229_25eb_11ea_8f9a_7c67a2ca122drow6_col7\" class=\"data row6 col7\" >4.36683e-07</td>\n",
       "            </tr>\n",
       "            <tr>\n",
       "                                <td id=\"T_ec852229_25eb_11ea_8f9a_7c67a2ca122drow7_col0\" class=\"data row7 col0\" >0.35</td>\n",
       "                        <td id=\"T_ec852229_25eb_11ea_8f9a_7c67a2ca122drow7_col1\" class=\"data row7 col1\" >0.306201</td>\n",
       "                        <td id=\"T_ec852229_25eb_11ea_8f9a_7c67a2ca122drow7_col2\" class=\"data row7 col2\" >0.306201</td>\n",
       "                        <td id=\"T_ec852229_25eb_11ea_8f9a_7c67a2ca122drow7_col3\" class=\"data row7 col3\" >0.306211</td>\n",
       "                        <td id=\"T_ec852229_25eb_11ea_8f9a_7c67a2ca122drow7_col4\" class=\"data row7 col4\" >0.3062</td>\n",
       "                        <td id=\"T_ec852229_25eb_11ea_8f9a_7c67a2ca122drow7_col5\" class=\"data row7 col5\" >1.44303e-07</td>\n",
       "                        <td id=\"T_ec852229_25eb_11ea_8f9a_7c67a2ca122drow7_col6\" class=\"data row7 col6\" >-1.03086e-05</td>\n",
       "                        <td id=\"T_ec852229_25eb_11ea_8f9a_7c67a2ca122drow7_col7\" class=\"data row7 col7\" >5.36899e-07</td>\n",
       "            </tr>\n",
       "            <tr>\n",
       "                                <td id=\"T_ec852229_25eb_11ea_8f9a_7c67a2ca122drow8_col0\" class=\"data row8 col0\" >0.4</td>\n",
       "                        <td id=\"T_ec852229_25eb_11ea_8f9a_7c67a2ca122drow8_col1\" class=\"data row8 col1\" >0.337408</td>\n",
       "                        <td id=\"T_ec852229_25eb_11ea_8f9a_7c67a2ca122drow8_col2\" class=\"data row8 col2\" >0.337408</td>\n",
       "                        <td id=\"T_ec852229_25eb_11ea_8f9a_7c67a2ca122drow8_col3\" class=\"data row8 col3\" >0.337421</td>\n",
       "                        <td id=\"T_ec852229_25eb_11ea_8f9a_7c67a2ca122drow8_col4\" class=\"data row8 col4\" >0.337408</td>\n",
       "                        <td id=\"T_ec852229_25eb_11ea_8f9a_7c67a2ca122drow8_col5\" class=\"data row8 col5\" >1.48101e-07</td>\n",
       "                        <td id=\"T_ec852229_25eb_11ea_8f9a_7c67a2ca122drow8_col6\" class=\"data row8 col6\" >-1.25977e-05</td>\n",
       "                        <td id=\"T_ec852229_25eb_11ea_8f9a_7c67a2ca122drow8_col7\" class=\"data row8 col7\" >5.76835e-07</td>\n",
       "            </tr>\n",
       "            <tr>\n",
       "                                <td id=\"T_ec852229_25eb_11ea_8f9a_7c67a2ca122drow9_col0\" class=\"data row9 col0\" >0.45</td>\n",
       "                        <td id=\"T_ec852229_25eb_11ea_8f9a_7c67a2ca122drow9_col1\" class=\"data row9 col1\" >0.364886</td>\n",
       "                        <td id=\"T_ec852229_25eb_11ea_8f9a_7c67a2ca122drow9_col2\" class=\"data row9 col2\" >0.364885</td>\n",
       "                        <td id=\"T_ec852229_25eb_11ea_8f9a_7c67a2ca122drow9_col3\" class=\"data row9 col3\" >0.364899</td>\n",
       "                        <td id=\"T_ec852229_25eb_11ea_8f9a_7c67a2ca122drow9_col4\" class=\"data row9 col4\" >0.364885</td>\n",
       "                        <td id=\"T_ec852229_25eb_11ea_8f9a_7c67a2ca122drow9_col5\" class=\"data row9 col5\" >1.73277e-07</td>\n",
       "                        <td id=\"T_ec852229_25eb_11ea_8f9a_7c67a2ca122drow9_col6\" class=\"data row9 col6\" >-1.39723e-05</td>\n",
       "                        <td id=\"T_ec852229_25eb_11ea_8f9a_7c67a2ca122drow9_col7\" class=\"data row9 col7\" >5.90986e-07</td>\n",
       "            </tr>\n",
       "            <tr>\n",
       "                                <td id=\"T_ec852229_25eb_11ea_8f9a_7c67a2ca122drow10_col0\" class=\"data row10 col0\" >0.5</td>\n",
       "                        <td id=\"T_ec852229_25eb_11ea_8f9a_7c67a2ca122drow10_col1\" class=\"data row10 col1\" >0.388723</td>\n",
       "                        <td id=\"T_ec852229_25eb_11ea_8f9a_7c67a2ca122drow10_col2\" class=\"data row10 col2\" >0.388723</td>\n",
       "                        <td id=\"T_ec852229_25eb_11ea_8f9a_7c67a2ca122drow10_col3\" class=\"data row10 col3\" >0.388738</td>\n",
       "                        <td id=\"T_ec852229_25eb_11ea_8f9a_7c67a2ca122drow10_col4\" class=\"data row10 col4\" >0.388722</td>\n",
       "                        <td id=\"T_ec852229_25eb_11ea_8f9a_7c67a2ca122drow10_col5\" class=\"data row10 col5\" >2.05994e-07</td>\n",
       "                        <td id=\"T_ec852229_25eb_11ea_8f9a_7c67a2ca122drow10_col6\" class=\"data row10 col6\" >-1.45224e-05</td>\n",
       "                        <td id=\"T_ec852229_25eb_11ea_8f9a_7c67a2ca122drow10_col7\" class=\"data row10 col7\" >5.7635e-07</td>\n",
       "            </tr>\n",
       "    </tbody></table>"
      ],
      "text/plain": [
       "<pandas.io.formats.style.Styler at 0x7fc481bb1f50>"
      ]
     },
     "metadata": {},
     "output_type": "display_data"
    }
   ],
   "source": [
    "# Initializing DataFrame.\n",
    "df = pd.DataFrame()\n",
    "df[\"$x$\"] = xs\n",
    "df[\"$y_{math}$\"] = y_math\n",
    "df[\"$y_{RK}$\"] = y_RK\n",
    "df[\"$y_{Ad}^{ex}$\"] = y_Ad_ex\n",
    "df[\"$y_{Ad}^{in}$\"] = y_Ad_in\n",
    "df[\"$y_{math}$ $-$ $y_{RK}$\"] = y_math_y_RK\n",
    "df[\"$y_{math}$ $-$ $y_{Ad}^{ex}$\"] = y_math_y_Ad_ex\n",
    "df[\"$y_{math}$ $-$ $y_{Ad}^{in}$\"] = y_math_y_Ad_in\n",
    "\n",
    "display(df.style.hide_index())"
   ]
  }
 ],
 "metadata": {
  "hide_input": false,
  "kernelspec": {
   "display_name": "Python 3",
   "language": "python",
   "name": "python3"
  },
  "language_info": {
   "codemirror_mode": {
    "name": "ipython",
    "version": 3
   },
   "file_extension": ".py",
   "mimetype": "text/x-python",
   "name": "python",
   "nbconvert_exporter": "python",
   "pygments_lexer": "ipython3",
   "version": "3.7.4"
  },
  "toc": {
   "base_numbering": 1,
   "nav_menu": {},
   "number_sections": true,
   "sideBar": false,
   "skip_h1_title": false,
   "title_cell": "Table of Contents",
   "title_sidebar": "Contents",
   "toc_cell": false,
   "toc_position": {},
   "toc_section_display": true,
   "toc_window_display": false
  }
 },
 "nbformat": 4,
 "nbformat_minor": 2
}
