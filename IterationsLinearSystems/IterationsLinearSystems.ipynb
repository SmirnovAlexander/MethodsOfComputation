{
 "cells": [
  {
   "cell_type": "markdown",
   "metadata": {},
   "source": [
    "Solve linear systems using iterations methods (Book 1, p. 102, ex. 12.7)."
   ]
  },
  {
   "cell_type": "code",
   "execution_count": 1,
   "metadata": {},
   "outputs": [],
   "source": [
    "import numpy as np\n",
    "from numpy.linalg import solve, inv, norm, eig\n",
    "\n",
    "import pandas as pd"
   ]
  },
  {
   "cell_type": "markdown",
   "metadata": {},
   "source": [
    "# Common parts"
   ]
  },
  {
   "cell_type": "code",
   "execution_count": 2,
   "metadata": {},
   "outputs": [],
   "source": [
    "# Initial test matrix.\n",
    "A = np.array([[7.35272,  0.88255,  -2.270052],\n",
    "              [0.88255,  5.58351,  0.528167],\n",
    "              [-2.27005, 0.528167, 4.430329]])\n",
    "\n",
    "b = np.array([[1.],\n",
    "              [0.],\n",
    "              [0.]])"
   ]
  },
  {
   "cell_type": "markdown",
   "metadata": {},
   "source": [
    "# Gaussian elimination"
   ]
  },
  {
   "cell_type": "code",
   "execution_count": 3,
   "metadata": {},
   "outputs": [],
   "source": [
    "def gaussian_elimination(A, b, eps=1e-5):\n",
    "    \"\"\"Solving linear system using gaussian elimination.\n",
    "\n",
    "    Args:\n",
    "        A (ndarray<ndarray, ndarray>): matrix of coefficents.\n",
    "        b (ndarray): vector of values.\n",
    "        eps (float): all values below eps equivalent to zero.\n",
    "\n",
    "    Returns:\n",
    "        x (ndarray): solution.\n",
    "    \"\"\"\n",
    "\n",
    "    # Getting matrix shape.\n",
    "    n = A.shape[0]\n",
    "\n",
    "    # Merging coefficents with values.\n",
    "    Ab = np.concatenate((A, b), axis=1)\n",
    "\n",
    "    # Making upper triangular matrix.\n",
    "    for k in range(0, n):\n",
    "\n",
    "        # Dividing all row alements after\n",
    "        # diagonal element on diagonal\n",
    "        # element.\n",
    "        tmp = Ab[k][k]\n",
    "        if np.abs(tmp) < eps:\n",
    "            print(\"\\nElement Ab[{}][{}]={} smaller than eps={}.\".format(\n",
    "                k, k, tmp, eps))\n",
    "        for j in range(k, n + 1):\n",
    "            Ab[k][j] = Ab[k][j] / tmp\n",
    "\n",
    "        # Substracting top element multiplied\n",
    "        # by 1st element in row from each\n",
    "        # element.\n",
    "        for i in range(k + 1, n):\n",
    "            tmp = Ab[i][k]\n",
    "            for j in range(k, n + 1):\n",
    "                Ab[i][j] = Ab[i][j] - Ab[k][j] * tmp\n",
    "\n",
    "    # Solve equation for an upper\n",
    "    # triangular matrix Ab.\n",
    "    x = np.zeros((3, 1))\n",
    "    for i in range(n - 1, -1, -1):\n",
    "        x[i] = Ab[i][n] / Ab[i][i]\n",
    "        for k in range(i - 1, -1, -1):\n",
    "            Ab[k][n] -= Ab[k][i] * x[i]\n",
    "\n",
    "    return x"
   ]
  },
  {
   "cell_type": "code",
   "execution_count": 4,
   "metadata": {},
   "outputs": [
    {
     "name": "stdout",
     "output_type": "stream",
     "text": [
      "\n",
      "Gauss solution: \n",
      "[[ 0.16810435]\n",
      " [-0.03511502]\n",
      " [ 0.09032103]]\n"
     ]
    }
   ],
   "source": [
    "gauss_solution = gaussian_elimination(A, b) \n",
    "print(\"\\nGauss solution: \\n{}\".format(gauss_solution))"
   ]
  },
  {
   "cell_type": "markdown",
   "metadata": {},
   "source": [
    "# Iteration method"
   ]
  },
  {
   "cell_type": "code",
   "execution_count": 5,
   "metadata": {},
   "outputs": [],
   "source": [
    "def iterations_prepare(A, b, verbose=True):\n",
    "    \"\"\"prepares linear system to x = h_d * x + g_d form.\n",
    "\n",
    "    Args:\n",
    "        A (ndarray<ndarray, ndarray>): matrix of coefficents.\n",
    "        b (ndarray): vector of values.\n",
    "\n",
    "    D is diagonal matrix with coefficents from A diagonal. \n",
    "\n",
    "    Returns:\n",
    "        H_D (ndarray<ndarray, ndarray>): E - D^(-1) * A.\n",
    "        g_D (ndarray): D^(-1) * b.\n",
    "    \"\"\"\n",
    "\n",
    "    verboseprint = print if verbose else lambda *a, **k: None\n",
    "\n",
    "    verboseprint(\"\\nA: \\n{}\".format(A))\n",
    "    verboseprint(\"\\nb: \\n{}\".format(b))\n",
    "\n",
    "    D = np.diag(np.diag(A))\n",
    "    verboseprint(\"\\nD: \\n{}\".format(D))\n",
    "\n",
    "    H_D = np.identity(A.shape[0]) - np.dot(inv(D), A)\n",
    "    verboseprint(\"\\nH_D: \\n{}\".format(H_D))\n",
    "\n",
    "    g_D = np.dot(inv(D), b)\n",
    "    verboseprint(\"\\ng_D: \\n{}\".format(g_D))\n",
    "\n",
    "    H_D_norm = norm(H_D, np.inf)\n",
    "    verboseprint(\"\\n||H_D||_inf: \\n{}\".format(H_D_norm))\n",
    "\n",
    "    return H_D, g_D"
   ]
  },
  {
   "cell_type": "code",
   "execution_count": 6,
   "metadata": {},
   "outputs": [],
   "source": [
    "def apriori_iterations_estimation(H, g, verbose=True, eps=1e-5, x_0=[[0.],\n",
    "                                                                     [0.],\n",
    "                                                                     [0.]]):\n",
    "    \"\"\"Apriori estimating number of iterations.\n",
    "\n",
    "    Find such k, that difference between\n",
    "    answer and solution will be less then eps.\n",
    "\n",
    "    Args:\n",
    "        H (ndarray<ndarray, ndarray>): E - D^(-1) * A.\n",
    "        g (ndarray): D^(-1) * b.\n",
    "        eps (float): solution error rate.\n",
    "        x_0 (ndarray<ndarray, ndarray>): starting vector.\n",
    "\n",
    "    Returns:\n",
    "        k (int): estimated number of iterations.\n",
    "    \"\"\"\n",
    "\n",
    "    verboseprint = print if verbose else lambda *a, **k: None\n",
    "\n",
    "    k = 1\n",
    "    while True:\n",
    "        error = (norm(H, np.inf)**k) * norm(x_0, np.inf) + \\\n",
    "                (norm(H, np.inf)**k) * norm(g, np.inf) / \\\n",
    "                (1 - norm(H, np.inf))\n",
    "        if (error < eps):\n",
    "            break\n",
    "        k += 1\n",
    "\n",
    "    verboseprint(\"\\nEstimated number of iterations: \\n{}\".format(k))\n",
    "\n",
    "    return k"
   ]
  },
  {
   "cell_type": "code",
   "execution_count": 7,
   "metadata": {},
   "outputs": [],
   "source": [
    "def iterations_method(A, b, k, verbose=True, x_0=[[0.],\n",
    "                                                  [0.],\n",
    "                                                  [0.]]):\n",
    "    \"\"\"Solving linear system using iterations method.\n",
    "\n",
    "    Args:\n",
    "        A (ndarray<ndarray, ndarray>): matrix of coefficents.\n",
    "        b (ndarray): vector of values.\n",
    "        k (int): number of iterations.\n",
    "        x_0 (ndarray<ndarray, ndarray>): starting vector.\n",
    "\n",
    "    Returns:\n",
    "        x (ndarray): solution.\n",
    "    \"\"\"\n",
    "\n",
    "    verboseprint = print if verbose else lambda *a, **k: None\n",
    "\n",
    "    H, g = iterations_prepare(A, b, verbose=verbose)\n",
    "\n",
    "    for i in range(k):\n",
    "        x = np.dot(H, x_0) + g\n",
    "        x_0 = x\n",
    "\n",
    "    verboseprint(\"\\nIterations solution: \\n{}\".format(x))\n",
    "\n",
    "    return x"
   ]
  },
  {
   "cell_type": "code",
   "execution_count": 8,
   "metadata": {},
   "outputs": [],
   "source": [
    "def iterations_method_stats(A, b, x_solution, eps=1e-5, verbose=True, x_0=[[0.],\n",
    "                                                                           [0.],\n",
    "                                                                           [0.]]):\n",
    "    \"\"\"Printing stats about iterations method.\n",
    "\n",
    "    Args:\n",
    "        A (ndarray<ndarray, ndarray>): matrix of coefficents.\n",
    "        b (ndarray): vector of values.\n",
    "        x_solution (ndarray): actual solution.\n",
    "        eps (float): solution error rate.\n",
    "        x_0 (ndarray<ndarray, ndarray>): starting vector.\n",
    "\n",
    "    Returns:\n",
    "        k (int): number of iterations to hit eps error.\n",
    "    \"\"\"\n",
    "\n",
    "    verboseprint = print if verbose else lambda *a, **k: None\n",
    "\n",
    "    H, g = iterations_prepare(A, b, verbose=False)\n",
    "\n",
    "    k = 1\n",
    "    x = x_0\n",
    "    while norm(x_solution - x, np.inf) > eps:\n",
    "        x_0 = x\n",
    "        x = iterations_method(A, b, k, verbose=False)\n",
    "        k += 1\n",
    "\n",
    "    error = norm(x_solution - x, np.inf)\n",
    "    aprior_error = (norm(H, np.inf)**k) * norm(x_0, np.inf) + \\\n",
    "                   (norm(H, np.inf)**k) * norm(g, np.inf) / \\\n",
    "                   (1 - norm(H, np.inf))\n",
    "    prior_error = norm(H, np.inf) * norm(x - x_0, np.inf) / \\\n",
    "                  (1 - norm(H, np.inf))\n",
    "    \n",
    "    \n",
    "    # Stats for lusternik solution.\n",
    "    w, _ = eig(H)\n",
    "    r = np.max(w)\n",
    "    lusternik_solution = x_0 + (x - x_0) / (1 - r)\n",
    "    lusternik_error = norm(x_solution - lusternik_solution, np.inf)\n",
    "    \n",
    "    verboseprint(\"\\nSolution: \\n{}\".format(x))\n",
    "    verboseprint(\"\\nNumber of iterations to reach given error rate: \\n{}\".format(k))\n",
    "    verboseprint(\"\\nAposterior error: \\n{}\".format(aprior_error))\n",
    "    verboseprint(\"\\nPosterior error: \\n{}\".format(prior_error))\n",
    "    verboseprint(\"\\nError: \\n{}\".format(error))\n",
    "    verboseprint(\"\\nLusternik error: \\n{}\".format(lusternik_error))\n",
    "\n",
    "    return [k, error, lusternik_error]"
   ]
  },
  {
   "cell_type": "markdown",
   "metadata": {},
   "source": [
    "### Finding apriori iterations number"
   ]
  },
  {
   "cell_type": "code",
   "execution_count": 9,
   "metadata": {},
   "outputs": [
    {
     "name": "stdout",
     "output_type": "stream",
     "text": [
      "\n",
      "A: \n",
      "[[ 7.35272   0.88255  -2.270052]\n",
      " [ 0.88255   5.58351   0.528167]\n",
      " [-2.27005   0.528167  4.430329]]\n",
      "\n",
      "b: \n",
      "[[1.]\n",
      " [0.]\n",
      " [0.]]\n",
      "\n",
      "D: \n",
      "[[7.35272  0.       0.      ]\n",
      " [0.       5.58351  0.      ]\n",
      " [0.       0.       4.430329]]\n",
      "\n",
      "H_D: \n",
      "[[ 0.         -0.12003041  0.30873636]\n",
      " [-0.15806366  0.         -0.09459408]\n",
      " [ 0.51238858 -0.1192162   0.        ]]\n",
      "\n",
      "g_D: \n",
      "[[0.13600409]\n",
      " [0.        ]\n",
      " [0.        ]]\n",
      "\n",
      "||H_D||_inf: \n",
      "0.6316047860102488\n",
      "\n",
      "Estimated number of iterations: \n",
      "23\n"
     ]
    }
   ],
   "source": [
    "H, g = iterations_prepare(A, b)\n",
    "k = apriori_iterations_estimation(H, g)"
   ]
  },
  {
   "cell_type": "markdown",
   "metadata": {},
   "source": [
    "### Finding solution"
   ]
  },
  {
   "cell_type": "code",
   "execution_count": 10,
   "metadata": {},
   "outputs": [
    {
     "name": "stdout",
     "output_type": "stream",
     "text": [
      "\n",
      "Solution: \n",
      "[[ 0.1680997 ]\n",
      " [-0.03511201]\n",
      " [ 0.09031434]]\n",
      "\n",
      "Number of iterations to reach given error rate: \n",
      "14\n",
      "\n",
      "Aposterior error: \n",
      "0.0008638344045932408\n",
      "\n",
      "Posterior error: \n",
      "1.1857412019449837e-05\n",
      "\n",
      "Error: \n",
      "6.682709230584893e-06\n",
      "\n",
      "Lusternik error: \n",
      "1.6312125191431104e-06\n"
     ]
    }
   ],
   "source": [
    "iteration_result = iterations_method_stats(A, b, gauss_solution)"
   ]
  },
  {
   "cell_type": "markdown",
   "metadata": {},
   "source": [
    "# Seidel method"
   ]
  },
  {
   "cell_type": "code",
   "execution_count": 11,
   "metadata": {},
   "outputs": [],
   "source": [
    "def seidel_method(A, b, k, verbose=True, x_0=[[0.],\n",
    "                                              [0.],\n",
    "                                              [0.]]):\n",
    "    \"\"\"Solving linear system using seidel method.\n",
    "\n",
    "    Args:\n",
    "        A (ndarray<ndarray, ndarray>): matrix of coefficents.\n",
    "        b (ndarray): vector of values.\n",
    "        k (int): number of iterations.\n",
    "        x_0 (ndarray<ndarray, ndarray>): starting vector.\n",
    "\n",
    "    Returns:\n",
    "        x (ndarray): solution.\n",
    "    \"\"\"\n",
    "\n",
    "    verboseprint = print if verbose else lambda *a, **k: None\n",
    "\n",
    "    H, g = iterations_prepare(A, b, verbose=verbose)\n",
    "\n",
    "    H_L = np.tril(H, -1)\n",
    "    H_R = np.triu(H)\n",
    "    \n",
    "    verboseprint(\"\\nH_L: \\n{}\".format(H_L))\n",
    "    verboseprint(\"\\nH_R: \\n{}\".format(H_R))\n",
    "    \n",
    "    identity = np.identity(A.shape[0])\n",
    "    for i in range(k):\n",
    "        x = np.dot(inv(identity - H_L), np.dot(H_R, x_0)) + \\\n",
    "            np.dot(inv(identity - H_L), g)\n",
    "        x_0 = x\n",
    "\n",
    "    verboseprint(\"\\nSeidel method solution: \\n{}\".format(x))\n",
    "\n",
    "    return x"
   ]
  },
  {
   "cell_type": "code",
   "execution_count": 12,
   "metadata": {},
   "outputs": [],
   "source": [
    "def seidel_method_stats(A, b, x_solution, eps=1e-5, verbose=True, x_0=[[0.],\n",
    "                                                                       [0.],\n",
    "                                                                       [0.]]):\n",
    "    \"\"\"Printing stats about seidel method.\n",
    "\n",
    "    Args:\n",
    "        A (ndarray<ndarray, ndarray>): matrix of coefficents.\n",
    "        b (ndarray): vector of values.\n",
    "        x_solution (ndarray): actual solution.\n",
    "        eps (float): solution error rate.\n",
    "        x_0 (ndarray<ndarray, ndarray>): starting vector.\n",
    "\n",
    "    Returns:\n",
    "        k (int): number of iterations to hit eps error.\n",
    "    \"\"\"\n",
    "\n",
    "    verboseprint = print if verbose else lambda *a, **k: None\n",
    "\n",
    "    H, g = iterations_prepare(A, b, verbose=False)\n",
    "\n",
    "    H_L = np.tril(H, -1)\n",
    "    H_R = np.triu(H)\n",
    "    \n",
    "    identity = np.identity(A.shape[0])\n",
    "    \n",
    "    k = 1\n",
    "    x = x_0\n",
    "    while norm(x_solution - x, np.inf) > eps:\n",
    "        x_0 = x\n",
    "        x = seidel_method(A, b, k, verbose=False)\n",
    "        k += 1\n",
    "\n",
    "\n",
    "    error = norm(x_solution - x, np.inf)\n",
    "    \n",
    "    # Stats for lusternik solution.\n",
    "    w, _ = eig(np.dot(inv(identity - H_L), H_R))\n",
    "    r = np.max(w)\n",
    "    lusternik_solution = x_0 + (x - x_0) / (1 - r)\n",
    "    lusternik_error = norm(x_solution - lusternik_solution, np.inf)\n",
    "    \n",
    "    verboseprint(\"\\nSolution: \\n{}\".format(x))\n",
    "    verboseprint(\"\\nNumber of iterations to reach given error rate: \\n{}\".format(k))\n",
    "    verboseprint(\"\\nError: \\n{}\".format(error))\n",
    "    verboseprint(\"\\nLusternik error: \\n{}\".format(lusternik_error))\n",
    "\n",
    "    return [k, float(error), lusternik_error]"
   ]
  },
  {
   "cell_type": "markdown",
   "metadata": {},
   "source": [
    "### Finding solution"
   ]
  },
  {
   "cell_type": "code",
   "execution_count": 13,
   "metadata": {},
   "outputs": [
    {
     "name": "stdout",
     "output_type": "stream",
     "text": [
      "\n",
      "Solution: \n",
      "[[ 0.16810058]\n",
      " [-0.03511352]\n",
      " [ 0.09031892]]\n",
      "\n",
      "Number of iterations to reach given error rate: \n",
      "8\n",
      "\n",
      "Error: \n",
      "3.7638519359839417e-06\n",
      "\n",
      "Lusternik error: \n",
      "2.5320162633235554e-12\n"
     ]
    }
   ],
   "source": [
    "siedel_result = seidel_method_stats(A, b, gauss_solution)"
   ]
  },
  {
   "cell_type": "markdown",
   "metadata": {},
   "source": [
    "# Successive over-relaxation method"
   ]
  },
  {
   "cell_type": "markdown",
   "metadata": {},
   "source": [
    "# Methods comparison"
   ]
  },
  {
   "cell_type": "code",
   "execution_count": 14,
   "metadata": {},
   "outputs": [],
   "source": [
    "pd.options.display.float_format = '{:.2e}'.format\n",
    "\n",
    "columns = ['Method', 'Iterations', 'Error', 'Lusternik error']\n",
    "results = pd.DataFrame(columns=columns)\n",
    "\n",
    "results.loc[len(results)] = ['Iterations', *iteration_result]\n",
    "results.loc[len(results)] = ['Siedel', *siedel_result]\n",
    "\n",
    "results.set_index('Method', inplace=True)\n",
    "results = results.astype({'Error': 'float', 'Lusternik error': 'float'})"
   ]
  },
  {
   "cell_type": "code",
   "execution_count": 15,
   "metadata": {},
   "outputs": [
    {
     "data": {
      "text/html": [
       "<div>\n",
       "<style scoped>\n",
       "    .dataframe tbody tr th:only-of-type {\n",
       "        vertical-align: middle;\n",
       "    }\n",
       "\n",
       "    .dataframe tbody tr th {\n",
       "        vertical-align: top;\n",
       "    }\n",
       "\n",
       "    .dataframe thead th {\n",
       "        text-align: right;\n",
       "    }\n",
       "</style>\n",
       "<table border=\"1\" class=\"dataframe\">\n",
       "  <thead>\n",
       "    <tr style=\"text-align: right;\">\n",
       "      <th></th>\n",
       "      <th>Iterations</th>\n",
       "      <th>Error</th>\n",
       "      <th>Lusternik error</th>\n",
       "    </tr>\n",
       "    <tr>\n",
       "      <th>Method</th>\n",
       "      <th></th>\n",
       "      <th></th>\n",
       "      <th></th>\n",
       "    </tr>\n",
       "  </thead>\n",
       "  <tbody>\n",
       "    <tr>\n",
       "      <th>Iterations</th>\n",
       "      <td>14</td>\n",
       "      <td>6.68e-06</td>\n",
       "      <td>1.63e-06</td>\n",
       "    </tr>\n",
       "    <tr>\n",
       "      <th>Siedel</th>\n",
       "      <td>8</td>\n",
       "      <td>3.76e-06</td>\n",
       "      <td>2.53e-12</td>\n",
       "    </tr>\n",
       "  </tbody>\n",
       "</table>\n",
       "</div>"
      ],
      "text/plain": [
       "           Iterations    Error  Lusternik error\n",
       "Method                                         \n",
       "Iterations         14 6.68e-06         1.63e-06\n",
       "Siedel              8 3.76e-06         2.53e-12"
      ]
     },
     "metadata": {},
     "output_type": "display_data"
    }
   ],
   "source": [
    "display(results)"
   ]
  }
 ],
 "metadata": {
  "hide_input": false,
  "kernelspec": {
   "display_name": "Python 3",
   "language": "python",
   "name": "python3"
  },
  "language_info": {
   "codemirror_mode": {
    "name": "ipython",
    "version": 3
   },
   "file_extension": ".py",
   "mimetype": "text/x-python",
   "name": "python",
   "nbconvert_exporter": "python",
   "pygments_lexer": "ipython3",
   "version": "3.8.2"
  },
  "toc": {
   "base_numbering": 1,
   "nav_menu": {},
   "number_sections": true,
   "sideBar": true,
   "skip_h1_title": false,
   "title_cell": "Table of Contents",
   "title_sidebar": "Contents",
   "toc_cell": false,
   "toc_position": {
    "height": "calc(100% - 180px)",
    "left": "10px",
    "top": "150px",
    "width": "165px"
   },
   "toc_section_display": true,
   "toc_window_display": true
  }
 },
 "nbformat": 4,
 "nbformat_minor": 2
}
