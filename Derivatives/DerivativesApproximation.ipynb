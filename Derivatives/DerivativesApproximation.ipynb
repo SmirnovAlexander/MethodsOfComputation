{
 "cells": [
  {
   "cell_type": "markdown",
   "metadata": {},
   "source": [
    "Derivative approximation (p. 43, ex. 5.4, variant 1)."
   ]
  },
  {
   "cell_type": "code",
   "execution_count": 1,
   "metadata": {},
   "outputs": [],
   "source": [
    "import numpy as np\n",
    "from math import sin, exp\n",
    "from scipy import misc\n",
    "from mpmath import diff\n",
    "import pandas as pd "
   ]
  },
  {
   "cell_type": "markdown",
   "metadata": {},
   "source": [
    "# Task 1\n",
    "\n",
    "Approximately count values."
   ]
  },
  {
   "cell_type": "markdown",
   "metadata": {},
   "source": [
    "Making methods which approximately count derivatives."
   ]
  },
  {
   "cell_type": "code",
   "execution_count": 2,
   "metadata": {},
   "outputs": [],
   "source": [
    "# Разность вперёд.\n",
    "def first_derivative_forward_first_error(f, h, x):\n",
    "    return (f(x + h) - f(x))/h\n",
    "    \n",
    "# Разность назад.\n",
    "def first_derivative_backward_first_error(f, h, x):\n",
    "    return (f(x) - f(x - h))/h  \n",
    "\n",
    "# Симметричная разность.\n",
    "def first_derivative_symmetrical_second_error(f, h, x):\n",
    "    return (f(x + h) - f(x - h))/(2*h)  \n",
    "\n",
    "# Разность вперёд, O(h^2).\n",
    "def first_derivative_forward_second_error(f, h, x):\n",
    "    return ((-3)*f(x) + 4*f(x + h) - f(x + 2*h))/(2*h)\n",
    "    \n",
    "# Разность назад, O(h^2).\n",
    "def first_derivative_backward_second_error(f, h, x):\n",
    "    return (3*f(x) - 4*f(x - h) + f(x - 2*h))/(2*h)  \n",
    "\n",
    "# Симметричная разность второй производной, O(h^2).\n",
    "def second_derivative_symmetrical_second_error(f, h, x):\n",
    "    return (f(x + h) - 2*f(x) + f(x - h))/(h**2)  "
   ]
  },
  {
   "cell_type": "markdown",
   "metadata": {},
   "source": [
    "Initial data."
   ]
  },
  {
   "cell_type": "code",
   "execution_count": 3,
   "metadata": {},
   "outputs": [],
   "source": [
    "start = 0\n",
    "end = 1\n",
    "step = 0.1\n",
    "function = lambda x: sin(x)\n",
    "accuracy = 4 # Знаков после запятой."
   ]
  },
  {
   "cell_type": "markdown",
   "metadata": {},
   "source": [
    "Counting values in columns."
   ]
  },
  {
   "cell_type": "code",
   "execution_count": 4,
   "metadata": {},
   "outputs": [],
   "source": [
    "# x.\n",
    "x_list = list(map(lambda x: round(x, accuracy), np.arange(start, end + step, step)))\n",
    "\n",
    "# f(x).\n",
    "f_x_list = [round(function(i), accuracy) for i in x_list]\n",
    "\n",
    "# f'(x).\n",
    "f_derivative = [round(misc.derivative(function, i,  dx=1e-5), accuracy) for i in x_list] \n",
    "\n",
    "# f' O(h)\n",
    "f_first_derivative_first_error = [round(first_derivative_forward_first_error(function, step, i), accuracy) for i in x_list[:-1]]\n",
    "f_first_derivative_first_error.append(round(first_derivative_backward_first_error(function, step, x_list[-1]), accuracy))\n",
    "\n",
    "# погр. O(h).\n",
    "def list_subtraction(x, y):\n",
    "    return list(map(lambda a, b: round(abs(a - b), accuracy), x, y))\n",
    "f_first_error = list_subtraction(f_derivative, f_first_derivative_first_error)\n",
    "\n",
    "# f' O(h^2).\n",
    "f_first_derivative_second_error = [round(first_derivative_forward_second_error(function, step, i), accuracy) for i in x_list[:-1]]\n",
    "f_first_derivative_second_error.append(round(first_derivative_backward_second_error(function, step, x_list[-1]), accuracy))\n",
    "\n",
    "# погр. O(h^2).\n",
    "f_second_error = list_subtraction(f_derivative, f_first_derivative_second_error)\n",
    "\n",
    "# f''(x).\n",
    "f_second_derivative = [round(misc.derivative(function, i,  dx=1e-5, n=2), accuracy) for i in x_list] \n",
    "\n",
    "# f'' O(h^2).\n",
    "f_second_derivative_error = [round(second_derivative_symmetrical_second_error(function, step, i), accuracy) for i in x_list[1:-1]]\n",
    "f_second_derivative_error.insert(0, '-')\n",
    "f_second_derivative_error.append('-')\n",
    "\n",
    "# погр. O(h^2).\n",
    "f_second_derivative_second_error = list_subtraction(f_second_derivative[1:-1], f_second_derivative_error[1:-1])\n",
    "f_second_derivative_second_error.insert(0, '-')\n",
    "f_second_derivative_second_error.append('-')"
   ]
  },
  {
   "cell_type": "markdown",
   "metadata": {},
   "source": [
    "Building dataframe."
   ]
  },
  {
   "cell_type": "code",
   "execution_count": 5,
   "metadata": {},
   "outputs": [
    {
     "data": {
      "text/html": [
       "<style  type=\"text/css\" >\n",
       "</style><table id=\"T_b734e99a_15a2_11ea_a3b9_7c67a2ca122d\" ><thead>    <tr>        <th class=\"col_heading level0 col0\" >x</th>        <th class=\"col_heading level0 col1\" >f(x)</th>        <th class=\"col_heading level0 col2\" >f'(x)</th>        <th class=\"col_heading level0 col3\" >f' O(h)</th>        <th class=\"col_heading level0 col4\" >погр. O(h)</th>        <th class=\"col_heading level0 col5\" >f' O(h^2)</th>        <th class=\"col_heading level0 col6\" >погр. O(h^2)</th>        <th class=\"col_heading level0 col7\" >f''(x)</th>        <th class=\"col_heading level0 col8\" >f'' O(h^2)</th>    </tr></thead><tbody>\n",
       "                <tr>\n",
       "                                <td id=\"T_b734e99a_15a2_11ea_a3b9_7c67a2ca122drow0_col0\" class=\"data row0 col0\" >0</td>\n",
       "                        <td id=\"T_b734e99a_15a2_11ea_a3b9_7c67a2ca122drow0_col1\" class=\"data row0 col1\" >0</td>\n",
       "                        <td id=\"T_b734e99a_15a2_11ea_a3b9_7c67a2ca122drow0_col2\" class=\"data row0 col2\" >1</td>\n",
       "                        <td id=\"T_b734e99a_15a2_11ea_a3b9_7c67a2ca122drow0_col3\" class=\"data row0 col3\" >0.9983</td>\n",
       "                        <td id=\"T_b734e99a_15a2_11ea_a3b9_7c67a2ca122drow0_col4\" class=\"data row0 col4\" >0.0017</td>\n",
       "                        <td id=\"T_b734e99a_15a2_11ea_a3b9_7c67a2ca122drow0_col5\" class=\"data row0 col5\" >1.0033</td>\n",
       "                        <td id=\"T_b734e99a_15a2_11ea_a3b9_7c67a2ca122drow0_col6\" class=\"data row0 col6\" >-</td>\n",
       "                        <td id=\"T_b734e99a_15a2_11ea_a3b9_7c67a2ca122drow0_col7\" class=\"data row0 col7\" >0</td>\n",
       "                        <td id=\"T_b734e99a_15a2_11ea_a3b9_7c67a2ca122drow0_col8\" class=\"data row0 col8\" >-</td>\n",
       "            </tr>\n",
       "            <tr>\n",
       "                                <td id=\"T_b734e99a_15a2_11ea_a3b9_7c67a2ca122drow1_col0\" class=\"data row1 col0\" >0.1</td>\n",
       "                        <td id=\"T_b734e99a_15a2_11ea_a3b9_7c67a2ca122drow1_col1\" class=\"data row1 col1\" >0.0998</td>\n",
       "                        <td id=\"T_b734e99a_15a2_11ea_a3b9_7c67a2ca122drow1_col2\" class=\"data row1 col2\" >0.995</td>\n",
       "                        <td id=\"T_b734e99a_15a2_11ea_a3b9_7c67a2ca122drow1_col3\" class=\"data row1 col3\" >0.9884</td>\n",
       "                        <td id=\"T_b734e99a_15a2_11ea_a3b9_7c67a2ca122drow1_col4\" class=\"data row1 col4\" >0.0066</td>\n",
       "                        <td id=\"T_b734e99a_15a2_11ea_a3b9_7c67a2ca122drow1_col5\" class=\"data row1 col5\" >0.9983</td>\n",
       "                        <td id=\"T_b734e99a_15a2_11ea_a3b9_7c67a2ca122drow1_col6\" class=\"data row1 col6\" >0</td>\n",
       "                        <td id=\"T_b734e99a_15a2_11ea_a3b9_7c67a2ca122drow1_col7\" class=\"data row1 col7\" >-0.0998</td>\n",
       "                        <td id=\"T_b734e99a_15a2_11ea_a3b9_7c67a2ca122drow1_col8\" class=\"data row1 col8\" >-0.0998</td>\n",
       "            </tr>\n",
       "            <tr>\n",
       "                                <td id=\"T_b734e99a_15a2_11ea_a3b9_7c67a2ca122drow2_col0\" class=\"data row2 col0\" >0.2</td>\n",
       "                        <td id=\"T_b734e99a_15a2_11ea_a3b9_7c67a2ca122drow2_col1\" class=\"data row2 col1\" >0.1987</td>\n",
       "                        <td id=\"T_b734e99a_15a2_11ea_a3b9_7c67a2ca122drow2_col2\" class=\"data row2 col2\" >0.9801</td>\n",
       "                        <td id=\"T_b734e99a_15a2_11ea_a3b9_7c67a2ca122drow2_col3\" class=\"data row2 col3\" >0.9685</td>\n",
       "                        <td id=\"T_b734e99a_15a2_11ea_a3b9_7c67a2ca122drow2_col4\" class=\"data row2 col4\" >0.0116</td>\n",
       "                        <td id=\"T_b734e99a_15a2_11ea_a3b9_7c67a2ca122drow2_col5\" class=\"data row2 col5\" >0.9833</td>\n",
       "                        <td id=\"T_b734e99a_15a2_11ea_a3b9_7c67a2ca122drow2_col6\" class=\"data row2 col6\" >0.0002</td>\n",
       "                        <td id=\"T_b734e99a_15a2_11ea_a3b9_7c67a2ca122drow2_col7\" class=\"data row2 col7\" >-0.1987</td>\n",
       "                        <td id=\"T_b734e99a_15a2_11ea_a3b9_7c67a2ca122drow2_col8\" class=\"data row2 col8\" >-0.1985</td>\n",
       "            </tr>\n",
       "            <tr>\n",
       "                                <td id=\"T_b734e99a_15a2_11ea_a3b9_7c67a2ca122drow3_col0\" class=\"data row3 col0\" >0.3</td>\n",
       "                        <td id=\"T_b734e99a_15a2_11ea_a3b9_7c67a2ca122drow3_col1\" class=\"data row3 col1\" >0.2955</td>\n",
       "                        <td id=\"T_b734e99a_15a2_11ea_a3b9_7c67a2ca122drow3_col2\" class=\"data row3 col2\" >0.9553</td>\n",
       "                        <td id=\"T_b734e99a_15a2_11ea_a3b9_7c67a2ca122drow3_col3\" class=\"data row3 col3\" >0.939</td>\n",
       "                        <td id=\"T_b734e99a_15a2_11ea_a3b9_7c67a2ca122drow3_col4\" class=\"data row3 col4\" >0.0163</td>\n",
       "                        <td id=\"T_b734e99a_15a2_11ea_a3b9_7c67a2ca122drow3_col5\" class=\"data row3 col5\" >0.9584</td>\n",
       "                        <td id=\"T_b734e99a_15a2_11ea_a3b9_7c67a2ca122drow3_col6\" class=\"data row3 col6\" >0.0002</td>\n",
       "                        <td id=\"T_b734e99a_15a2_11ea_a3b9_7c67a2ca122drow3_col7\" class=\"data row3 col7\" >-0.2955</td>\n",
       "                        <td id=\"T_b734e99a_15a2_11ea_a3b9_7c67a2ca122drow3_col8\" class=\"data row3 col8\" >-0.2953</td>\n",
       "            </tr>\n",
       "            <tr>\n",
       "                                <td id=\"T_b734e99a_15a2_11ea_a3b9_7c67a2ca122drow4_col0\" class=\"data row4 col0\" >0.4</td>\n",
       "                        <td id=\"T_b734e99a_15a2_11ea_a3b9_7c67a2ca122drow4_col1\" class=\"data row4 col1\" >0.3894</td>\n",
       "                        <td id=\"T_b734e99a_15a2_11ea_a3b9_7c67a2ca122drow4_col2\" class=\"data row4 col2\" >0.9211</td>\n",
       "                        <td id=\"T_b734e99a_15a2_11ea_a3b9_7c67a2ca122drow4_col3\" class=\"data row4 col3\" >0.9001</td>\n",
       "                        <td id=\"T_b734e99a_15a2_11ea_a3b9_7c67a2ca122drow4_col4\" class=\"data row4 col4\" >0.021</td>\n",
       "                        <td id=\"T_b734e99a_15a2_11ea_a3b9_7c67a2ca122drow4_col5\" class=\"data row4 col5\" >0.924</td>\n",
       "                        <td id=\"T_b734e99a_15a2_11ea_a3b9_7c67a2ca122drow4_col6\" class=\"data row4 col6\" >0.0003</td>\n",
       "                        <td id=\"T_b734e99a_15a2_11ea_a3b9_7c67a2ca122drow4_col7\" class=\"data row4 col7\" >-0.3894</td>\n",
       "                        <td id=\"T_b734e99a_15a2_11ea_a3b9_7c67a2ca122drow4_col8\" class=\"data row4 col8\" >-0.3891</td>\n",
       "            </tr>\n",
       "            <tr>\n",
       "                                <td id=\"T_b734e99a_15a2_11ea_a3b9_7c67a2ca122drow5_col0\" class=\"data row5 col0\" >0.5</td>\n",
       "                        <td id=\"T_b734e99a_15a2_11ea_a3b9_7c67a2ca122drow5_col1\" class=\"data row5 col1\" >0.4794</td>\n",
       "                        <td id=\"T_b734e99a_15a2_11ea_a3b9_7c67a2ca122drow5_col2\" class=\"data row5 col2\" >0.8776</td>\n",
       "                        <td id=\"T_b734e99a_15a2_11ea_a3b9_7c67a2ca122drow5_col3\" class=\"data row5 col3\" >0.8522</td>\n",
       "                        <td id=\"T_b734e99a_15a2_11ea_a3b9_7c67a2ca122drow5_col4\" class=\"data row5 col4\" >0.0254</td>\n",
       "                        <td id=\"T_b734e99a_15a2_11ea_a3b9_7c67a2ca122drow5_col5\" class=\"data row5 col5\" >0.8804</td>\n",
       "                        <td id=\"T_b734e99a_15a2_11ea_a3b9_7c67a2ca122drow5_col6\" class=\"data row5 col6\" >0.0004</td>\n",
       "                        <td id=\"T_b734e99a_15a2_11ea_a3b9_7c67a2ca122drow5_col7\" class=\"data row5 col7\" >-0.4794</td>\n",
       "                        <td id=\"T_b734e99a_15a2_11ea_a3b9_7c67a2ca122drow5_col8\" class=\"data row5 col8\" >-0.479</td>\n",
       "            </tr>\n",
       "            <tr>\n",
       "                                <td id=\"T_b734e99a_15a2_11ea_a3b9_7c67a2ca122drow6_col0\" class=\"data row6 col0\" >0.6</td>\n",
       "                        <td id=\"T_b734e99a_15a2_11ea_a3b9_7c67a2ca122drow6_col1\" class=\"data row6 col1\" >0.5646</td>\n",
       "                        <td id=\"T_b734e99a_15a2_11ea_a3b9_7c67a2ca122drow6_col2\" class=\"data row6 col2\" >0.8253</td>\n",
       "                        <td id=\"T_b734e99a_15a2_11ea_a3b9_7c67a2ca122drow6_col3\" class=\"data row6 col3\" >0.7958</td>\n",
       "                        <td id=\"T_b734e99a_15a2_11ea_a3b9_7c67a2ca122drow6_col4\" class=\"data row6 col4\" >0.0295</td>\n",
       "                        <td id=\"T_b734e99a_15a2_11ea_a3b9_7c67a2ca122drow6_col5\" class=\"data row6 col5\" >0.8279</td>\n",
       "                        <td id=\"T_b734e99a_15a2_11ea_a3b9_7c67a2ca122drow6_col6\" class=\"data row6 col6\" >0.0004</td>\n",
       "                        <td id=\"T_b734e99a_15a2_11ea_a3b9_7c67a2ca122drow6_col7\" class=\"data row6 col7\" >-0.5646</td>\n",
       "                        <td id=\"T_b734e99a_15a2_11ea_a3b9_7c67a2ca122drow6_col8\" class=\"data row6 col8\" >-0.5642</td>\n",
       "            </tr>\n",
       "            <tr>\n",
       "                                <td id=\"T_b734e99a_15a2_11ea_a3b9_7c67a2ca122drow7_col0\" class=\"data row7 col0\" >0.7</td>\n",
       "                        <td id=\"T_b734e99a_15a2_11ea_a3b9_7c67a2ca122drow7_col1\" class=\"data row7 col1\" >0.6442</td>\n",
       "                        <td id=\"T_b734e99a_15a2_11ea_a3b9_7c67a2ca122drow7_col2\" class=\"data row7 col2\" >0.7648</td>\n",
       "                        <td id=\"T_b734e99a_15a2_11ea_a3b9_7c67a2ca122drow7_col3\" class=\"data row7 col3\" >0.7314</td>\n",
       "                        <td id=\"T_b734e99a_15a2_11ea_a3b9_7c67a2ca122drow7_col4\" class=\"data row7 col4\" >0.0334</td>\n",
       "                        <td id=\"T_b734e99a_15a2_11ea_a3b9_7c67a2ca122drow7_col5\" class=\"data row7 col5\" >0.7672</td>\n",
       "                        <td id=\"T_b734e99a_15a2_11ea_a3b9_7c67a2ca122drow7_col6\" class=\"data row7 col6\" >0.0005</td>\n",
       "                        <td id=\"T_b734e99a_15a2_11ea_a3b9_7c67a2ca122drow7_col7\" class=\"data row7 col7\" >-0.6442</td>\n",
       "                        <td id=\"T_b734e99a_15a2_11ea_a3b9_7c67a2ca122drow7_col8\" class=\"data row7 col8\" >-0.6437</td>\n",
       "            </tr>\n",
       "            <tr>\n",
       "                                <td id=\"T_b734e99a_15a2_11ea_a3b9_7c67a2ca122drow8_col0\" class=\"data row8 col0\" >0.8</td>\n",
       "                        <td id=\"T_b734e99a_15a2_11ea_a3b9_7c67a2ca122drow8_col1\" class=\"data row8 col1\" >0.7174</td>\n",
       "                        <td id=\"T_b734e99a_15a2_11ea_a3b9_7c67a2ca122drow8_col2\" class=\"data row8 col2\" >0.6967</td>\n",
       "                        <td id=\"T_b734e99a_15a2_11ea_a3b9_7c67a2ca122drow8_col3\" class=\"data row8 col3\" >0.6597</td>\n",
       "                        <td id=\"T_b734e99a_15a2_11ea_a3b9_7c67a2ca122drow8_col4\" class=\"data row8 col4\" >0.037</td>\n",
       "                        <td id=\"T_b734e99a_15a2_11ea_a3b9_7c67a2ca122drow8_col5\" class=\"data row8 col5\" >0.6988</td>\n",
       "                        <td id=\"T_b734e99a_15a2_11ea_a3b9_7c67a2ca122drow8_col6\" class=\"data row8 col6\" >0.0006</td>\n",
       "                        <td id=\"T_b734e99a_15a2_11ea_a3b9_7c67a2ca122drow8_col7\" class=\"data row8 col7\" >-0.7174</td>\n",
       "                        <td id=\"T_b734e99a_15a2_11ea_a3b9_7c67a2ca122drow8_col8\" class=\"data row8 col8\" >-0.7168</td>\n",
       "            </tr>\n",
       "            <tr>\n",
       "                                <td id=\"T_b734e99a_15a2_11ea_a3b9_7c67a2ca122drow9_col0\" class=\"data row9 col0\" >0.9</td>\n",
       "                        <td id=\"T_b734e99a_15a2_11ea_a3b9_7c67a2ca122drow9_col1\" class=\"data row9 col1\" >0.7833</td>\n",
       "                        <td id=\"T_b734e99a_15a2_11ea_a3b9_7c67a2ca122drow9_col2\" class=\"data row9 col2\" >0.6216</td>\n",
       "                        <td id=\"T_b734e99a_15a2_11ea_a3b9_7c67a2ca122drow9_col3\" class=\"data row9 col3\" >0.5814</td>\n",
       "                        <td id=\"T_b734e99a_15a2_11ea_a3b9_7c67a2ca122drow9_col4\" class=\"data row9 col4\" >0.0402</td>\n",
       "                        <td id=\"T_b734e99a_15a2_11ea_a3b9_7c67a2ca122drow9_col5\" class=\"data row9 col5\" >0.6235</td>\n",
       "                        <td id=\"T_b734e99a_15a2_11ea_a3b9_7c67a2ca122drow9_col6\" class=\"data row9 col6\" >0.0006</td>\n",
       "                        <td id=\"T_b734e99a_15a2_11ea_a3b9_7c67a2ca122drow9_col7\" class=\"data row9 col7\" >-0.7833</td>\n",
       "                        <td id=\"T_b734e99a_15a2_11ea_a3b9_7c67a2ca122drow9_col8\" class=\"data row9 col8\" >-0.7827</td>\n",
       "            </tr>\n",
       "            <tr>\n",
       "                                <td id=\"T_b734e99a_15a2_11ea_a3b9_7c67a2ca122drow10_col0\" class=\"data row10 col0\" >1</td>\n",
       "                        <td id=\"T_b734e99a_15a2_11ea_a3b9_7c67a2ca122drow10_col1\" class=\"data row10 col1\" >0.8415</td>\n",
       "                        <td id=\"T_b734e99a_15a2_11ea_a3b9_7c67a2ca122drow10_col2\" class=\"data row10 col2\" >0.5403</td>\n",
       "                        <td id=\"T_b734e99a_15a2_11ea_a3b9_7c67a2ca122drow10_col3\" class=\"data row10 col3\" >0.5814</td>\n",
       "                        <td id=\"T_b734e99a_15a2_11ea_a3b9_7c67a2ca122drow10_col4\" class=\"data row10 col4\" >0.0411</td>\n",
       "                        <td id=\"T_b734e99a_15a2_11ea_a3b9_7c67a2ca122drow10_col5\" class=\"data row10 col5\" >0.5423</td>\n",
       "                        <td id=\"T_b734e99a_15a2_11ea_a3b9_7c67a2ca122drow10_col6\" class=\"data row10 col6\" >-</td>\n",
       "                        <td id=\"T_b734e99a_15a2_11ea_a3b9_7c67a2ca122drow10_col7\" class=\"data row10 col7\" >-0.8415</td>\n",
       "                        <td id=\"T_b734e99a_15a2_11ea_a3b9_7c67a2ca122drow10_col8\" class=\"data row10 col8\" >-</td>\n",
       "            </tr>\n",
       "    </tbody></table>"
      ],
      "text/plain": [
       "<pandas.io.formats.style.Styler at 0x7fb4e3310c90>"
      ]
     },
     "metadata": {},
     "output_type": "display_data"
    }
   ],
   "source": [
    "df = pd.DataFrame()\n",
    "column_names = [\"x\", \"f(x)\", \"f'(x)\", \"f' O(h)\", \"погр. O(h)\", \"f' O(h^2)\", \"погр. O(h^2)\", \"f''(x)\", \"f'' O(h^2)\", \"погр. O(h^2)\"]\n",
    "\n",
    "df[column_names[0]] = x_list\n",
    "df[column_names[1]] = f_x_list\n",
    "df[column_names[2]] = f_derivative\n",
    "df[column_names[3]] = f_first_derivative_first_error\n",
    "df[column_names[4]] = f_first_error\n",
    "df[column_names[5]] = f_first_derivative_second_error\n",
    "df[column_names[6]] = f_second_error\n",
    "df[column_names[7]] = f_second_derivative\n",
    "df[column_names[8]] = f_second_derivative_error\n",
    "df[column_names[9]] = f_second_derivative_second_error\n",
    "\n",
    "display(df.style.hide_index())"
   ]
  },
  {
   "cell_type": "markdown",
   "metadata": {},
   "source": [
    "# Task 2\n",
    "\n",
    "Count step experimentally and theoretically."
   ]
  },
  {
   "cell_type": "markdown",
   "metadata": {},
   "source": [
    "Initial data."
   ]
  },
  {
   "cell_type": "code",
   "execution_count": 20,
   "metadata": {},
   "outputs": [],
   "source": [
    "point = 1\n",
    "step = 0.1\n",
    "step_loss = 0.5\n",
    "step_num = 6\n",
    "function = lambda x: round(exp(2*x), 5)\n",
    "function_derivative = lambda x: round(2*exp(2*x), 5)\n",
    "accuracy = 5e-6 # Знаков после запятой."
   ]
  },
  {
   "cell_type": "code",
   "execution_count": 23,
   "metadata": {},
   "outputs": [],
   "source": [
    "# Exact derivateive value.\n",
    "f_derivative = function_derivative(point)"
   ]
  },
  {
   "cell_type": "markdown",
   "metadata": {},
   "source": [
    "Посчитаем значения в строчках."
   ]
  },
  {
   "cell_type": "code",
   "execution_count": 24,
   "metadata": {},
   "outputs": [],
   "source": [
    "# Шаги h.\n",
    "steps = [step*step_loss**(i) for i in range(step_num)]\n",
    "\n",
    "# Приближённые значения производной f' пор. O(h^2).\n",
    "approx_values = [round(first_derivative_forward_second_error(function, h, point), 4) for h in steps]\n",
    "\n",
    "# Погрешность\n",
    "error = [f_derivative - value for value in approx_values]"
   ]
  },
  {
   "cell_type": "markdown",
   "metadata": {},
   "source": [
    "Building dataframe."
   ]
  },
  {
   "cell_type": "code",
   "execution_count": 26,
   "metadata": {},
   "outputs": [
    {
     "data": {
      "text/html": [
       "<div>\n",
       "<style scoped>\n",
       "    .dataframe tbody tr th:only-of-type {\n",
       "        vertical-align: middle;\n",
       "    }\n",
       "\n",
       "    .dataframe tbody tr th {\n",
       "        vertical-align: top;\n",
       "    }\n",
       "\n",
       "    .dataframe thead th {\n",
       "        text-align: right;\n",
       "    }\n",
       "</style>\n",
       "<table border=\"1\" class=\"dataframe\">\n",
       "  <thead>\n",
       "    <tr style=\"text-align: right;\">\n",
       "      <th></th>\n",
       "      <th>1</th>\n",
       "      <th>2</th>\n",
       "      <th>3</th>\n",
       "      <th>4</th>\n",
       "      <th>5</th>\n",
       "      <th>6</th>\n",
       "    </tr>\n",
       "    <tr>\n",
       "      <th>0</th>\n",
       "      <th></th>\n",
       "      <th></th>\n",
       "      <th></th>\n",
       "      <th></th>\n",
       "      <th></th>\n",
       "      <th></th>\n",
       "    </tr>\n",
       "  </thead>\n",
       "  <tbody>\n",
       "    <tr>\n",
       "      <th>h</th>\n",
       "      <td>0.10000</td>\n",
       "      <td>0.05000</td>\n",
       "      <td>0.02500</td>\n",
       "      <td>0.01250</td>\n",
       "      <td>0.00625</td>\n",
       "      <td>0.003125</td>\n",
       "    </tr>\n",
       "    <tr>\n",
       "      <th>f_x пор. O(h^2)</th>\n",
       "      <td>14.54840</td>\n",
       "      <td>14.72490</td>\n",
       "      <td>14.76500</td>\n",
       "      <td>14.77440</td>\n",
       "      <td>14.77680</td>\n",
       "      <td>14.774400</td>\n",
       "    </tr>\n",
       "    <tr>\n",
       "      <th>погр.</th>\n",
       "      <td>0.22971</td>\n",
       "      <td>0.05321</td>\n",
       "      <td>0.01311</td>\n",
       "      <td>0.00371</td>\n",
       "      <td>0.00131</td>\n",
       "      <td>0.003710</td>\n",
       "    </tr>\n",
       "  </tbody>\n",
       "</table>\n",
       "</div>"
      ],
      "text/plain": [
       "                        1         2         3         4         5          6\n",
       "0                                                                           \n",
       "h                 0.10000   0.05000   0.02500   0.01250   0.00625   0.003125\n",
       "f_x пор. O(h^2)  14.54840  14.72490  14.76500  14.77440  14.77680  14.774400\n",
       "погр.             0.22971   0.05321   0.01311   0.00371   0.00131   0.003710"
      ]
     },
     "metadata": {},
     "output_type": "display_data"
    }
   ],
   "source": [
    "df = pd.DataFrame()\n",
    "df = df.reindex(columns = range(step_num + 1))\n",
    "\n",
    "\n",
    "row_names = [\"h\", \"f_x пор. O(h^2)\", \"погр.\"]\n",
    "df.loc[1] = [row_names[0]] + steps\n",
    "df.loc[2] = [row_names[1]] + approx_values\n",
    "df.loc[3] = [row_names[2]] + error\n",
    "\n",
    "df.set_index(0, inplace=True)\n",
    "display(df)"
   ]
  }
 ],
 "metadata": {
  "hide_input": false,
  "kernelspec": {
   "display_name": "Python 3",
   "language": "python",
   "name": "python3"
  },
  "language_info": {
   "codemirror_mode": {
    "name": "ipython",
    "version": 3
   },
   "file_extension": ".py",
   "mimetype": "text/x-python",
   "name": "python",
   "nbconvert_exporter": "python",
   "pygments_lexer": "ipython3",
   "version": "3.7.4"
  },
  "toc": {
   "base_numbering": 1,
   "nav_menu": {},
   "number_sections": true,
   "sideBar": false,
   "skip_h1_title": false,
   "title_cell": "Table of Contents",
   "title_sidebar": "Contents",
   "toc_cell": false,
   "toc_position": {},
   "toc_section_display": true,
   "toc_window_display": false
  }
 },
 "nbformat": 4,
 "nbformat_minor": 2
}
