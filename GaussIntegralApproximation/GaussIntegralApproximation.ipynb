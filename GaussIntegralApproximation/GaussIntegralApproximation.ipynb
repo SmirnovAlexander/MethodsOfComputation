{
 "cells": [
  {
   "cell_type": "markdown",
   "metadata": {},
   "source": [
    "Gauss type formulas (p. 57, ex. 7.4)"
   ]
  },
  {
   "cell_type": "markdown",
   "metadata": {},
   "source": [
    "You should count:\n",
    "$$\\int_{0}^{1} \\frac{\\cos{(x)}}{\\sqrt{x}} dx$$"
   ]
  },
  {
   "cell_type": "markdown",
   "metadata": {},
   "source": [
    "# Initialization "
   ]
  },
  {
   "cell_type": "code",
   "execution_count": 1,
   "metadata": {},
   "outputs": [],
   "source": [
    "import numpy as np\n",
    "import pandas as pd\n",
    "\n",
    "from scipy import integrate"
   ]
  },
  {
   "cell_type": "code",
   "execution_count": 2,
   "metadata": {},
   "outputs": [],
   "source": [
    "# Initial function.\n",
    "def initial_function(x):\n",
    "    return np.cos(x) / np.sqrt(x)"
   ]
  },
  {
   "cell_type": "code",
   "execution_count": 3,
   "metadata": {},
   "outputs": [],
   "source": [
    "# Weight function.\n",
    "def r(x):\n",
    "    return 1 / np.sqrt(x)"
   ]
  },
  {
   "cell_type": "code",
   "execution_count": 4,
   "metadata": {},
   "outputs": [],
   "source": [
    "# Function to integrate.\n",
    "def f(x):\n",
    "    return np.cos(x)"
   ]
  },
  {
   "cell_type": "markdown",
   "metadata": {},
   "source": [
    "# Exact value "
   ]
  },
  {
   "cell_type": "code",
   "execution_count": 5,
   "metadata": {},
   "outputs": [
    {
     "name": "stdout",
     "output_type": "stream",
     "text": [
      "Exact integral value: 1.80905\n"
     ]
    }
   ],
   "source": [
    "# Exact integral value.\n",
    "I = integrate.quad(initial_function, 0, 1)[0]\n",
    "print(\"Exact integral value: {:.5f}\".format(I))"
   ]
  },
  {
   "cell_type": "markdown",
   "metadata": {},
   "source": [
    "# Middle rectagles rule "
   ]
  },
  {
   "cell_type": "code",
   "execution_count": 6,
   "metadata": {},
   "outputs": [],
   "source": [
    "def middle_rectangles(f, N, a=0, b=1):\n",
    "    \"\"\"Composite middle triangles formula.\n",
    "    \n",
    "    Args:\n",
    "        f: Function that we want to count integral from.\n",
    "        N (int): Number of partitions.\n",
    "        a, b (int, int): Bounds.\n",
    "        \n",
    "    Returns:\n",
    "        result (float): Approximate integral value.\n",
    "    \"\"\"\n",
    "    \n",
    "    # Length of part split.\n",
    "    h = (b - a) / N\n",
    "    \n",
    "    # Points.\n",
    "    x = np.array([a + (h / 2) + (k - 1) * h for k in range(1, N + 1)])\n",
    "    \n",
    "    # Values in points.\n",
    "    y = f(x)\n",
    "    \n",
    "    # Integral value.\n",
    "    result = h * np.sum(y)\n",
    "\n",
    "    return result"
   ]
  },
  {
   "cell_type": "code",
   "execution_count": 7,
   "metadata": {},
   "outputs": [
    {
     "name": "stdout",
     "output_type": "stream",
     "text": [
      "Integral value using middle rectangles rule with 2 partitions: 1.24109\n"
     ]
    }
   ],
   "source": [
    "# Integral value using middle rectangles rule.\n",
    "I_R = middle_rectangles(initial_function, 1)\n",
    "print(\"Integral value using middle rectangles rule with 2 partitions: {:.5f}\".format(I_R))"
   ]
  },
  {
   "cell_type": "markdown",
   "metadata": {},
   "source": [
    "# Interpolation formula "
   ]
  },
  {
   "cell_type": "markdown",
   "metadata": {},
   "source": [
    "Build interpolation formula with weight $\\dfrac{1}{\\sqrt{x}}$ by nodes $x_1 = \\dfrac{1}{4}, x_2 = \\dfrac{3}{4}$ and count integral value using this formula."
   ]
  },
  {
   "cell_type": "code",
   "execution_count": 8,
   "metadata": {},
   "outputs": [],
   "source": [
    "# Initializing nodes.\n",
    "x1 = 1/4\n",
    "x2 = 3/4"
   ]
  },
  {
   "cell_type": "code",
   "execution_count": 9,
   "metadata": {},
   "outputs": [
    {
     "name": "stdout",
     "output_type": "stream",
     "text": [
      "Cubature formula coefficents are: \n",
      "A1=1.66667\n",
      "A2=0.33333\n",
      "\n"
     ]
    }
   ],
   "source": [
    "# Calculating cubature formula coefficents.\n",
    "A1 = integrate.quad(lambda x: r(x) * (x - x2) / (x1 - x2), 0, 1)[0]\n",
    "A2 = integrate.quad(lambda x: r(x) * (x - x1) / (x2 - x1), 0, 1)[0]\n",
    "print(\"Cubature formula coefficents are: \\nA1={:.5f}\\nA2={:.5f}\\n\".format(A1, A2))"
   ]
  },
  {
   "cell_type": "code",
   "execution_count": 10,
   "metadata": {},
   "outputs": [
    {
     "name": "stdout",
     "output_type": "stream",
     "text": [
      "Integral value using Gauss type formula: \n",
      "1.85875\n",
      "\n"
     ]
    }
   ],
   "source": [
    "# Approximate integral value using interpolation formula.\n",
    "I_I = A1*f(x1) + A2*f(x2)\n",
    "print(\"Integral value using Gauss type formula: \\n{:.5f}\\n\".format(I_I))"
   ]
  },
  {
   "cell_type": "markdown",
   "metadata": {},
   "source": [
    "# Gauss formula"
   ]
  },
  {
   "cell_type": "code",
   "execution_count": 11,
   "metadata": {},
   "outputs": [],
   "source": [
    "# Integral function after variable replacement.\n",
    "def g(t):\n",
    "    return initial_function(0.5 * t + 0.5) "
   ]
  },
  {
   "cell_type": "code",
   "execution_count": 12,
   "metadata": {},
   "outputs": [
    {
     "name": "stdout",
     "output_type": "stream",
     "text": [
      "Integral value using Gauss formula: \n",
      "1.46027\n",
      "\n"
     ]
    }
   ],
   "source": [
    "# Approximate integral value using Gauss formula.\n",
    "I_G = 0.5 * (g(-(1 / np.sqrt(3))) + g(1 / np.sqrt(3)))\n",
    "print(\"Integral value using Gauss formula: \\n{:.5f}\\n\".format(I_G))"
   ]
  },
  {
   "cell_type": "markdown",
   "metadata": {},
   "source": [
    "# Gauss type formula "
   ]
  },
  {
   "cell_type": "markdown",
   "metadata": {},
   "source": [
    "Build Gauss type formula with 2 nodes."
   ]
  },
  {
   "cell_type": "code",
   "execution_count": 13,
   "metadata": {},
   "outputs": [
    {
     "name": "stdout",
     "output_type": "stream",
     "text": [
      "Moments are: \n",
      "[2.      0.66667 0.4     0.28571]\n",
      "\n",
      "Coefficents are: \n",
      "a1=-0.85714\n",
      "a2=0.08571\n",
      "\n",
      "Nodes are: \n",
      "x1=0.74156\n",
      "x2=0.11559\n",
      "\n",
      "Cubature formula coefficents are: \n",
      "A1=0.69571\n",
      "A2=1.30429\n",
      "\n"
     ]
    }
   ],
   "source": [
    "# Calculating moments.\n",
    "moments = [integrate.quad(lambda x: r(x) * x**k, 0, 1)[0] for k in range(4)]\n",
    "print(\"Moments are: \\n{}\\n\".format(np.round(moments, 5)))\n",
    "\n",
    "# Calculating coefficents.\n",
    "A = np.array([moments[1], moments[0], moments[2], moments[1]]).reshape(2, 2)\n",
    "b = np.array([-moments[2], -moments[3]]).reshape(2, 1)\n",
    "x = np.linalg.solve(A, b)\n",
    "a1, a2 = x[:, 0]\n",
    "print(\"Coefficents are: \\na1={:.5f}\\na2={:.5f}\\n\".format(a1, a2))\n",
    "\n",
    "# Calculating nodes.\n",
    "nodes = np.roots([1, a1, a2])\n",
    "x1, x2 = nodes\n",
    "print(\"Nodes are: \\nx1={:.5f}\\nx2={:.5f}\\n\".format(x1, x2))\n",
    "\n",
    "# Calculating cubature formula coefficents.\n",
    "A1 = integrate.quad(lambda x: r(x) * (x - x2) / (x1 - x2), 0, 1)[0]\n",
    "A2 = integrate.quad(lambda x: r(x) * (x - x1) / (x2 - x1), 0, 1)[0]\n",
    "print(\"Cubature formula coefficents are: \\nA1={:.5f}\\nA2={:.5f}\\n\".format(A1, A2))"
   ]
  },
  {
   "cell_type": "code",
   "execution_count": 14,
   "metadata": {},
   "outputs": [
    {
     "name": "stdout",
     "output_type": "stream",
     "text": [
      "Integral value using Gauss type formula: \n",
      "1.80862\n",
      "\n"
     ]
    }
   ],
   "source": [
    "# Approximate integral value using Gauss type formula.\n",
    "I_GT = A1*f(x1) + A2*f(x2)\n",
    "print(\"Integral value using Gauss type formula: \\n{:.5f}\\n\".format(I_GT))"
   ]
  },
  {
   "cell_type": "markdown",
   "metadata": {},
   "source": [
    "# Building results "
   ]
  },
  {
   "cell_type": "code",
   "execution_count": 15,
   "metadata": {},
   "outputs": [
    {
     "data": {
      "text/html": [
       "<div>\n",
       "<style scoped>\n",
       "    .dataframe tbody tr th:only-of-type {\n",
       "        vertical-align: middle;\n",
       "    }\n",
       "\n",
       "    .dataframe tbody tr th {\n",
       "        vertical-align: top;\n",
       "    }\n",
       "\n",
       "    .dataframe thead th {\n",
       "        text-align: right;\n",
       "    }\n",
       "</style>\n",
       "<table border=\"1\" class=\"dataframe\">\n",
       "  <thead>\n",
       "    <tr style=\"text-align: right;\">\n",
       "      <th></th>\n",
       "      <th>Значение</th>\n",
       "      <th>Погрешность</th>\n",
       "    </tr>\n",
       "    <tr>\n",
       "      <th>Метод</th>\n",
       "      <th></th>\n",
       "      <th></th>\n",
       "    </tr>\n",
       "  </thead>\n",
       "  <tbody>\n",
       "    <tr>\n",
       "      <th>Точно</th>\n",
       "      <td>1.809048</td>\n",
       "      <td>0.000000</td>\n",
       "    </tr>\n",
       "    <tr>\n",
       "      <th>Ср. прямоуг.</th>\n",
       "      <td>1.241089</td>\n",
       "      <td>0.567959</td>\n",
       "    </tr>\n",
       "    <tr>\n",
       "      <th>Интерп. формула</th>\n",
       "      <td>1.858750</td>\n",
       "      <td>0.049702</td>\n",
       "    </tr>\n",
       "    <tr>\n",
       "      <th>Формула Гаусса</th>\n",
       "      <td>1.460273</td>\n",
       "      <td>0.348775</td>\n",
       "    </tr>\n",
       "    <tr>\n",
       "      <th>Формула типа Гаусса</th>\n",
       "      <td>1.808616</td>\n",
       "      <td>0.000432</td>\n",
       "    </tr>\n",
       "  </tbody>\n",
       "</table>\n",
       "</div>"
      ],
      "text/plain": [
       "                     Значение  Погрешность\n",
       "Метод                                     \n",
       "Точно                1.809048     0.000000\n",
       "Ср. прямоуг.         1.241089     0.567959\n",
       "Интерп. формула      1.858750     0.049702\n",
       "Формула Гаусса       1.460273     0.348775\n",
       "Формула типа Гаусса  1.808616     0.000432"
      ]
     },
     "metadata": {},
     "output_type": "display_data"
    }
   ],
   "source": [
    "# Initializing columns.\n",
    "ways = ['Точно', 'Ср. прямоуг.', 'Интерп. формула', 'Формула Гаусса', 'Формула типа Гаусса']\n",
    "values = np.array([I, I_R, I_I, I_G, I_GT])\n",
    "errors = np.abs(I - values)\n",
    "\n",
    "# Building dataframe.\n",
    "results = pd.DataFrame()\n",
    "results['Метод'] = ways\n",
    "results['Значение'] = values\n",
    "results['Погрешность'] = errors\n",
    "\n",
    "display(results.set_index('Метод'))"
   ]
  }
 ],
 "metadata": {
  "hide_input": false,
  "kernelspec": {
   "display_name": "Python 3",
   "language": "python",
   "name": "python3"
  },
  "language_info": {
   "codemirror_mode": {
    "name": "ipython",
    "version": 3
   },
   "file_extension": ".py",
   "mimetype": "text/x-python",
   "name": "python",
   "nbconvert_exporter": "python",
   "pygments_lexer": "ipython3",
   "version": "3.7.4"
  },
  "toc": {
   "base_numbering": 1,
   "nav_menu": {},
   "number_sections": true,
   "sideBar": false,
   "skip_h1_title": false,
   "title_cell": "Table of Contents",
   "title_sidebar": "Contents",
   "toc_cell": false,
   "toc_position": {},
   "toc_section_display": false,
   "toc_window_display": true
  }
 },
 "nbformat": 4,
 "nbformat_minor": 2
}
